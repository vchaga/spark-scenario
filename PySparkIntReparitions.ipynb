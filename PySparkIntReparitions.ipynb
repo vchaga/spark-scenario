{
 "cells": [
  {
   "cell_type": "code",
   "execution_count": 2,
   "id": "fa84cdbf",
   "metadata": {},
   "outputs": [],
   "source": [
    "import findspark\n",
    "findspark.init()"
   ]
  },
  {
   "cell_type": "code",
   "execution_count": 3,
   "id": "87cd9942",
   "metadata": {},
   "outputs": [],
   "source": [
    "from pyspark.sql import SparkSession\n",
    "from pyspark.sql.functions import *\n",
    "\n",
    "spark = SparkSession.builder.master(\"local\").appName(\"SparkPartition\").getOrCreate()\n",
    "sc = spark.sparkContext"
   ]
  },
  {
   "cell_type": "code",
   "execution_count": 4,
   "id": "f024d7a4",
   "metadata": {},
   "outputs": [
    {
     "name": "stdout",
     "output_type": "stream",
     "text": [
      "+---------+-----------------+------------+------+---------------+---------------+--------------+---------------+-------------+--------------+------------------------+----------------------+---------------------+------------+-------------------+---------------+--------------------+---------------+--------------+-------------------+---------------------+\n",
      "|CLIENTNUM|   Attrition_Flag|Customer_Age|Gender|Dependent_count|Education_Level|Marital_Status|Income_Category|Card_Category|Months_on_book|Total_Relationship_Count|Months_Inactive_12_mon|Contacts_Count_12_mon|Credit_Limit|Total_Revolving_Bal|Avg_Open_To_Buy|Total_Amt_Chng_Q4_Q1|Total_Trans_Amt|Total_Trans_Ct|Total_Ct_Chng_Q4_Q1|Avg_Utilization_Ratio|\n",
      "+---------+-----------------+------------+------+---------------+---------------+--------------+---------------+-------------+--------------+------------------------+----------------------+---------------------+------------+-------------------+---------------+--------------------+---------------+--------------+-------------------+---------------------+\n",
      "|711947358|Existing Customer|          49|     M|              4|     Uneducated|       Married|        $120K +|         Blue|            38|                       2|                     3|                    1|       18991|               1208|          17783|               0.727|           7716|            83|              0.804|                0.064|\n",
      "|721349883|Existing Customer|          51|     F|              4|       Graduate|        Single| Less than $40K|         Blue|            39|                       3|                     2|                    1|        2847|               2082|            765|               0.787|           3672|            59|              0.553|                0.731|\n",
      "|716870583|Existing Customer|          36|     F|              3|        Unknown|       Married| Less than $40K|         Blue|            36|                       6|                     5|                    3|        2786|               1628|           1158|               1.314|           2853|            55|              0.667|                0.584|\n",
      "|713809833|Existing Customer|          42|     F|              3|       Graduate|       Unknown|        Unknown|         Blue|            32|                       2|                     3|                    2|        9749|                859|           8890|               0.584|           4684|            86|              0.623|                0.088|\n",
      "|720292983|Existing Customer|          60|     F|              0|       Graduate|       Married| Less than $40K|         Blue|            51|                       6|                     1|                    2|        2230|               1796|            434|               0.637|           4929|            61|              0.488|                0.805|\n",
      "|718109808|Existing Customer|          38|     M|              5|        College|        Single|    $60K - $80K|         Blue|            25|                       4|                     3|                    0|        5597|               1118|           4479|               0.753|           4599|            89|              0.648|                  0.2|\n",
      "|712013808|Existing Customer|          44|     F|              4|     Uneducated|        Single|        Unknown|         Blue|            24|                       6|                     3|                    2|        2717|               1720|            997|               0.869|           4196|            71|              0.614|                0.633|\n",
      "|718993533|Existing Customer|          44|     M|              2|       Graduate|       Unknown|   $80K - $120K|         Blue|            37|                       2|                     3|                    0|       15821|               1334|          14487|                0.81|           8927|           103|              0.635|                0.084|\n",
      "|710780883|Existing Customer|          48|     F|              5|     Uneducated|        Single|    $40K - $60K|         Blue|            38|                       1|                     2|                    3|        2446|               1461|            985|                0.86|           4610|            78|              0.773|                0.597|\n",
      "|712027683|Existing Customer|          47|     F|              2|      Doctorate|       Married| Less than $40K|         Blue|            35|                       3|                     2|                    2|        5544|               1184|           4360|                0.85|           1336|            38|              0.652|                0.214|\n",
      "|709711758|Attrited Customer|          45|     F|              3|     Uneducated|      Divorced| Less than $40K|         Blue|            32|                       3|                     2|                    2|        1942|                  0|           1942|               0.366|           1853|            31|              0.107|                    0|\n",
      "|719453283|Existing Customer|          45|     F|              2|     Uneducated|       Married| Less than $40K|         Blue|            36|                       3|                     4|                    3|        2918|               1597|           1321|               0.884|           4454|            76|                0.9|                0.547|\n",
      "|772813458|Existing Customer|          48|     F|              3|       Graduate|       Married|        Unknown|         Blue|            39|                       3|                     1|                    2|        6130|               1741|           4389|               0.578|           4264|            63|              0.658|                0.284|\n",
      "|718282983|Existing Customer|          60|     M|              0|        College|       Unknown| Less than $40K|         Blue|            47|                       6|                     3|                    3|        3076|               2257|            819|               0.795|           4522|            75|              0.471|                0.734|\n",
      "|771516333|Existing Customer|          41|     F|              2|       Graduate|       Unknown|    $40K - $60K|         Blue|            29|                       6|                     2|                    3|        4663|                  0|           4663|               0.892|           3831|            81|              0.761|                    0|\n",
      "|779980758|Existing Customer|          58|     M|              2|    High School|      Divorced|    $60K - $80K|         Blue|            46|                       6|                     2|                    0|        2467|               1176|           1291|               0.811|           4744|            73|              0.921|                0.477|\n",
      "|717478983|Existing Customer|          31|     F|              2|     Uneducated|      Divorced| Less than $40K|         Blue|            19|                       6|                     2|                    0|        2853|               1961|            892|               0.866|           2697|            68|              0.789|                0.687|\n",
      "|714879483|Attrited Customer|          39|     M|              4|       Graduate|       Married|   $80K - $120K|         Blue|            31|                       1|                     3|                    3|        3929|                542|           3387|               0.811|           7773|            64|               0.73|                0.138|\n",
      "|807589908|Existing Customer|          47|     F|              5|        Unknown|       Married| Less than $40K|         Blue|            42|                       1|                     2|                    1|        1778|                822|            956|                0.68|           4189|            80|              0.667|                0.462|\n",
      "|720186258|Existing Customer|          45|     F|              4|    High School|      Divorced|    $40K - $60K|         Blue|            31|                       5|                     2|                    4|        4701|               1170|           3531|               0.547|           4136|            77|              0.604|                0.249|\n",
      "+---------+-----------------+------------+------+---------------+---------------+--------------+---------------+-------------+--------------+------------------------+----------------------+---------------------+------------+-------------------+---------------+--------------------+---------------+--------------+-------------------+---------------------+\n",
      "only showing top 20 rows\n",
      "\n"
     ]
    },
    {
     "data": {
      "text/plain": [
       "3"
      ]
     },
     "execution_count": 4,
     "metadata": {},
     "output_type": "execute_result"
    }
   ],
   "source": [
    "#This feature helps in running a optimised spark application - uses the runtime stats \n",
    "#to choose most efficient query execution\n",
    "\n",
    "\"\"\"\n",
    "Use of auto repartitioning spark.sql.adaptive.coalescePartitions.enabled, spark.sql.adaptive.enabled\n",
    "Difference between spark repartitons and partitionBy\n",
    "Reparition, spark engine will chose optimal number of paritions\n",
    "ParitionBy has to be given when we use dataframe writer, we cannot give a number. it has to be always column name\n",
    "\"\"\"\n",
    "\n",
    "df = spark.read.format(\"csv\").option(\"header\",\"True\") \\\n",
    ".load(\"file:///C:/Users/venka/PycharmProjects/pythonProject/dataset/BankChurners.csv\") \\\n",
    ".repartition(3)\n",
    "\n",
    "df.show()\n",
    "\n",
    "df.rdd.getNumPartitions()"
   ]
  },
  {
   "cell_type": "code",
   "execution_count": 5,
   "id": "a4303eb5",
   "metadata": {},
   "outputs": [
    {
     "name": "stdout",
     "output_type": "stream",
     "text": [
      "+-------------+\n",
      "|Card_Category|\n",
      "+-------------+\n",
      "|     Platinum|\n",
      "|       Silver|\n",
      "|         Blue|\n",
      "|         Gold|\n",
      "+-------------+\n",
      "\n"
     ]
    },
    {
     "data": {
      "text/plain": [
       "1"
      ]
     },
     "execution_count": 5,
     "metadata": {},
     "output_type": "execute_result"
    }
   ],
   "source": [
    "df_widetrans = df.select(\"Card_Category\").distinct()\n",
    "\n",
    "df_widetrans.show()\n",
    "\n",
    "df_widetrans.rdd.getNumPartitions()"
   ]
  },
  {
   "cell_type": "code",
   "execution_count": 44,
   "id": "cda68252",
   "metadata": {},
   "outputs": [
    {
     "data": {
      "text/plain": [
       "'true'"
      ]
     },
     "execution_count": 44,
     "metadata": {},
     "output_type": "execute_result"
    }
   ],
   "source": [
    "#To enable shuffle auto repartitioning, enable AQE and specify repartitioning as well.\n",
    "spark.conf.get(\"spark.sql.adaptive.enabled\")"
   ]
  },
  {
   "cell_type": "code",
   "execution_count": 7,
   "id": "9645e1c3",
   "metadata": {},
   "outputs": [],
   "source": [
    "spark.conf.set(\"spark.sql.adaptive.enabled\",\"false\")"
   ]
  },
  {
   "cell_type": "code",
   "execution_count": 45,
   "id": "9ec08ed6",
   "metadata": {},
   "outputs": [
    {
     "data": {
      "text/plain": [
       "'true'"
      ]
     },
     "execution_count": 45,
     "metadata": {},
     "output_type": "execute_result"
    }
   ],
   "source": [
    "#spark repartitions\n",
    "spark.conf.get(\"spark.sql.adaptive.coalescePartitions.enabled\")"
   ]
  },
  {
   "cell_type": "code",
   "execution_count": 8,
   "id": "d919a599",
   "metadata": {},
   "outputs": [],
   "source": [
    "spark.conf.set(\"spark.sql.adaptive.coalescePartitions.enabled\",\"false\")"
   ]
  },
  {
   "cell_type": "code",
   "execution_count": 11,
   "id": "4586fbfa",
   "metadata": {},
   "outputs": [],
   "source": [
    "#Difference between Reparitions and PartitionBy\n",
    "df1 = spark.read.format(\"csv\").option(\"header\",\"True\") \\\n",
    ".load(\"file:///C:/Users/venka/PycharmProjects/pythonProject/dataset/IntPersonal_transactions.csv\")"
   ]
  },
  {
   "cell_type": "code",
   "execution_count": 13,
   "id": "33ed40ef",
   "metadata": {},
   "outputs": [
    {
     "name": "stdout",
     "output_type": "stream",
     "text": [
      "+-----------+-------------+---------+-------------------+----------------+-------+\n",
      "|Customer_No|    Card_type|     Date|           Category|Transaction Type| Amount|\n",
      "+-----------+-------------+---------+-------------------+----------------+-------+\n",
      "|    1000501|Platinum Card| 1/1/2018|           Shopping|           debit|  11.11|\n",
      "|    1000501|     Checking| 1/2/2018|    Mortgage & Rent|           debit|1247.44|\n",
      "|    1000501|  Silver Card| 1/2/2018|        Restaurants|           debit|  24.22|\n",
      "|    1000501|Platinum Card| 1/3/2018|Credit Card Payment|          credit|2298.09|\n",
      "|    1000501|Platinum Card| 1/4/2018|      Movies & DVDs|           debit|  11.76|\n",
      "|    1000501|  Silver Card| 1/5/2018|        Restaurants|           debit|  25.85|\n",
      "|    1000501|  Silver Card| 1/6/2018|   Home Improvement|           debit|  18.45|\n",
      "|    1000501|     Checking| 1/8/2018|          Utilities|           debit|     45|\n",
      "|    1000501|  Silver Card| 1/8/2018|   Home Improvement|           debit|  15.38|\n",
      "|    1000501|Platinum Card| 1/9/2018|              Music|           debit|  10.69|\n",
      "|    1000501|     Checking|1/10/2018|       Mobile Phone|           debit|  89.46|\n",
      "|    1000501|Platinum Card|1/11/2018|         Gas & Fuel|           debit|  34.87|\n",
      "|    1000501|Platinum Card|1/11/2018|          Groceries|           debit|  43.54|\n",
      "|    1000501|     Checking|1/12/2018|           Paycheck|          credit|   2000|\n",
      "|    1000531|Platinum Card|1/13/2018|          Fast Food|           debit|  32.91|\n",
      "|    1000531|Platinum Card|1/13/2018|           Shopping|           debit|  39.05|\n",
      "|    1000531|  Silver Card|1/15/2018|          Groceries|           debit|  44.19|\n",
      "|    1000531|  Silver Card|1/15/2018|        Restaurants|           debit|  64.11|\n",
      "|    1000531|     Checking|1/16/2018|          Utilities|           debit|     35|\n",
      "|    1000531|     Checking|1/16/2018|          Utilities|           debit|     60|\n",
      "+-----------+-------------+---------+-------------------+----------------+-------+\n",
      "only showing top 20 rows\n",
      "\n"
     ]
    }
   ],
   "source": [
    "df1.show()"
   ]
  },
  {
   "cell_type": "code",
   "execution_count": 23,
   "id": "25d0c96d",
   "metadata": {},
   "outputs": [],
   "source": [
    "df2 = df1.select(\"customer_no\").distinct()"
   ]
  },
  {
   "cell_type": "code",
   "execution_count": 25,
   "id": "48a09839",
   "metadata": {},
   "outputs": [
    {
     "data": {
      "text/plain": [
       "200"
      ]
     },
     "execution_count": 25,
     "metadata": {},
     "output_type": "execute_result"
    }
   ],
   "source": [
    "df2.rdd.getNumPartitions()"
   ]
  },
  {
   "cell_type": "code",
   "execution_count": 26,
   "id": "42600f6c",
   "metadata": {},
   "outputs": [
    {
     "data": {
      "text/plain": [
       "3"
      ]
     },
     "execution_count": 26,
     "metadata": {},
     "output_type": "execute_result"
    }
   ],
   "source": [
    "#1. Basic Syntactical Usage - you can use either num or column name\n",
    "#It will upscale or downgrade the partition to given number\n",
    "df1.repartition(3).rdd.getNumPartitions()"
   ]
  },
  {
   "cell_type": "code",
   "execution_count": 30,
   "id": "517f1b1b",
   "metadata": {},
   "outputs": [
    {
     "data": {
      "text/plain": [
       "200"
      ]
     },
     "execution_count": 30,
     "metadata": {},
     "output_type": "execute_result"
    }
   ],
   "source": [
    "#It is not mandatory to have seven(unique) customer no paritions, spark engine gives optimal value\n",
    "df1.repartition(\"customer_no\").rdd.getNumPartitions()"
   ]
  },
  {
   "cell_type": "code",
   "execution_count": 31,
   "id": "ea49fb8e",
   "metadata": {},
   "outputs": [
    {
     "data": {
      "text/plain": [
       "2"
      ]
     },
     "execution_count": 31,
     "metadata": {},
     "output_type": "execute_result"
    }
   ],
   "source": [
    "#Spark engine will ensure unique records reside in same parition\n",
    "df1.repartition(2,\"customer_no\").rdd.getNumPartitions()"
   ]
  },
  {
   "cell_type": "code",
   "execution_count": 32,
   "id": "6e193794",
   "metadata": {},
   "outputs": [
    {
     "data": {
      "text/plain": [
       "<pyspark.sql.readwriter.DataFrameWriter at 0x1d36c3b5610>"
      ]
     },
     "execution_count": 32,
     "metadata": {},
     "output_type": "execute_result"
    }
   ],
   "source": [
    "df1.write.partitionBy(\"customer_no\")"
   ]
  },
  {
   "cell_type": "code",
   "execution_count": 38,
   "id": "4921b2f6",
   "metadata": {},
   "outputs": [],
   "source": [
    "#We can have empty paritions as well when repartition number is very large\n",
    "from pyspark.sql.functions import spark_partition_id\n",
    "\n",
    "df_part = df1.repartition(3,\"customer_no\").withColumn(\"partitionId\",spark_partition_id()) \\\n",
    "    .groupBy(\"partitionId\") \\\n",
    "    .count()"
   ]
  },
  {
   "cell_type": "code",
   "execution_count": 40,
   "id": "343e8223",
   "metadata": {},
   "outputs": [
    {
     "name": "stdout",
     "output_type": "stream",
     "text": [
      "+-----------+-----+\n",
      "|partitionId|count|\n",
      "+-----------+-----+\n",
      "|          1|   14|\n",
      "|          2|   60|\n",
      "|          0|   31|\n",
      "+-----------+-----+\n",
      "\n"
     ]
    }
   ],
   "source": [
    "df_part.show()"
   ]
  },
  {
   "cell_type": "code",
   "execution_count": 44,
   "id": "3f496a47",
   "metadata": {},
   "outputs": [],
   "source": [
    "#Functional difference is observed when we save files using repartition(data written to memory, will involve shuffle operation) \n",
    "# and paritionBy(data written to disk, will not involve shuffle to push data to target path)\n",
    "#Filter on paritionBy(target data segregation) will return results faster\n",
    "\n",
    "filepath = \"file:///C:/Users/venka/PycharmProjects/pythonProject/dataset/\"\n",
    "        \n",
    "\n",
    "df1.repartition(\"Customer_No\").write.format(\"csv\") \\\n",
    ".option(\"header\",True).mode(\"overwrite\") \\\n",
    ".save(filepath + \"Online/repart/customer\")"
   ]
  },
  {
   "cell_type": "code",
   "execution_count": 46,
   "id": "8ee7fadb",
   "metadata": {},
   "outputs": [],
   "source": [
    "df1.write.format(\"csv\").partitionBy(\"Customer_No\") \\\n",
    ".option(\"header\",True).mode(\"overwrite\") \\\n",
    ".save(filepath + \"Online/partBy/customer\")"
   ]
  },
  {
   "cell_type": "code",
   "execution_count": 47,
   "id": "4ac8aadc",
   "metadata": {},
   "outputs": [],
   "source": [
    "#Performance analysis\n",
    "#read the target directory\n",
    "in_part = spark.read.csv(filepath + \"Online/partBy/customer/\", header = True ).filter(\"Customer_No=1002324\")"
   ]
  },
  {
   "cell_type": "code",
   "execution_count": 49,
   "id": "2b8c93bc",
   "metadata": {},
   "outputs": [
    {
     "name": "stdout",
     "output_type": "stream",
     "text": [
      "+-------------+---------+-------------------+----------------+------+-----------+\n",
      "|    Card_type|     Date|           Category|Transaction Type|Amount|Customer_No|\n",
      "+-------------+---------+-------------------+----------------+------+-----------+\n",
      "|Platinum Card| 3/5/2018|       Coffee Shops|           debit|     3|    1002324|\n",
      "|  Silver Card| 3/5/2018|Credit Card Payment|          credit|761.59|    1002324|\n",
      "|     Checking| 3/5/2018|Credit Card Payment|           debit|761.59|    1002324|\n",
      "|Platinum Card| 3/7/2018|       Coffee Shops|           debit|   3.5|    1002324|\n",
      "|Platinum Card| 3/8/2018|         Gas & Fuel|           debit|  34.9|    1002324|\n",
      "|     Checking| 3/8/2018|          Utilities|           debit|    52|    1002324|\n",
      "|Platinum Card| 3/9/2018|          Groceries|           debit| 20.72|    1002324|\n",
      "|Platinum Card| 3/9/2018|          Groceries|           debit|  5.09|    1002324|\n",
      "|Platinum Card| 3/9/2018|              Music|           debit| 10.69|    1002324|\n",
      "|Platinum Card|3/12/2018|          Groceries|           debit| 19.35|    1002324|\n",
      "|     Checking|3/12/2018|       Mobile Phone|           debit| 89.52|    1002324|\n",
      "|Platinum Card|3/13/2018|           Shopping|           debit| 45.75|    1002324|\n",
      "|Platinum Card|3/14/2018|          Groceries|           debit|  22.5|    1002324|\n",
      "|Platinum Card|3/14/2018|        Restaurants|           debit|  8.49|    1002324|\n",
      "|Platinum Card|3/15/2018|       Coffee Shops|           debit|   3.5|    1002324|\n",
      "|     Checking|3/15/2018|          Utilities|           debit|    60|    1002324|\n",
      "|     Checking|3/16/2018|           Paycheck|          credit|  2000|    1002324|\n",
      "|  Silver Card|3/17/2018|     Alcohol & Bars|           debit|  19.5|    1002324|\n",
      "+-------------+---------+-------------------+----------------+------+-----------+\n",
      "\n"
     ]
    }
   ],
   "source": [
    "in_part.show()"
   ]
  },
  {
   "cell_type": "code",
   "execution_count": 50,
   "id": "6093b5d6",
   "metadata": {},
   "outputs": [
    {
     "name": "stdout",
     "output_type": "stream",
     "text": [
      "+-----------+-------------+---------+-------------------+----------------+------+\n",
      "|Customer_No|    Card_type|     Date|           Category|Transaction Type|Amount|\n",
      "+-----------+-------------+---------+-------------------+----------------+------+\n",
      "|    1002324|Platinum Card| 3/5/2018|       Coffee Shops|           debit|     3|\n",
      "|    1002324|  Silver Card| 3/5/2018|Credit Card Payment|          credit|761.59|\n",
      "|    1002324|     Checking| 3/5/2018|Credit Card Payment|           debit|761.59|\n",
      "|    1002324|Platinum Card| 3/7/2018|       Coffee Shops|           debit|   3.5|\n",
      "|    1002324|Platinum Card| 3/8/2018|         Gas & Fuel|           debit|  34.9|\n",
      "|    1002324|     Checking| 3/8/2018|          Utilities|           debit|    52|\n",
      "|    1002324|Platinum Card| 3/9/2018|          Groceries|           debit| 20.72|\n",
      "|    1002324|Platinum Card| 3/9/2018|          Groceries|           debit|  5.09|\n",
      "|    1002324|Platinum Card| 3/9/2018|              Music|           debit| 10.69|\n",
      "|    1002324|Platinum Card|3/12/2018|          Groceries|           debit| 19.35|\n",
      "|    1002324|     Checking|3/12/2018|       Mobile Phone|           debit| 89.52|\n",
      "|    1002324|Platinum Card|3/13/2018|           Shopping|           debit| 45.75|\n",
      "|    1002324|Platinum Card|3/14/2018|          Groceries|           debit|  22.5|\n",
      "|    1002324|Platinum Card|3/14/2018|        Restaurants|           debit|  8.49|\n",
      "|    1002324|Platinum Card|3/15/2018|       Coffee Shops|           debit|   3.5|\n",
      "|    1002324|     Checking|3/15/2018|          Utilities|           debit|    60|\n",
      "|    1002324|     Checking|3/16/2018|           Paycheck|          credit|  2000|\n",
      "|    1002324|  Silver Card|3/17/2018|     Alcohol & Bars|           debit|  19.5|\n",
      "+-----------+-------------+---------+-------------------+----------------+------+\n",
      "\n"
     ]
    }
   ],
   "source": [
    "df1.filter(\"Customer_No=1002324\").show()"
   ]
  }
 ],
 "metadata": {
  "kernelspec": {
   "display_name": "Python 3 (ipykernel)",
   "language": "python",
   "name": "python3"
  },
  "language_info": {
   "codemirror_mode": {
    "name": "ipython",
    "version": 3
   },
   "file_extension": ".py",
   "mimetype": "text/x-python",
   "name": "python",
   "nbconvert_exporter": "python",
   "pygments_lexer": "ipython3",
   "version": "3.9.18"
  }
 },
 "nbformat": 4,
 "nbformat_minor": 5
}
