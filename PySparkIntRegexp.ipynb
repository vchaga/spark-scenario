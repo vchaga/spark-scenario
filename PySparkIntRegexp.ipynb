{
 "cells": [
  {
   "cell_type": "code",
   "execution_count": 2,
   "id": "fa84cdbf",
   "metadata": {},
   "outputs": [],
   "source": [
    "import findspark\n",
    "findspark.init()"
   ]
  },
  {
   "cell_type": "code",
   "execution_count": 3,
   "id": "87cd9942",
   "metadata": {},
   "outputs": [],
   "source": [
    "from pyspark.sql import SparkSession\n",
    "from pyspark.sql.functions import *\n",
    "from pyspark.sql.streaming import *\n",
    "from pyspark.sql.types import *\n",
    "\n",
    "spark = SparkSession.builder.master(\"local\").appName(\"Regexp\").getOrCreate()\n",
    "sc = spark.sparkContext"
   ]
  },
  {
   "cell_type": "code",
   "execution_count": 26,
   "id": "f024d7a4",
   "metadata": {},
   "outputs": [
    {
     "name": "stdout",
     "output_type": "stream",
     "text": [
      "+------------------------------------------------------------------------------------------------------------------------+\n",
      "|_c0                                                                                                                     |\n",
      "+------------------------------------------------------------------------------------------------------------------------+\n",
      "|Azar|BE|8|BigData|9273564531|Ramesh|BTech|3|Java|8439761222|Parthiban|ME|6|dotNet|8876534121|Magesh|MCA|8|DBA|9023451789|\n",
      "+------------------------------------------------------------------------------------------------------------------------+\n",
      "\n"
     ]
    }
   ],
   "source": [
    "# sql adaptive query execution adaptive.coalescePartitions.enabled will makr paritions dynamic\n",
    "sc.setLogLevel(\"Error\")\n",
    "spark.conf.set(\"spark.sql.shuffle.partitions\",3)\n",
    "spark.conf.get(\"spark.sql.shuffle.partitions\")\n",
    "spark.conf.set(\"spark.sql.adaptive.enabled\",\"true\")\n",
    "spark.conf.set(\"spark.sql.adaptive.coalescePartitions.enabled\",\"true\")\n",
    "\n",
    "\"\"\"\n",
    "Which one results faster\n",
    "1.filter > sort > count\n",
    "2.sort > filter > count\n",
    "3.cache > filter > sort\n",
    "4.cache > sort > filter\n",
    "\"\"\"\n",
    "\n",
    "filepath = \"file:///C:/Users/venka/PycharmProjects/pythonProject/dataset/\"\n",
    "\n",
    "df1=spark.read.csv(filepath + \"IntDelim5.csv\",header=False,inferSchema=False)\n",
    "#.option('delimiter','~|') can't be more than one character error\n",
    "\n",
    "df1.show(truncate=0)\n",
    "#df1.printSchema()"
   ]
  },
  {
   "cell_type": "code",
   "execution_count": 27,
   "id": "e08cafb7",
   "metadata": {},
   "outputs": [
    {
     "name": "stdout",
     "output_type": "stream",
     "text": [
      "+---------------------------------------------------------------------------------------------------------------------------+\n",
      "|chk                                                                                                                        |\n",
      "+---------------------------------------------------------------------------------------------------------------------------+\n",
      "|Azar|BE|8|BigData|9273564531|-Ramesh|BTech|3|Java|8439761222|-Parthiban|ME|6|dotNet|8876534121|-Magesh|MCA|8|DBA|9023451789|\n",
      "+---------------------------------------------------------------------------------------------------------------------------+\n",
      "\n"
     ]
    }
   ],
   "source": [
    "from pyspark.sql.functions import regexp_replace, split, explode\n",
    "df1=df1.withColumn(\"chk\",regexp_replace(\"_c0\",\"(.*?\\\\|){5}\",\"$0-\"))\n",
    "df1.select(\"chk\").show(truncate=0)"
   ]
  },
  {
   "cell_type": "code",
   "execution_count": 28,
   "id": "304b56c1",
   "metadata": {},
   "outputs": [
    {
     "name": "stdout",
     "output_type": "stream",
     "text": [
      "+--------------------------------+\n",
      "|col_explode                     |\n",
      "+--------------------------------+\n",
      "|Azar|BE|8|BigData|9273564531    |\n",
      "|Ramesh|BTech|3|Java|8439761222  |\n",
      "|Parthiban|ME|6|dotNet|8876534121|\n",
      "|Magesh|MCA|8|DBA|9023451789     |\n",
      "+--------------------------------+\n",
      "\n"
     ]
    }
   ],
   "source": [
    "#Explode into multiple records with single column\n",
    "df2=df1.withColumn(\"col_explode\",explode(split(\"chk\",\"\\|-\"))).select(\"col_explode\")\n",
    "df2.show(truncate=0)"
   ]
  },
  {
   "cell_type": "code",
   "execution_count": 31,
   "id": "caf2aed1",
   "metadata": {},
   "outputs": [
    {
     "name": "stdout",
     "output_type": "stream",
     "text": [
      "+-----------------------------+\n",
      "|split(col_explode, \\|, -1)[1]|\n",
      "+-----------------------------+\n",
      "|                           BE|\n",
      "|                        BTech|\n",
      "|                           ME|\n",
      "|                          MCA|\n",
      "+-----------------------------+\n",
      "\n"
     ]
    }
   ],
   "source": [
    "df2.select(split(\"col_explode\",\"\\|\")[1]).show()"
   ]
  },
  {
   "cell_type": "code",
   "execution_count": 34,
   "id": "faf5e8e4",
   "metadata": {},
   "outputs": [
    {
     "data": {
      "text/plain": [
       "[['Azar', 'BE', '8', 'BigData', '9273564531'],\n",
       " ['Ramesh', 'BTech', '3', 'Java', '8439761222'],\n",
       " ['Parthiban', 'ME', '6', 'dotNet', '8876534121'],\n",
       " ['Magesh', 'MCA', '8', 'DBA', '9023451789']]"
      ]
     },
     "execution_count": 34,
     "metadata": {},
     "output_type": "execute_result"
    }
   ],
   "source": [
    "#convert to RDD and split by |\n",
    "df2.select(\"col_explode\").rdd.map(lambda x: x[0].split(\"|\")).collect()"
   ]
  },
  {
   "cell_type": "code",
   "execution_count": 36,
   "id": "d91f7c48",
   "metadata": {},
   "outputs": [
    {
     "name": "stdout",
     "output_type": "stream",
     "text": [
      "+---------+-----+--------+-------+----------+\n",
      "|     Name|  Edu|YrsofExp|   Tech|    MobNum|\n",
      "+---------+-----+--------+-------+----------+\n",
      "|     Azar|   BE|       8|BigData|9273564531|\n",
      "|   Ramesh|BTech|       3|   Java|8439761222|\n",
      "|Parthiban|   ME|       6| dotNet|8876534121|\n",
      "|   Magesh|  MCA|       8|    DBA|9023451789|\n",
      "+---------+-----+--------+-------+----------+\n",
      "\n"
     ]
    }
   ],
   "source": [
    "df2_rdd = df2.select(\"col_explode\").rdd.map(lambda x: x[0].split(\"|\"))\n",
    "df2_rdd.toDF([\"Name\",\"Edu\",\"YrsofExp\",\"Tech\",\"MobNum\"]).show()"
   ]
  }
 ],
 "metadata": {
  "kernelspec": {
   "display_name": "Python 3 (ipykernel)",
   "language": "python",
   "name": "python3"
  },
  "language_info": {
   "codemirror_mode": {
    "name": "ipython",
    "version": 3
   },
   "file_extension": ".py",
   "mimetype": "text/x-python",
   "name": "python",
   "nbconvert_exporter": "python",
   "pygments_lexer": "ipython3",
   "version": "3.9.18"
  }
 },
 "nbformat": 4,
 "nbformat_minor": 5
}
