{
 "cells": [
  {
   "cell_type": "code",
   "execution_count": 1,
   "id": "fa84cdbf",
   "metadata": {},
   "outputs": [],
   "source": [
    "import findspark\n",
    "findspark.init()"
   ]
  },
  {
   "cell_type": "code",
   "execution_count": 2,
   "id": "87cd9942",
   "metadata": {},
   "outputs": [],
   "source": [
    "from pyspark.sql import SparkSession\n",
    "from pyspark.sql.functions import *\n",
    "\n",
    "spark = SparkSession.builder.master(\"local\").appName(\"Partitions\").getOrCreate()\n",
    "sc = spark.sparkContext"
   ]
  },
  {
   "cell_type": "code",
   "execution_count": 9,
   "id": "f024d7a4",
   "metadata": {},
   "outputs": [
    {
     "name": "stdout",
     "output_type": "stream",
     "text": [
      "+--------------------+------------------+------+--------+------------------+------------+----+------+--------------+----------------+-----------------+------------------+------------------+\n",
      "|                 App|          Category|Rating| Reviews|              Size|    Installs|Type| Price|Content Rating|          Genres|     Last Updated|       Current Ver|       Android Ver|\n",
      "+--------------------+------------------+------+--------+------------------+------------+----+------+--------------+----------------+-----------------+------------------+------------------+\n",
      "|    Kingdom in Chaos|            FAMILY|   4.3|    5623|               28M|    100,000+|Free|     0|  Everyone 10+|    Role Playing|December 21, 2015|             1.0.5|        2.3 and up|\n",
      "|Ghost Hunting camera|              GAME|   3.5|    3048|               24M|    500,000+|Free|     0|          Teen|          Action|    March 6, 2017|               1.1|        2.3 and up|\n",
      "|My Space - Employ...|          BUSINESS|   4.5|   67000|Varies with device|  1,000,000+|Free|     0|      Everyone|        Business|    July 17, 2018|Varies with device|        4.3 and up|\n",
      "|EZ Video Download...|            SOCIAL|   4.1|   34079|              1.3M|  1,000,000+|Free|     0|          Teen|          Social|   March 14, 2017|             2.001|      4.0.3 and up|\n",
      "|Dr.Dice - Sic bo ...|            FAMILY|   NaN|       2|              8.5M|         10+|Paid|$46.99|      Everyone|   Entertainment| November 5, 2016|               1.0|      4.0.3 and up|\n",
      "|Screen Lock - wit...|             TOOLS|   3.7|  338449|              2.8M| 10,000,000+|Free|     0|      Everyone|           Tools|    June 19, 2018|               8.6|      2.3.3 and up|\n",
      "|    News: DW Español|NEWS_AND_MAGAZINES|   4.3|      25|              6.3M|      1,000+|Free|     0|      Everyone|News & Magazines|   April 26, 2018|               1.0|        4.1 and up|\n",
      "|Técnico Legislati...|      PRODUCTIVITY|   NaN|       1|               10M|         10+|Paid| $2.99|      Everyone|    Productivity|    June 29, 2018|               6.0|      4.0.3 and up|\n",
      "|Jewels Star: OZ a...|              GAME|   4.5|   21892|               14M|  1,000,000+|Free|     0|      Everyone|          Puzzle|December 29, 2017|               1.3|        4.0 and up|\n",
      "|BN Whitening Shop...|            BEAUTY|   4.0|       2|               13M|        100+|Free|     0|      Everyone|          Beauty|    March 6, 2018|             1.0.8|      4.0.3 and up|\n",
      "|Candy Camera - se...|       PHOTOGRAPHY|   4.4| 3368649|Varies with device|100,000,000+|Free|     0|      Everyone|     Photography|    July 16, 2018|              4.47|      4.0.3 and up|\n",
      "|       Weather Crave|           WEATHER|   4.2|  133338|               44M|  5,000,000+|Free|     0|      Everyone|         Weather|    June 26, 2018|             6.1.3|        4.1 and up|\n",
      "|             SUBWAY®|    FOOD_AND_DRINK|   3.8|   21381|               41M|  1,000,000+|Free|     0|      Everyone|    Food & Drink|    July 24, 2018|           7.9.0.0|        4.4 and up|\n",
      "|LINE: Free Calls ...|     COMMUNICATION|   4.2|10790289|Varies with device|500,000,000+|Free|     0|      Everyone|   Communication|    July 26, 2018|Varies with device|Varies with device|\n",
      "|Digital Tourist B...|  TRAVEL_AND_LOCAL|   4.6|      19|               14M|        500+|Free|     0|      Everyone|  Travel & Local| October 13, 2015|             0.9.2|        2.2 and up|\n",
      "|     FH Kufstein App|            FAMILY|   NaN|       9|               20M|        500+|Free|     0|      Everyone|       Education|November 20, 2017|             2.3.1|        4.4 and up|\n",
      "|5-Minute Clinical...|           MEDICAL|   4.1|      84|              6.1M|     10,000+|Free|     0|      Everyone|         Medical|December 11, 2017|            2.7.36|        4.1 and up|\n",
      "|             CM Apps|             TOOLS|   3.8|    3341|              1.9M|    100,000+|Free|     0|      Everyone|           Tools|   April 17, 2016|               4.5|        4.2 and up|\n",
      "|Antenna Tool Premium|             TOOLS|   4.5|      14|              2.9M|        500+|Paid| $0.99|      Everyone|           Tools| October 26, 2017|               2.2|      4.0.3 and up|\n",
      "|K-App Mitarbeiter...|      PRODUCTIVITY|   NaN|       0|               19M|        100+|Free|     0|      Everyone|    Productivity|    July 10, 2018|            3.27.1|        4.4 and up|\n",
      "+--------------------+------------------+------+--------+------------------+------------+----+------+--------------+----------------+-----------------+------------------+------------------+\n",
      "only showing top 20 rows\n",
      "\n"
     ]
    }
   ],
   "source": [
    "df = spark.read.format(\"csv\").option(\"header\",\"True\") \\\n",
    ".load(\"file:///C:/Users/venka/PycharmProjects/pythonProject/dataset/googleplaystore.csv\") \\\n",
    ".repartition(3)\n",
    "\n",
    "df.rdd.getNumPartitions()\n",
    "\n",
    "df.show()"
   ]
  },
  {
   "cell_type": "code",
   "execution_count": 20,
   "id": "f89b77de",
   "metadata": {},
   "outputs": [
    {
     "name": "stdout",
     "output_type": "stream",
     "text": [
      "+-------------------+-----+\n",
      "|           Category|count|\n",
      "+-------------------+-----+\n",
      "|             EVENTS|   64|\n",
      "|             SPORTS|  384|\n",
      "|             COMICS|   60|\n",
      "|            WEATHER|   82|\n",
      "|      VIDEO_PLAYERS|  175|\n",
      "|  AUTO_AND_VEHICLES|   85|\n",
      "|          PARENTING|   60|\n",
      "|      ENTERTAINMENT|  149|\n",
      "|    PERSONALIZATION|  392|\n",
      "| HEALTH_AND_FITNESS|  340|\n",
      "|   TRAVEL_AND_LOCAL|  258|\n",
      "|BOOKS_AND_REFERENCE|  231|\n",
      "|     FOOD_AND_DRINK|  127|\n",
      "|        PHOTOGRAPHY|  335|\n",
      "|           BUSINESS|  460|\n",
      "|             FAMILY| 1972|\n",
      "|           SHOPPING|  260|\n",
      "|     HOUSE_AND_HOME|   88|\n",
      "|               GAME| 1144|\n",
      "|                1.9|    1|\n",
      "+-------------------+-----+\n",
      "only showing top 20 rows\n",
      "\n"
     ]
    },
    {
     "data": {
      "text/plain": [
       "1"
      ]
     },
     "execution_count": 20,
     "metadata": {},
     "output_type": "execute_result"
    }
   ],
   "source": [
    "#Transformations and action\n",
    "\n",
    "df2 = df.groupBy(\"Category\").count()\n",
    "\n",
    "df2.show()\n",
    "\n",
    "df2.rdd.getNumPartitions()"
   ]
  },
  {
   "cell_type": "code",
   "execution_count": 23,
   "id": "372f0404",
   "metadata": {},
   "outputs": [
    {
     "data": {
      "text/plain": [
       "'100'"
      ]
     },
     "execution_count": 23,
     "metadata": {},
     "output_type": "execute_result"
    }
   ],
   "source": [
    "spark.conf.get(\"spark.sql.shuffle.partitions\")"
   ]
  },
  {
   "cell_type": "code",
   "execution_count": 22,
   "id": "9ec08ed6",
   "metadata": {},
   "outputs": [],
   "source": [
    "spark.conf.set(\"spark.sql.shuffle.partitions\",100)"
   ]
  }
 ],
 "metadata": {
  "kernelspec": {
   "display_name": "Python 3 (ipykernel)",
   "language": "python",
   "name": "python3"
  },
  "language_info": {
   "codemirror_mode": {
    "name": "ipython",
    "version": 3
   },
   "file_extension": ".py",
   "mimetype": "text/x-python",
   "name": "python",
   "nbconvert_exporter": "python",
   "pygments_lexer": "ipython3",
   "version": "3.9.18"
  }
 },
 "nbformat": 4,
 "nbformat_minor": 5
}
