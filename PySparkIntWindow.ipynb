{
 "cells": [
  {
   "cell_type": "code",
   "execution_count": 2,
   "id": "fa84cdbf",
   "metadata": {},
   "outputs": [],
   "source": [
    "import findspark\n",
    "findspark.init()"
   ]
  },
  {
   "cell_type": "code",
   "execution_count": 3,
   "id": "87cd9942",
   "metadata": {},
   "outputs": [],
   "source": [
    "from pyspark.sql import SparkSession\n",
    "from pyspark.sql.functions import *\n",
    "from pyspark.sql.streaming import *\n",
    "from pyspark.sql.types import *\n",
    "from pyspark.sql.window import Window\n",
    "\n",
    "spark = SparkSession.builder.master(\"local\").appName(\"Duplicate\").getOrCreate()\n",
    "sc = spark.sparkContext"
   ]
  },
  {
   "cell_type": "code",
   "execution_count": 6,
   "id": "f024d7a4",
   "metadata": {},
   "outputs": [
    {
     "name": "stdout",
     "output_type": "stream",
     "text": [
      "+------+---+---------+----+\n",
      "|  Name|Age|Education|Year|\n",
      "+------+---+---------+----+\n",
      "|   RAM| 28|       BE|2012|\n",
      "|Rakesh| 53|      MBA|1985|\n",
      "| Madhu| 22|    B.Com|2018|\n",
      "|Rakesh| 53|      MBA|1985|\n",
      "|  Bill| 32|       ME|2007|\n",
      "| Madhu| 22|    B.Com|2018|\n",
      "|Rakesh| 53|      MBA|1985|\n",
      "+------+---+---------+----+\n",
      "\n"
     ]
    }
   ],
   "source": [
    "# sql adaptive query execution adaptive.coalescePartitions.enabled will makr paritions dynamic\n",
    "sc.setLogLevel(\"Error\")\n",
    "spark.conf.set(\"spark.sql.shuffle.partitions\",3)\n",
    "spark.conf.get(\"spark.sql.shuffle.partitions\")\n",
    "spark.conf.set(\"spark.sql.adaptive.enabled\",\"false\")\n",
    "spark.conf.set(\"spark.sql.adaptive.coalescePartitions.enabled\",\"false\")\n",
    "\n",
    "\"\"\"\n",
    "Identify Duplicate Records and report it\n",
    "1.GroupBy approach and take count , no of each and every record >1. we have to add all columns in group. \n",
    "lots of shuffles involved\n",
    "2.Window ranking function approach - ranking, aggregate, analytics function\n",
    "\"\"\"\n",
    "\n",
    "#WithoutInferSchema\n",
    "#headerTrue will read first row and assign column names but type is String for all\n",
    "#spark job created to read first column\n",
    "filepath = \"file:///C:/Users/venka/PycharmProjects/pythonProject/dataset/\"\n",
    "df = spark.read.option(\"header\",True) \\\n",
    "                .option(\"delimiter\",\",\") \\\n",
    "                .csv(filepath + \"IntDUplicate.csv\",inferSchema=True)\n",
    "df.show()"
   ]
  },
  {
   "cell_type": "code",
   "execution_count": 10,
   "id": "f3a47dd7",
   "metadata": {},
   "outputs": [
    {
     "name": "stdout",
     "output_type": "stream",
     "text": [
      "+------+---+---------+----+\n",
      "|  Name|Age|Education|Year|\n",
      "+------+---+---------+----+\n",
      "|Rakesh| 53|      MBA|1985|\n",
      "| Madhu| 22|    B.Com|2018|\n",
      "+------+---+---------+----+\n",
      "\n"
     ]
    }
   ],
   "source": [
    "#Method1\n",
    "df.groupBy(\"Name\",\"Age\",\"Education\",\"Year\").count().where(\"count > 1\").drop(\"count\").show()"
   ]
  },
  {
   "cell_type": "code",
   "execution_count": 25,
   "id": "626cb6ba",
   "metadata": {},
   "outputs": [],
   "source": [
    "#Method2\n",
    "#Ranking - get row_number,rank,dense_rank,rercentile,ntile\n",
    "from pyspark.sql.window import Window\n",
    "\n",
    "#get Row_Num for duplicate records.\n",
    "#We have to give orderBy function, if we use windowing function\n",
    "win = Window.partitionBy(\"Name\").orderBy(col(\"Year\").desc())"
   ]
  },
  {
   "cell_type": "code",
   "execution_count": 26,
   "id": "87ba11d7",
   "metadata": {},
   "outputs": [
    {
     "name": "stdout",
     "output_type": "stream",
     "text": [
      "+------+---+---------+----+----+\n",
      "|  Name|Age|Education|Year|rank|\n",
      "+------+---+---------+----+----+\n",
      "|  Bill| 32|       ME|2007|   1|\n",
      "|   RAM| 28|       BE|2012|   1|\n",
      "|Rakesh| 53|      MBA|1985|   1|\n",
      "|Rakesh| 53|      MBA|1985|   2|\n",
      "|Rakesh| 53|      MBA|1985|   3|\n",
      "| Madhu| 22|    B.Com|2018|   1|\n",
      "| Madhu| 22|    B.Com|2018|   2|\n",
      "+------+---+---------+----+----+\n",
      "\n"
     ]
    }
   ],
   "source": [
    "df.withColumn(\"rank\",row_number().over(win) ).show()"
   ]
  },
  {
   "cell_type": "code",
   "execution_count": 24,
   "id": "ad818a23",
   "metadata": {},
   "outputs": [
    {
     "name": "stdout",
     "output_type": "stream",
     "text": [
      "+------+---+---------+----+\n",
      "|  Name|Age|Education|Year|\n",
      "+------+---+---------+----+\n",
      "|Rakesh| 53|      MBA|1985|\n",
      "| Madhu| 22|    B.Com|2018|\n",
      "+------+---+---------+----+\n",
      "\n"
     ]
    }
   ],
   "source": [
    "df.withColumn(\"rank\",row_number().over(win) ) \\\n",
    ".filter(\"rank > 1\") \\\n",
    ".drop(\"rank\").dropDuplicates().show()"
   ]
  }
 ],
 "metadata": {
  "kernelspec": {
   "display_name": "Python 3 (ipykernel)",
   "language": "python",
   "name": "python3"
  },
  "language_info": {
   "codemirror_mode": {
    "name": "ipython",
    "version": 3
   },
   "file_extension": ".py",
   "mimetype": "text/x-python",
   "name": "python",
   "nbconvert_exporter": "python",
   "pygments_lexer": "ipython3",
   "version": "3.9.18"
  }
 },
 "nbformat": 4,
 "nbformat_minor": 5
}
