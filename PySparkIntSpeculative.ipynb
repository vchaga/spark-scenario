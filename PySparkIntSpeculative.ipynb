{
 "cells": [
  {
   "cell_type": "code",
   "execution_count": 2,
   "id": "fa84cdbf",
   "metadata": {},
   "outputs": [],
   "source": [
    "import findspark\n",
    "findspark.init()"
   ]
  },
  {
   "cell_type": "code",
   "execution_count": 3,
   "id": "87cd9942",
   "metadata": {},
   "outputs": [],
   "source": [
    "from pyspark.sql import SparkSession\n",
    "from pyspark.sql.functions import *\n",
    "from pyspark.sql.streaming import *\n",
    "from pyspark.sql.types import *\n",
    "\n",
    "spark = SparkSession.builder.master(\"local\").appName(\"Speculative\").getOrCreate()\n",
    "sc = spark.sparkContext"
   ]
  },
  {
   "cell_type": "code",
   "execution_count": 8,
   "id": "f024d7a4",
   "metadata": {},
   "outputs": [
    {
     "name": "stdout",
     "output_type": "stream",
     "text": [
      "+------+----------------+\n",
      "|Emp_id|        Emp_Name|\n",
      "+------+----------------+\n",
      "|     1| Employee Name 1|\n",
      "|     2| Employee Name 2|\n",
      "|     3| Employee Name 3|\n",
      "|     4| Employee Name 4|\n",
      "|     5| Employee Name 5|\n",
      "|     6| Employee Name 6|\n",
      "|     7| Employee Name 7|\n",
      "|     8| Employee Name 8|\n",
      "|     9| Employee Name 9|\n",
      "|    10|Employee Name 10|\n",
      "|    11|Employee Name 11|\n",
      "|    12|Employee Name 12|\n",
      "|    13|Employee Name 13|\n",
      "|    14|Employee Name 14|\n",
      "|    15|Employee Name 15|\n",
      "|    16|Employee Name 16|\n",
      "|    17|Employee Name 17|\n",
      "|    18|Employee Name 18|\n",
      "|    19|Employee Name 19|\n",
      "|    20|Employee Name 20|\n",
      "+------+----------------+\n",
      "only showing top 20 rows\n",
      "\n"
     ]
    }
   ],
   "source": [
    "# sql adaptive query execution adaptive.coalescePartitions.enabled will makr paritions dynamic\n",
    "sc.setLogLevel(\"Error\")\n",
    "spark.conf.set(\"spark.sql.shuffle.partitions\",3)\n",
    "spark.conf.get(\"spark.sql.shuffle.partitions\")\n",
    "spark.conf.set(\"spark.sql.adaptive.enabled\",\"true\")\n",
    "spark.conf.set(\"spark.sql.adaptive.coalescePartitions.enabled\",\"true\")\n",
    "\n",
    "\"\"\"\n",
    "config needed for spark specualtive execution they can be set in config file or during spark submit job command\n",
    "spark.speculation True- either True or False - be default = false\n",
    "spark.speculation.interval 200 - interval thru which spark engine has to scan for each task and decide whether spec execu\n",
    "spark.speculation.multiplier 5 - >1 or 1, median(completed task) > pending task\n",
    "spark.speculation.quantile 0.75 - percentage of completed job/tasks\n",
    "\"\"\"\n",
    "\n",
    "filepath = \"file:///C:/Users/venka/PycharmProjects/pythonProject/dataset/\"\n",
    "\n",
    "#df1=spark.read.option(\"mode\",\"dropmalformed\").csv(filepath + \"IntDataframeReader.csv\",header=True,inferSchema=True)\n",
    "#.option('delimiter','~|') can't be more than one character error\n",
    "class EMP:\n",
    "    def __init__(self, Emp_id, Emp_Name):\n",
    "        if Emp_id == 5:\n",
    "            sleep_config = 0\n",
    "            print(f\"Will wait for {sleep_config} second(s)\")\n",
    "            # Sleep for sleep_config seconds (converted to milliseconds)\n",
    "            time.sleep(sleep_config * 1000)\n",
    "        time.sleep(2)\n",
    "\n",
    "data = [(x, f\"Employee Name {x}\") for x in range(1, 1001)]\n",
    "#for x in range(1, 1001):\n",
    "#    data.append((x, f\"Employee Name {x}\"))\n",
    "\n",
    "df = spark.createDataFrame(data, [\"Emp_id\", \"Emp_Name\"]).withColumn(\"Emp_id\", col(\"Emp_id\").cast(\"int\"))\n",
    "\n",
    "            \n",
    "df.show()\n",
    "#df1.printSchema()"
   ]
  }
 ],
 "metadata": {
  "kernelspec": {
   "display_name": "Python 3 (ipykernel)",
   "language": "python",
   "name": "python3"
  },
  "language_info": {
   "codemirror_mode": {
    "name": "ipython",
    "version": 3
   },
   "file_extension": ".py",
   "mimetype": "text/x-python",
   "name": "python",
   "nbconvert_exporter": "python",
   "pygments_lexer": "ipython3",
   "version": "3.9.18"
  }
 },
 "nbformat": 4,
 "nbformat_minor": 5
}
