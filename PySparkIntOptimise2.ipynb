{
 "cells": [
  {
   "cell_type": "code",
   "execution_count": 17,
   "id": "fa84cdbf",
   "metadata": {},
   "outputs": [],
   "source": [
    "import findspark\n",
    "findspark.init()"
   ]
  },
  {
   "cell_type": "code",
   "execution_count": 18,
   "id": "87cd9942",
   "metadata": {},
   "outputs": [],
   "source": [
    "from pyspark.sql import SparkSession\n",
    "from pyspark.sql.functions import *\n",
    "from pyspark.sql.streaming import *\n",
    "from pyspark.sql.types import *\n",
    "from pyspark.sql.window import Window\n",
    "import os\n",
    "\n",
    "spark = SparkSession.builder.master(\"local\").appName(\"Optimise2\").getOrCreate()\n",
    "sc = spark.sparkContext"
   ]
  },
  {
   "cell_type": "code",
   "execution_count": 19,
   "id": "f024d7a4",
   "metadata": {},
   "outputs": [],
   "source": [
    "# sql adaptive query execution adaptive.coalescePartitions.enabled will makr paritions dynamic\n",
    "sc.setLogLevel(\"Error\")\n",
    "spark.conf.set(\"spark.sql.shuffle.partitions\",3)\n",
    "spark.conf.get(\"spark.sql.shuffle.partitions\")\n",
    "spark.conf.set(\"spark.sql.adaptive.enabled\",\"false\")\n",
    "spark.conf.set(\"spark.sql.adaptive.coalescePartitions.enabled\",\"false\")\n",
    "spark.conf.set(\"spark.sql.execution.arrow.enabled\",True)\n",
    "spark.conf.set(\"spark.sql.execution.arrow.fallback.enabled\",True)\n",
    "\n",
    "\"\"\"\n",
    "Calculate sum(credit) - sum(debit)\n",
    "\n",
    "Method1: create a coulmn with -1*debit amount and do sum\n",
    "Method2: using pivot and transpose columns - More appropriate\n",
    "\"\"\"\n",
    "\n",
    "#WithoutInferSchema\n",
    "#headerTrue will read first row and assign column names but type is String for all\n",
    "#spark job created to read first column\n",
    "filepath = \"file:///C:/Users/venka/PycharmProjects/pythonProject/dataset/\"\n",
    "df = spark.read.option(\"header\",True) \\\n",
    "            .option(\"inferSchema\",True) \\\n",
    "            .option(\"delimiter\",\",\") \\\n",
    "            .csv(filepath + \"IntPersonal_transactions.csv\")"
   ]
  },
  {
   "cell_type": "code",
   "execution_count": 20,
   "id": "f3a47dd7",
   "metadata": {},
   "outputs": [
    {
     "name": "stdout",
     "output_type": "stream",
     "text": [
      "+-----------+-------------+---------+-------------------+----------------+-------+\n",
      "|Customer_No|    Card_type|     Date|           Category|Transaction Type| Amount|\n",
      "+-----------+-------------+---------+-------------------+----------------+-------+\n",
      "|    1000501|Platinum Card| 1/1/2018|           Shopping|           debit|  11.11|\n",
      "|    1000501|     Checking| 1/2/2018|    Mortgage & Rent|           debit|1247.44|\n",
      "|    1000501|  Silver Card| 1/2/2018|        Restaurants|           debit|  24.22|\n",
      "|    1000501|Platinum Card| 1/3/2018|Credit Card Payment|          credit|2298.09|\n",
      "|    1000501|Platinum Card| 1/4/2018|      Movies & DVDs|           debit|  11.76|\n",
      "|    1000501|  Silver Card| 1/5/2018|        Restaurants|           debit|  25.85|\n",
      "|    1000501|  Silver Card| 1/6/2018|   Home Improvement|           debit|  18.45|\n",
      "|    1000501|     Checking| 1/8/2018|          Utilities|           debit|   45.0|\n",
      "|    1000501|  Silver Card| 1/8/2018|   Home Improvement|           debit|  15.38|\n",
      "|    1000501|Platinum Card| 1/9/2018|              Music|           debit|  10.69|\n",
      "|    1000501|     Checking|1/10/2018|       Mobile Phone|           debit|  89.46|\n",
      "|    1000501|Platinum Card|1/11/2018|         Gas & Fuel|           debit|  34.87|\n",
      "|    1000501|Platinum Card|1/11/2018|          Groceries|           debit|  43.54|\n",
      "|    1000501|     Checking|1/12/2018|           Paycheck|          credit| 2000.0|\n",
      "|    1000531|Platinum Card|1/13/2018|          Fast Food|           debit|  32.91|\n",
      "|    1000531|Platinum Card|1/13/2018|           Shopping|           debit|  39.05|\n",
      "|    1000531|  Silver Card|1/15/2018|          Groceries|           debit|  44.19|\n",
      "|    1000531|  Silver Card|1/15/2018|        Restaurants|           debit|  64.11|\n",
      "|    1000531|     Checking|1/16/2018|          Utilities|           debit|   35.0|\n",
      "|    1000531|     Checking|1/16/2018|          Utilities|           debit|   60.0|\n",
      "+-----------+-------------+---------+-------------------+----------------+-------+\n",
      "only showing top 20 rows\n",
      "\n"
     ]
    }
   ],
   "source": [
    "df.show()"
   ]
  },
  {
   "cell_type": "code",
   "execution_count": 23,
   "id": "23d2d99a",
   "metadata": {},
   "outputs": [],
   "source": [
    "df1 = df.withColumn(\"amt_chk\",when(col(\"Transaction Type\") =='debit', -1 * col(\"Amount\")) \\\n",
    "                                .otherwise(col(\"Amount\")))"
   ]
  },
  {
   "cell_type": "code",
   "execution_count": 24,
   "id": "1693bccb",
   "metadata": {},
   "outputs": [
    {
     "name": "stdout",
     "output_type": "stream",
     "text": [
      "+-----------+-------------+---------+-------------------+----------------+-------+--------+\n",
      "|Customer_No|    Card_type|     Date|           Category|Transaction Type| Amount| amt_chk|\n",
      "+-----------+-------------+---------+-------------------+----------------+-------+--------+\n",
      "|    1000501|Platinum Card| 1/1/2018|           Shopping|           debit|  11.11|  -11.11|\n",
      "|    1000501|     Checking| 1/2/2018|    Mortgage & Rent|           debit|1247.44|-1247.44|\n",
      "|    1000501|  Silver Card| 1/2/2018|        Restaurants|           debit|  24.22|  -24.22|\n",
      "|    1000501|Platinum Card| 1/3/2018|Credit Card Payment|          credit|2298.09| 2298.09|\n",
      "|    1000501|Platinum Card| 1/4/2018|      Movies & DVDs|           debit|  11.76|  -11.76|\n",
      "|    1000501|  Silver Card| 1/5/2018|        Restaurants|           debit|  25.85|  -25.85|\n",
      "|    1000501|  Silver Card| 1/6/2018|   Home Improvement|           debit|  18.45|  -18.45|\n",
      "|    1000501|     Checking| 1/8/2018|          Utilities|           debit|   45.0|   -45.0|\n",
      "|    1000501|  Silver Card| 1/8/2018|   Home Improvement|           debit|  15.38|  -15.38|\n",
      "|    1000501|Platinum Card| 1/9/2018|              Music|           debit|  10.69|  -10.69|\n",
      "|    1000501|     Checking|1/10/2018|       Mobile Phone|           debit|  89.46|  -89.46|\n",
      "|    1000501|Platinum Card|1/11/2018|         Gas & Fuel|           debit|  34.87|  -34.87|\n",
      "|    1000501|Platinum Card|1/11/2018|          Groceries|           debit|  43.54|  -43.54|\n",
      "|    1000501|     Checking|1/12/2018|           Paycheck|          credit| 2000.0|  2000.0|\n",
      "|    1000531|Platinum Card|1/13/2018|          Fast Food|           debit|  32.91|  -32.91|\n",
      "|    1000531|Platinum Card|1/13/2018|           Shopping|           debit|  39.05|  -39.05|\n",
      "|    1000531|  Silver Card|1/15/2018|          Groceries|           debit|  44.19|  -44.19|\n",
      "|    1000531|  Silver Card|1/15/2018|        Restaurants|           debit|  64.11|  -64.11|\n",
      "|    1000531|     Checking|1/16/2018|          Utilities|           debit|   35.0|   -35.0|\n",
      "|    1000531|     Checking|1/16/2018|          Utilities|           debit|   60.0|   -60.0|\n",
      "+-----------+-------------+---------+-------------------+----------------+-------+--------+\n",
      "only showing top 20 rows\n",
      "\n"
     ]
    }
   ],
   "source": [
    "df1.show()"
   ]
  },
  {
   "cell_type": "code",
   "execution_count": 25,
   "id": "f00a9053",
   "metadata": {},
   "outputs": [],
   "source": [
    "df2 = df1.groupBy(\"customer_No\").agg(sum(\"amt_chk\").alias(\"tot_bal\"))"
   ]
  },
  {
   "cell_type": "code",
   "execution_count": 26,
   "id": "418fa70c",
   "metadata": {},
   "outputs": [
    {
     "name": "stdout",
     "output_type": "stream",
     "text": [
      "+-----------+------------------+\n",
      "|customer_No|           tot_bal|\n",
      "+-----------+------------------+\n",
      "|    1000531|1657.1499999999999|\n",
      "|    1000501|           2720.32|\n",
      "|    1000654| 798.1199999999999|\n",
      "|    1001863|           2069.64|\n",
      "|    1001368|2155.7200000000003|\n",
      "|    1002324|           1601.49|\n",
      "|    1000210|1705.1399999999999|\n",
      "+-----------+------------------+\n",
      "\n"
     ]
    }
   ],
   "source": [
    "df2.show()"
   ]
  },
  {
   "cell_type": "code",
   "execution_count": 27,
   "id": "d6c1e3f8",
   "metadata": {},
   "outputs": [],
   "source": [
    "df3=df1.groupBy(\"customer_no\").pivot(\"Transaction Type\").agg(sum(\"Amount\"))"
   ]
  },
  {
   "cell_type": "code",
   "execution_count": 29,
   "id": "3be2bd13",
   "metadata": {},
   "outputs": [
    {
     "name": "stdout",
     "output_type": "stream",
     "text": [
      "+-----------+------------------+------------------+\n",
      "|customer_no|            credit|             debit|\n",
      "+-----------+------------------+------------------+\n",
      "|    1000531|2864.7999999999997|           1207.65|\n",
      "|    1000501|           4298.09|           1577.77|\n",
      "|    1002324|           2761.59|1160.1000000000001|\n",
      "|    1000210|           2559.91|            854.77|\n",
      "|    1000654|           2299.27|           1501.15|\n",
      "|    1001863|           2765.37|            695.73|\n",
      "|    1001368|           3403.55|1247.8300000000002|\n",
      "+-----------+------------------+------------------+\n",
      "\n"
     ]
    }
   ],
   "source": [
    "df3.show()"
   ]
  },
  {
   "cell_type": "code",
   "execution_count": 31,
   "id": "b8b8cff4",
   "metadata": {},
   "outputs": [
    {
     "name": "stdout",
     "output_type": "stream",
     "text": [
      "+-----------+------------------+\n",
      "|customer_no|           tot_bal|\n",
      "+-----------+------------------+\n",
      "|    1000531|1657.1499999999996|\n",
      "|    1000501|           2720.32|\n",
      "|    1002324|           1601.49|\n",
      "|    1000210|1705.1399999999999|\n",
      "|    1000654| 798.1199999999999|\n",
      "|    1001863|           2069.64|\n",
      "|    1001368|2155.7200000000003|\n",
      "+-----------+------------------+\n",
      "\n"
     ]
    }
   ],
   "source": [
    "df3.withColumn(\"tot_bal\",col(\"credit\")-col(\"debit\")).drop(\"credit\",\"debit\").show()"
   ]
  }
 ],
 "metadata": {
  "kernelspec": {
   "display_name": "Python 3 (ipykernel)",
   "language": "python",
   "name": "python3"
  },
  "language_info": {
   "codemirror_mode": {
    "name": "ipython",
    "version": 3
   },
   "file_extension": ".py",
   "mimetype": "text/x-python",
   "name": "python",
   "nbconvert_exporter": "python",
   "pygments_lexer": "ipython3",
   "version": "3.9.18"
  }
 },
 "nbformat": 4,
 "nbformat_minor": 5
}
