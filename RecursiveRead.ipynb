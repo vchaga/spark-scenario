{
 "cells": [
  {
   "cell_type": "code",
   "execution_count": 25,
   "id": "cb0fd607",
   "metadata": {},
   "outputs": [],
   "source": [
    "import findspark\n",
    "findspark.init()"
   ]
  },
  {
   "cell_type": "code",
   "execution_count": 26,
   "id": "ec27ac0e",
   "metadata": {},
   "outputs": [],
   "source": [
    "from pyspark.sql import SparkSession\n",
    "from pyspark.sql.functions import *\n",
    "\n",
    "#.config(\"spark.jars.packages\", \"com.databricks:spark-xml_2.12:0.17.0\") \\\n",
    "\n",
    "spark = SparkSession.builder \\\n",
    "    .master(\"local\") \\\n",
    "    .appName(\"RecursiveRead\") \\\n",
    "    .getOrCreate()\n",
    "\n",
    "sc = spark.sparkContext"
   ]
  },
  {
   "cell_type": "code",
   "execution_count": 27,
   "id": "00f91014",
   "metadata": {},
   "outputs": [
    {
     "name": "stdout",
     "output_type": "stream",
     "text": [
      "+------------+----------+-----------+---------+----------+--------------------+\n",
      "|stock_number|stock_name|stock_price|stock_qty|      date|            filename|\n",
      "+------------+----------+-----------+---------+----------+--------------------+\n",
      "|        1003|     Msoft|     1834.0|       10|2021-07-08|file:///C:/Users/...|\n",
      "|        1004|       LNX|     232.34|       32|2021-07-08|file:///C:/Users/...|\n",
      "|        1005|     FBOOK|     987.34|       70|2021-07-08|file:///C:/Users/...|\n",
      "|        1001|      amzn|     2052.0|        3|2021-07-08|file:///C:/Users/...|\n",
      "|        1002|      ggle|     2325.0|        6|2021-07-08|file:///C:/Users/...|\n",
      "+------------+----------+-----------+---------+----------+--------------------+\n",
      "\n"
     ]
    }
   ],
   "source": [
    "spark.sparkContext.setLogLevel('ERROR')\n",
    "#folder_path = \"file:///C:/Users/venka/PycharmProjects/pythonProject/dataset/StreamData/*.csv\"\n",
    "folder_path = \"file:///C:/Users/venka/PycharmProjects/pythonProject/dataset/StreamData/{Person_1.csv,Person_2.csv}\" \n",
    "#Regex format {} ; recursiveFileLookup will not work for partitionBy(partition specific files)\n",
    "\n",
    "try:\n",
    "    #Read stream data select files from folder, recursively\n",
    "    df_csv = spark.read.format('csv') \\\n",
    "            .option(\"header\", \"true\") \\\n",
    "            .option(\"inferSchema\", \"true\") \\\n",
    "            .option(\"recursiveFileLookup\",\"true\") \\\n",
    "            .load(folder_path) \\\n",
    "            .withColumn(\"filename\",input_file_name())\n",
    "\n",
    "    df_csv.show()\n",
    "\n",
    "except Exception as e:\n",
    "    print(f\"An error occurred: {e}\")\n",
    "\n",
    "finally:\n",
    "    # Stop the Spark session\n",
    "    spark.stop()"
   ]
  }
 ],
 "metadata": {
  "kernelspec": {
   "display_name": "Python 3 (ipykernel)",
   "language": "python",
   "name": "python3"
  },
  "language_info": {
   "codemirror_mode": {
    "name": "ipython",
    "version": 3
   },
   "file_extension": ".py",
   "mimetype": "text/x-python",
   "name": "python",
   "nbconvert_exporter": "python",
   "pygments_lexer": "ipython3",
   "version": "3.9.18"
  }
 },
 "nbformat": 4,
 "nbformat_minor": 5
}
