{
 "cells": [
  {
   "cell_type": "code",
   "execution_count": 1,
   "id": "12f33e89-8d94-4a8e-9cb8-9ec339a62ab9",
   "metadata": {},
   "outputs": [],
   "source": [
    "import findspark\n",
    "findspark.init()"
   ]
  },
  {
   "cell_type": "code",
   "execution_count": 2,
   "id": "bc434f06-3eb7-4621-8735-251dd4c62217",
   "metadata": {},
   "outputs": [],
   "source": [
    "from pyspark.sql import SparkSession\n",
    "from pyspark.sql.functions import *\n",
    "\n",
    "spark = SparkSession.builder \\\n",
    "    .master(\"local\") \\\n",
    "    .appName(\"Demo\") \\\n",
    "    .config(\"spark.jars.packages\", \"com.databricks:spark-xml_2.12:0.17.0\") \\\n",
    "    .getOrCreate()\n",
    "\n",
    "sc = spark.sparkContext"
   ]
  },
  {
   "cell_type": "code",
   "execution_count": 3,
   "id": "21bbae06",
   "metadata": {},
   "outputs": [
    {
     "name": "stdout",
     "output_type": "stream",
     "text": [
      "+----+------------+--------------------+-----------+------------+----+----------+------+---------+---+-----------+---+--------------------+---------+---+--------------------+-----------+--------------------+-----+------+--------+\n",
      "|code|commentCount|           createdAt|description|feedsComment|  id|imagePaths|images|isdeleted|lat|likeDislike|lng|            location|mediatype|msg|          multiMedia|       name|      profilePicture|title|userId|videoUrl|\n",
      "+----+------------+--------------------+-----------+------------+----+----------+------+---------+---+-----------+---+--------------------+---------+---+--------------------+-----------+--------------------+-----+------+--------+\n",
      "|   0|           0|2020-01-02 07:32:...|        ghj|            |2140|          |      |    false|  0|  {0, 0, 2}|  0|Hermannplatz 5-6,...|        0|   |{0001-01-02 18:00...|      manoj|Images/9b291404-b...|   gj|  4051|        |\n",
      "|   0|           0|2021-01-02 07:32:...|    dummy 2|            |2141|          |      |     NULL|  0|{1, 21, 22}|  0|Hermann 5-6, 7032...|        0|   |{0021-01-02 18:00...|       Azar|                NULL|   RJ|  3051|        |\n",
      "|   0|           0|2022-01-02 07:32:...|    dummy 3|            |2143|          |      |     NULL|  0|  {1, 0, 1}|  0|                NULL|        0|   |{0021-02-02 18:00...|learn spark|                NULL| dump|  3051|        |\n",
      "+----+------------+--------------------+-----------+------------+----+----------+------+---------+---+-----------+---+--------------------+---------+---+--------------------+-----------+--------------------+-----+------+--------+\n",
      "\n"
     ]
    }
   ],
   "source": [
    "df = spark.read.format(\"com.databricks.spark.xml\") \\\n",
    "    .option(\"rootTag\", \"root\") \\\n",
    "    .option(\"rowTag\", \"Message\") \\\n",
    "    .load(\"file:///C:/Users/venka/PycharmProjects/pythonProject/dataset/sample_xml.xml\")\n",
    "\n",
    "df.show()"
   ]
  },
  {
   "cell_type": "code",
   "execution_count": 4,
   "id": "e951e6a4",
   "metadata": {},
   "outputs": [
    {
     "data": {
      "text/html": [
       "\n",
       "            <div>\n",
       "                <p><b>SparkSession - in-memory</b></p>\n",
       "                \n",
       "        <div>\n",
       "            <p><b>SparkContext</b></p>\n",
       "\n",
       "            <p><a href=\"http://SREE-US:4040\">Spark UI</a></p>\n",
       "\n",
       "            <dl>\n",
       "              <dt>Version</dt>\n",
       "                <dd><code>v3.5.0</code></dd>\n",
       "              <dt>Master</dt>\n",
       "                <dd><code>local</code></dd>\n",
       "              <dt>AppName</dt>\n",
       "                <dd><code>Demo</code></dd>\n",
       "            </dl>\n",
       "        </div>\n",
       "        \n",
       "            </div>\n",
       "        "
      ],
      "text/plain": [
       "<pyspark.sql.session.SparkSession at 0x2415cd732e0>"
      ]
     },
     "execution_count": 4,
     "metadata": {},
     "output_type": "execute_result"
    }
   ],
   "source": [
    "spark"
   ]
  }
 ],
 "metadata": {
  "kernelspec": {
   "display_name": "Python 3 (ipykernel)",
   "language": "python",
   "name": "python3"
  },
  "language_info": {
   "codemirror_mode": {
    "name": "ipython",
    "version": 3
   },
   "file_extension": ".py",
   "mimetype": "text/x-python",
   "name": "python",
   "nbconvert_exporter": "python",
   "pygments_lexer": "ipython3",
   "version": "3.12.1"
  }
 },
 "nbformat": 4,
 "nbformat_minor": 5
}
