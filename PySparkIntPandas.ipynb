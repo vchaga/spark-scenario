{
 "cells": [
  {
   "cell_type": "code",
   "execution_count": 2,
   "id": "fa84cdbf",
   "metadata": {},
   "outputs": [],
   "source": [
    "import findspark\n",
    "findspark.init()"
   ]
  },
  {
   "cell_type": "code",
   "execution_count": 3,
   "id": "87cd9942",
   "metadata": {},
   "outputs": [],
   "source": [
    "from pyspark.sql import SparkSession\n",
    "from pyspark.sql.functions import *\n",
    "from pyspark.sql.streaming import *\n",
    "from pyspark.sql.types import *\n",
    "from pyspark.sql.window import Window\n",
    "\n",
    "spark = SparkSession.builder.master(\"local\").appName(\"PandastoSpark\").getOrCreate()\n",
    "sc = spark.sparkContext"
   ]
  },
  {
   "cell_type": "code",
   "execution_count": 23,
   "id": "f024d7a4",
   "metadata": {},
   "outputs": [
    {
     "name": "stdout",
     "output_type": "stream",
     "text": [
      "+----------+------------+-------------------+-------+--------+------+\n",
      "|CustomerId|CustomerName|           dateTime| Amount|discount|Member|\n",
      "+----------+------------+-------------------+-------+--------+------+\n",
      "|      1001|        Arun|2020-07-15 01:01:53|2465.22|    10 %|  true|\n",
      "|      1005|      Barath|2020-07-13 12:15:33|8399.34|     5 %|  true|\n",
      "|      1003|      Charle|2020-07-18 20:10:45|1234.88|     3 %| false|\n",
      "|      1004|       Gokul|2020-07-15 11:11:36| 1690.0|     1 %|  true|\n",
      "|      1005|        NULL|2020-07-18 15:11:43|  160.0|     3 %|  true|\n",
      "|      1006|      Gerold|2020-07-08 14:16:53| 2546.0|     1 %|  true|\n",
      "|      1007|      Parker|2020-07-04 17:13:33| 3456.0|     2 %| false|\n",
      "|      1008|        Thor|2020-07-10 03:30:43| 8745.0|     5 %|  true|\n",
      "|      1009|       Steve|2020-07-22 12:10:43|  143.0|     2 %|  true|\n",
      "|      1010|        Mani|2020-07-27 19:40:23| 1865.0|     3 %|  true|\n",
      "|      1011|      Cooper|2020-07-13 18:10:33| 1200.0|     1 %|  true|\n",
      "|      1012|       Penny|2020-07-28 13:20:33| 1693.0|     4 %| false|\n",
      "|      1013|     Lenoard|2020-07-22 10:50:33|7600.98|     1 %|  true|\n",
      "|      1014|    Mohammed|2020-07-12 07:30:33|  534.0|     2 %|  true|\n",
      "|      1015|      Althaf|2020-07-10 05:10:36| 2435.0|     1 %|  true|\n",
      "+----------+------------+-------------------+-------+--------+------+\n",
      "\n"
     ]
    }
   ],
   "source": [
    "# sql adaptive query execution adaptive.coalescePartitions.enabled will makr paritions dynamic\n",
    "sc.setLogLevel(\"Error\")\n",
    "spark.conf.set(\"spark.sql.shuffle.partitions\",3)\n",
    "spark.conf.get(\"spark.sql.shuffle.partitions\")\n",
    "spark.conf.set(\"spark.sql.adaptive.enabled\",\"false\")\n",
    "spark.conf.set(\"spark.sql.adaptive.coalescePartitions.enabled\",\"false\")\n",
    "spark.conf.set(\"spark.sql.execution.arrow.enabled\",True)\n",
    "spark.conf.set(\"spark.sql.execution.arrow.fallback.enabled\",True)\n",
    "\n",
    "\"\"\"\n",
    "Pandas DF to spark DF\n",
    "\"\"\"\n",
    "\n",
    "#WithoutInferSchema\n",
    "#headerTrue will read first row and assign column names but type is String for all\n",
    "#spark job created to read first column\n",
    "filepath = \"file:///C:/Users/venka/PycharmProjects/pythonProject/dataset/\"\n",
    "df = spark.read.option(\"header\",True) \\\n",
    "                .option(\"delimiter\",\",\") \\\n",
    "                .csv(filepath + \"IntPandasSpark.csv\",inferSchema=True)\n",
    "df.show()"
   ]
  },
  {
   "cell_type": "code",
   "execution_count": 24,
   "id": "f3a47dd7",
   "metadata": {},
   "outputs": [
    {
     "data": {
      "text/html": [
       "<div>\n",
       "<style scoped>\n",
       "    .dataframe tbody tr th:only-of-type {\n",
       "        vertical-align: middle;\n",
       "    }\n",
       "\n",
       "    .dataframe tbody tr th {\n",
       "        vertical-align: top;\n",
       "    }\n",
       "\n",
       "    .dataframe thead th {\n",
       "        text-align: right;\n",
       "    }\n",
       "</style>\n",
       "<table border=\"1\" class=\"dataframe\">\n",
       "  <thead>\n",
       "    <tr style=\"text-align: right;\">\n",
       "      <th></th>\n",
       "      <th>CustomerId</th>\n",
       "      <th>CustomerName</th>\n",
       "      <th>dateTime</th>\n",
       "      <th>Amount</th>\n",
       "      <th>discount</th>\n",
       "      <th>Member</th>\n",
       "    </tr>\n",
       "  </thead>\n",
       "  <tbody>\n",
       "    <tr>\n",
       "      <th>0</th>\n",
       "      <td>1001</td>\n",
       "      <td>Arun</td>\n",
       "      <td>2020-07-15 01:01:53</td>\n",
       "      <td>2465.22</td>\n",
       "      <td>10 %</td>\n",
       "      <td>True</td>\n",
       "    </tr>\n",
       "    <tr>\n",
       "      <th>1</th>\n",
       "      <td>1005</td>\n",
       "      <td>Barath</td>\n",
       "      <td>2020-07-13 12:15:33</td>\n",
       "      <td>8399.34</td>\n",
       "      <td>5 %</td>\n",
       "      <td>True</td>\n",
       "    </tr>\n",
       "    <tr>\n",
       "      <th>2</th>\n",
       "      <td>1003</td>\n",
       "      <td>Charle</td>\n",
       "      <td>2020-07-18 20:10:45</td>\n",
       "      <td>1234.88</td>\n",
       "      <td>3 %</td>\n",
       "      <td>False</td>\n",
       "    </tr>\n",
       "    <tr>\n",
       "      <th>3</th>\n",
       "      <td>1004</td>\n",
       "      <td>Gokul</td>\n",
       "      <td>2020-07-15 11:11:36</td>\n",
       "      <td>1690.00</td>\n",
       "      <td>1 %</td>\n",
       "      <td>True</td>\n",
       "    </tr>\n",
       "    <tr>\n",
       "      <th>4</th>\n",
       "      <td>1005</td>\n",
       "      <td>NaN</td>\n",
       "      <td>2020-07-18 15:11:43</td>\n",
       "      <td>160.00</td>\n",
       "      <td>3 %</td>\n",
       "      <td>True</td>\n",
       "    </tr>\n",
       "  </tbody>\n",
       "</table>\n",
       "</div>"
      ],
      "text/plain": [
       "   CustomerId CustomerName             dateTime   Amount discount  Member\n",
       "0        1001         Arun  2020-07-15 01:01:53  2465.22     10 %    True\n",
       "1        1005       Barath  2020-07-13 12:15:33  8399.34      5 %    True\n",
       "2        1003       Charle  2020-07-18 20:10:45  1234.88      3 %   False\n",
       "3        1004        Gokul  2020-07-15 11:11:36  1690.00      1 %    True\n",
       "4        1005          NaN  2020-07-18 15:11:43   160.00      3 %    True"
      ]
     },
     "execution_count": 24,
     "metadata": {},
     "output_type": "execute_result"
    }
   ],
   "source": [
    "import pandas as pd\n",
    "pandasdf = pd.read_csv(filepath + \"IntPandasSpark.csv\")\n",
    "pandasdf.head()"
   ]
  },
  {
   "cell_type": "code",
   "execution_count": 25,
   "id": "23d2d99a",
   "metadata": {},
   "outputs": [
    {
     "data": {
      "text/plain": [
       "CustomerId        int64\n",
       "CustomerName     object\n",
       "dateTime         object\n",
       "Amount          float64\n",
       "discount         object\n",
       "Member             bool\n",
       "dtype: object"
      ]
     },
     "execution_count": 25,
     "metadata": {},
     "output_type": "execute_result"
    }
   ],
   "source": [
    "pandasdf.dtypes"
   ]
  },
  {
   "cell_type": "code",
   "execution_count": 14,
   "id": "1693bccb",
   "metadata": {},
   "outputs": [
    {
     "data": {
      "text/plain": [
       "'true'"
      ]
     },
     "execution_count": 14,
     "metadata": {},
     "output_type": "execute_result"
    }
   ],
   "source": [
    "#ApacheArrow is a incolumnar data format used to transfer data between jvm and python processes\n",
    "#topandas (from spark to pandas) will use driver memory to collect in to a single a driver - overhead. \n",
    "#should work on sample database conversion not whole spark dataframe conversion\n",
    "\n",
    "#Optimize conversion using ApacheArrow\n",
    "spark.conf.get(\"spark.sql.execution.arrow.enabled\")"
   ]
  },
  {
   "cell_type": "code",
   "execution_count": 15,
   "id": "46e93f1c",
   "metadata": {},
   "outputs": [
    {
     "data": {
      "text/plain": [
       "'true'"
      ]
     },
     "execution_count": 15,
     "metadata": {},
     "output_type": "execute_result"
    }
   ],
   "source": [
    "spark.conf.get(\"spark.sql.execution.arrow.fallback.enabled\")"
   ]
  },
  {
   "cell_type": "code",
   "execution_count": 16,
   "id": "4022d31d",
   "metadata": {},
   "outputs": [],
   "source": [
    "spark.conf.set(\"spark.sql.execution.arrow.enabled\",True)\n",
    "spark.conf.set(\"spark.sql.execution.arrow.fallback.enabled\",True)"
   ]
  },
  {
   "cell_type": "code",
   "execution_count": 32,
   "id": "626cb6ba",
   "metadata": {},
   "outputs": [
    {
     "name": "stdout",
     "output_type": "stream",
     "text": [
      "root\n",
      " |-- CustomerId: long (nullable = true)\n",
      " |-- CustomerName: string (nullable = true)\n",
      " |-- dateTime: string (nullable = true)\n",
      " |-- Amount: double (nullable = true)\n",
      " |-- discount: string (nullable = true)\n",
      " |-- Member: boolean (nullable = true)\n",
      "\n"
     ]
    }
   ],
   "source": [
    "#conversion Issues\n",
    "#cannot merge StringType() to DoubleType()\n",
    "sparkdf = spark.createDataFrame(pandasdf)\n",
    "sparkdf.printSchema()"
   ]
  },
  {
   "cell_type": "code",
   "execution_count": 27,
   "id": "ad818a23",
   "metadata": {},
   "outputs": [
    {
     "name": "stdout",
     "output_type": "stream",
     "text": [
      "+----------+------------+-------------------+-------+--------+------+\n",
      "|CustomerId|CustomerName|           dateTime| Amount|discount|Member|\n",
      "+----------+------------+-------------------+-------+--------+------+\n",
      "|      1001|        Arun|2020-07-15 01:01:53|2465.22|    10 %|  true|\n",
      "|      1005|      Barath|2020-07-13 12:15:33|8399.34|     5 %|  true|\n",
      "|      1003|      Charle|2020-07-18 20:10:45|1234.88|     3 %| false|\n",
      "|      1004|       Gokul|2020-07-15 11:11:36| 1690.0|     1 %|  true|\n",
      "|      1005|        NULL|2020-07-18 15:11:43|  160.0|     3 %|  true|\n",
      "|      1006|      Gerold|2020-07-08 14:16:53| 2546.0|     1 %|  true|\n",
      "|      1007|      Parker|2020-07-04 17:13:33| 3456.0|     2 %| false|\n",
      "|      1008|        Thor|2020-07-10 03:30:43| 8745.0|     5 %|  true|\n",
      "|      1009|       Steve|2020-07-22 12:10:43|  143.0|     2 %|  true|\n",
      "|      1010|        Mani|2020-07-27 19:40:23| 1865.0|     3 %|  true|\n",
      "|      1011|      Cooper|2020-07-13 18:10:33| 1200.0|     1 %|  true|\n",
      "|      1012|       Penny|2020-07-28 13:20:33| 1693.0|     4 %| false|\n",
      "|      1013|     Lenoard|2020-07-22 10:50:33|7600.98|     1 %|  true|\n",
      "|      1014|    Mohammed|2020-07-12 07:30:33|  534.0|     2 %|  true|\n",
      "|      1015|      Althaf|2020-07-10 05:10:36| 2435.0|     1 %|  true|\n",
      "+----------+------------+-------------------+-------+--------+------+\n",
      "\n"
     ]
    }
   ],
   "source": [
    "sparkdf.show()"
   ]
  },
  {
   "cell_type": "code",
   "execution_count": 34,
   "id": "d43c8dd4",
   "metadata": {},
   "outputs": [
    {
     "name": "stdout",
     "output_type": "stream",
     "text": [
      "root\n",
      " |-- CustomerId: string (nullable = true)\n",
      " |-- CustomerName: string (nullable = true)\n",
      " |-- dateTime: string (nullable = true)\n",
      " |-- Amount: string (nullable = true)\n",
      " |-- discount: string (nullable = true)\n",
      " |-- Member: string (nullable = true)\n",
      "\n"
     ]
    }
   ],
   "source": [
    "#Method1 - During conversion type astype(Str)\n",
    "df1=spark.createDataFrame(pandasdf.astype(\"str\"))\n",
    "df1.printSchema()"
   ]
  },
  {
   "cell_type": "code",
   "execution_count": 40,
   "id": "eb36d709",
   "metadata": {},
   "outputs": [
    {
     "name": "stdout",
     "output_type": "stream",
     "text": [
      "root\n",
      " |-- CustomerId: integer (nullable = true)\n",
      " |-- CustomerName: string (nullable = true)\n",
      " |-- Datetime: string (nullable = true)\n",
      " |-- Amount: float (nullable = true)\n",
      " |-- Discount: string (nullable = true)\n",
      " |-- Member: boolean (nullable = true)\n",
      "\n"
     ]
    }
   ],
   "source": [
    "#Method2 - Define StructType\n",
    "schema = StructType([\n",
    "    StructField(\"CustomerId\",IntegerType(),True),\n",
    "    StructField(\"CustomerName\",StringType(),True),\n",
    "    StructField(\"Datetime\",StringType(),True),\n",
    "    StructField(\"Amount\",FloatType(),True),\n",
    "    StructField(\"Discount\",StringType(),True),\n",
    "    StructField(\"Member\",BooleanType(),True)\n",
    "])\n",
    "df2 = spark.createDataFrame(pandasdf,schema=schema)\n",
    "df2.printSchema()"
   ]
  },
  {
   "cell_type": "code",
   "execution_count": 48,
   "id": "491bf682",
   "metadata": {},
   "outputs": [
    {
     "data": {
      "text/html": [
       "<div>\n",
       "<style scoped>\n",
       "    .dataframe tbody tr th:only-of-type {\n",
       "        vertical-align: middle;\n",
       "    }\n",
       "\n",
       "    .dataframe tbody tr th {\n",
       "        vertical-align: top;\n",
       "    }\n",
       "\n",
       "    .dataframe thead th {\n",
       "        text-align: right;\n",
       "    }\n",
       "</style>\n",
       "<table border=\"1\" class=\"dataframe\">\n",
       "  <thead>\n",
       "    <tr style=\"text-align: right;\">\n",
       "      <th></th>\n",
       "      <th>CustomerId</th>\n",
       "      <th>CustomerName</th>\n",
       "      <th>Datetime</th>\n",
       "      <th>Amount</th>\n",
       "      <th>Discount</th>\n",
       "      <th>Member</th>\n",
       "    </tr>\n",
       "  </thead>\n",
       "  <tbody>\n",
       "    <tr>\n",
       "      <th>0</th>\n",
       "      <td>1001</td>\n",
       "      <td>Arun</td>\n",
       "      <td>2020-07-15 01:01:53</td>\n",
       "      <td>2465.219971</td>\n",
       "      <td>10 %</td>\n",
       "      <td>True</td>\n",
       "    </tr>\n",
       "    <tr>\n",
       "      <th>1</th>\n",
       "      <td>1005</td>\n",
       "      <td>Barath</td>\n",
       "      <td>2020-07-13 12:15:33</td>\n",
       "      <td>8399.339844</td>\n",
       "      <td>5 %</td>\n",
       "      <td>True</td>\n",
       "    </tr>\n",
       "    <tr>\n",
       "      <th>2</th>\n",
       "      <td>1003</td>\n",
       "      <td>Charle</td>\n",
       "      <td>2020-07-18 20:10:45</td>\n",
       "      <td>1234.880005</td>\n",
       "      <td>3 %</td>\n",
       "      <td>False</td>\n",
       "    </tr>\n",
       "    <tr>\n",
       "      <th>3</th>\n",
       "      <td>1004</td>\n",
       "      <td>Gokul</td>\n",
       "      <td>2020-07-15 11:11:36</td>\n",
       "      <td>1690.000000</td>\n",
       "      <td>1 %</td>\n",
       "      <td>True</td>\n",
       "    </tr>\n",
       "    <tr>\n",
       "      <th>4</th>\n",
       "      <td>1005</td>\n",
       "      <td>None</td>\n",
       "      <td>2020-07-18 15:11:43</td>\n",
       "      <td>160.000000</td>\n",
       "      <td>3 %</td>\n",
       "      <td>True</td>\n",
       "    </tr>\n",
       "  </tbody>\n",
       "</table>\n",
       "</div>"
      ],
      "text/plain": [
       "   CustomerId CustomerName             Datetime       Amount Discount  Member\n",
       "0        1001         Arun  2020-07-15 01:01:53  2465.219971     10 %    True\n",
       "1        1005       Barath  2020-07-13 12:15:33  8399.339844      5 %    True\n",
       "2        1003       Charle  2020-07-18 20:10:45  1234.880005      3 %   False\n",
       "3        1004        Gokul  2020-07-15 11:11:36  1690.000000      1 %    True\n",
       "4        1005         None  2020-07-18 15:11:43   160.000000      3 %    True"
      ]
     },
     "execution_count": 48,
     "metadata": {},
     "output_type": "execute_result"
    }
   ],
   "source": [
    "#convert spark dataframe to pandas dataframe\n",
    "pandasdf2 = df2.toPandas()\n",
    "pandasdf2.head()"
   ]
  },
  {
   "cell_type": "code",
   "execution_count": 49,
   "id": "12b98d1a",
   "metadata": {},
   "outputs": [
    {
     "data": {
      "text/plain": [
       "CustomerId        int32\n",
       "CustomerName     object\n",
       "Datetime         object\n",
       "Amount          float32\n",
       "Discount         object\n",
       "Member             bool\n",
       "dtype: object"
      ]
     },
     "execution_count": 49,
     "metadata": {},
     "output_type": "execute_result"
    }
   ],
   "source": [
    "pandasdf2.dtypes"
   ]
  },
  {
   "cell_type": "code",
   "execution_count": 50,
   "id": "c4c6014c",
   "metadata": {},
   "outputs": [
    {
     "data": {
      "text/plain": [
       "pandas.core.frame.DataFrame"
      ]
     },
     "execution_count": 50,
     "metadata": {},
     "output_type": "execute_result"
    }
   ],
   "source": [
    "type(pandasdf2)"
   ]
  }
 ],
 "metadata": {
  "kernelspec": {
   "display_name": "Python 3 (ipykernel)",
   "language": "python",
   "name": "python3"
  },
  "language_info": {
   "codemirror_mode": {
    "name": "ipython",
    "version": 3
   },
   "file_extension": ".py",
   "mimetype": "text/x-python",
   "name": "python",
   "nbconvert_exporter": "python",
   "pygments_lexer": "ipython3",
   "version": "3.9.18"
  }
 },
 "nbformat": 4,
 "nbformat_minor": 5
}
