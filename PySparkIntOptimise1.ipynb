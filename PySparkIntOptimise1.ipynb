{
 "cells": [
  {
   "cell_type": "code",
   "execution_count": 2,
   "id": "fa84cdbf",
   "metadata": {},
   "outputs": [],
   "source": [
    "import findspark\n",
    "findspark.init()"
   ]
  },
  {
   "cell_type": "code",
   "execution_count": 3,
   "id": "87cd9942",
   "metadata": {},
   "outputs": [],
   "source": [
    "from pyspark.sql import SparkSession\n",
    "from pyspark.sql.functions import *\n",
    "from pyspark.sql.streaming import *\n",
    "from pyspark.sql.types import *\n",
    "\n",
    "spark = SparkSession.builder.master(\"local\").appName(\"InferSchema\").getOrCreate()\n",
    "sc = spark.sparkContext"
   ]
  },
  {
   "cell_type": "code",
   "execution_count": 8,
   "id": "f024d7a4",
   "metadata": {},
   "outputs": [
    {
     "name": "stdout",
     "output_type": "stream",
     "text": [
      "+---------+----------------+----------+-------------+-----------+------------------+\n",
      "|2019_rank|            City|State_Code|2019_estimate|2010_Census|            Change|\n",
      "+---------+----------------+----------+-------------+-----------+------------------+\n",
      "|        1|     New York[d]|        NY|      8336817|    8175133|            0.0198|\n",
      "|        2|     Los Angeles|        CA|      3979576|    3792621|            0.0493|\n",
      "|        3|         Chicago|        IL|      2693976|    2695598|−0.06%            |\n",
      "|        4|      Houston[3]|        TX|      2320268|    2100263|            0.1048|\n",
      "|        5|         Phoenix|        AZ|      1680992|    1445632|            0.1628|\n",
      "|        6|     San Antonio|        TX|      1547253|    1327407|            0.1656|\n",
      "|        7|       San Diego|        CA|      1423851|    1307402|            0.0891|\n",
      "|        8|          Dallas|        TX|      1343573|    1197816|            0.1217|\n",
      "|        9|        San Jose|        CA|      1021795|     945942|            0.0802|\n",
      "|       10|          Austin|        TX|       978908|     790390|            0.2385|\n",
      "|       11|      Fort Worth|        TX|       909585|     741206|            0.2272|\n",
      "|       12|        Columbus|        OH|       898553|     787033|            0.1417|\n",
      "|       13|San Francisco[g]|        CA|       881549|     805235|            0.0948|\n",
      "|       14|       Denver[i]|        CO|       727211|     600158|            0.2117|\n",
      "|       15|         El Paso|        TX|       681728|     649121|            0.0502|\n",
      "|       16|          Tucson|        AZ|       548073|     520116|            0.0538|\n",
      "|       17|          Fresno|        CA|       531576|     494665|            0.0746|\n",
      "|       18|            Mesa|        AZ|       518012|     439041|            0.1799|\n",
      "|       19|      Sacramento|        CA|       513624|     466488|             0.101|\n",
      "|       20|Colorado Springs|        CO|       478221|     416427|            0.1484|\n",
      "+---------+----------------+----------+-------------+-----------+------------------+\n",
      "only showing top 20 rows\n",
      "\n"
     ]
    }
   ],
   "source": [
    "# sql adaptive query execution adaptive.coalescePartitions.enabled will makr paritions dynamic\n",
    "sc.setLogLevel(\"Error\")\n",
    "spark.conf.set(\"spark.sql.shuffle.partitions\",3)\n",
    "spark.conf.get(\"spark.sql.shuffle.partitions\")\n",
    "spark.conf.set(\"spark.sql.adaptive.enabled\",\"false\")\n",
    "spark.conf.set(\"spark.sql.adaptive.coalescePartitions.enabled\",\"false\")\n",
    "\n",
    "\"\"\"\n",
    "inferschema vs predefind schema\n",
    "inferSchema -\n",
    "PredefineSchema - create a structType or case class define schema\n",
    "\"\"\"\n",
    "\n",
    "#WithoutInferSchema\n",
    "#headerTrue will read first row and assign column names but type is String for all\n",
    "#spark job created to read first column\n",
    "filepath = \"file:///C:/Users/venka/PycharmProjects/pythonProject/dataset/\"\n",
    "df = spark.read.option(\"header\",True) \\\n",
    "                .option(\"delimiter\",\"|\") \\\n",
    "                .csv(filepath + \"IntUSPopulation.csv\")\n",
    "df.show()"
   ]
  },
  {
   "cell_type": "code",
   "execution_count": 9,
   "id": "f3a47dd7",
   "metadata": {},
   "outputs": [
    {
     "name": "stdout",
     "output_type": "stream",
     "text": [
      "+---------+----------------+----------+-------------+-----------+------------------+\n",
      "|2019_rank|            City|State_Code|2019_estimate|2010_Census|            Change|\n",
      "+---------+----------------+----------+-------------+-----------+------------------+\n",
      "|        1|     New York[d]|        NY|      8336817|    8175133|            0.0198|\n",
      "|        2|     Los Angeles|        CA|      3979576|    3792621|            0.0493|\n",
      "|        3|         Chicago|        IL|      2693976|    2695598|−0.06%            |\n",
      "|        4|      Houston[3]|        TX|      2320268|    2100263|            0.1048|\n",
      "|        5|         Phoenix|        AZ|      1680992|    1445632|            0.1628|\n",
      "|        6|     San Antonio|        TX|      1547253|    1327407|            0.1656|\n",
      "|        7|       San Diego|        CA|      1423851|    1307402|            0.0891|\n",
      "|        8|          Dallas|        TX|      1343573|    1197816|            0.1217|\n",
      "|        9|        San Jose|        CA|      1021795|     945942|            0.0802|\n",
      "|       10|          Austin|        TX|       978908|     790390|            0.2385|\n",
      "|       11|      Fort Worth|        TX|       909585|     741206|            0.2272|\n",
      "|       12|        Columbus|        OH|       898553|     787033|            0.1417|\n",
      "|       13|San Francisco[g]|        CA|       881549|     805235|            0.0948|\n",
      "|       14|       Denver[i]|        CO|       727211|     600158|            0.2117|\n",
      "|       15|         El Paso|        TX|       681728|     649121|            0.0502|\n",
      "|       16|          Tucson|        AZ|       548073|     520116|            0.0538|\n",
      "|       17|          Fresno|        CA|       531576|     494665|            0.0746|\n",
      "|       18|            Mesa|        AZ|       518012|     439041|            0.1799|\n",
      "|       19|      Sacramento|        CA|       513624|     466488|             0.101|\n",
      "|       20|Colorado Springs|        CO|       478221|     416427|            0.1484|\n",
      "+---------+----------------+----------+-------------+-----------+------------------+\n",
      "only showing top 20 rows\n",
      "\n"
     ]
    }
   ],
   "source": [
    "#Method1\n",
    "#inferSchema(read thru entire file) is used to get datatype for all columns. Read.csv is neither transformation not action\n",
    "#spark job triggered to create a DAG visualisation to read entire file\n",
    "df1 = spark.read.option(\"header\",True) \\\n",
    "                .option(\"delimiter\",\"|\") \\\n",
    "                .csv(filepath + \"IntUSPopulation.csv\",inferSchema=True)\n",
    "df.show()"
   ]
  },
  {
   "cell_type": "code",
   "execution_count": 12,
   "id": "626cb6ba",
   "metadata": {},
   "outputs": [],
   "source": [
    "schema = StructType([\n",
    "    StructField(\"2019_rank\",IntegerType(),True),\n",
    "    StructField(\"City\",StringType(),True),\n",
    "    StructField(\"State_code\",StringType(),True),\n",
    "    StructField(\"2019_estimate\",IntegerType(),True),\n",
    "    StructField(\"2010_Census\",IntegerType(),True),\n",
    "    StructField(\"Change\",StringType(),True)\n",
    "])"
   ]
  },
  {
   "cell_type": "code",
   "execution_count": 14,
   "id": "ad818a23",
   "metadata": {},
   "outputs": [
    {
     "name": "stdout",
     "output_type": "stream",
     "text": [
      "+---------+----------------+----------+-------------+-----------+------------------+\n",
      "|2019_rank|            City|State_code|2019_estimate|2010_Census|            Change|\n",
      "+---------+----------------+----------+-------------+-----------+------------------+\n",
      "|        1|     New York[d]|        NY|      8336817|    8175133|            0.0198|\n",
      "|        2|     Los Angeles|        CA|      3979576|    3792621|            0.0493|\n",
      "|        3|         Chicago|        IL|      2693976|    2695598|−0.06%            |\n",
      "|        4|      Houston[3]|        TX|      2320268|    2100263|            0.1048|\n",
      "|        5|         Phoenix|        AZ|      1680992|    1445632|            0.1628|\n",
      "|        6|     San Antonio|        TX|      1547253|    1327407|            0.1656|\n",
      "|        7|       San Diego|        CA|      1423851|    1307402|            0.0891|\n",
      "|        8|          Dallas|        TX|      1343573|    1197816|            0.1217|\n",
      "|        9|        San Jose|        CA|      1021795|     945942|            0.0802|\n",
      "|       10|          Austin|        TX|       978908|     790390|            0.2385|\n",
      "|       11|      Fort Worth|        TX|       909585|     741206|            0.2272|\n",
      "|       12|        Columbus|        OH|       898553|     787033|            0.1417|\n",
      "|       13|San Francisco[g]|        CA|       881549|     805235|            0.0948|\n",
      "|       14|       Denver[i]|        CO|       727211|     600158|            0.2117|\n",
      "|       15|         El Paso|        TX|       681728|     649121|            0.0502|\n",
      "|       16|          Tucson|        AZ|       548073|     520116|            0.0538|\n",
      "|       17|          Fresno|        CA|       531576|     494665|            0.0746|\n",
      "|       18|            Mesa|        AZ|       518012|     439041|            0.1799|\n",
      "|       19|      Sacramento|        CA|       513624|     466488|             0.101|\n",
      "|       20|Colorado Springs|        CO|       478221|     416427|            0.1484|\n",
      "+---------+----------------+----------+-------------+-----------+------------------+\n",
      "only showing top 20 rows\n",
      "\n"
     ]
    }
   ],
   "source": [
    "#Method2\n",
    "#No spark job created, fastest run\n",
    "df1 = spark.read.option(\"header\",True) \\\n",
    "                .option(\"delimiter\",\"|\") \\\n",
    "                .schema(schema) \\\n",
    "                .csv(filepath + \"IntUSPopulation.csv\")\n",
    "df1.show()"
   ]
  }
 ],
 "metadata": {
  "kernelspec": {
   "display_name": "Python 3 (ipykernel)",
   "language": "python",
   "name": "python3"
  },
  "language_info": {
   "codemirror_mode": {
    "name": "ipython",
    "version": 3
   },
   "file_extension": ".py",
   "mimetype": "text/x-python",
   "name": "python",
   "nbconvert_exporter": "python",
   "pygments_lexer": "ipython3",
   "version": "3.9.18"
  }
 },
 "nbformat": 4,
 "nbformat_minor": 5
}
