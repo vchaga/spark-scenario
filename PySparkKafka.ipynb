{
 "cells": [
  {
   "cell_type": "code",
   "execution_count": 2,
   "id": "a73375e1",
   "metadata": {},
   "outputs": [],
   "source": [
    "import findspark\n",
    "findspark.init()"
   ]
  },
  {
   "cell_type": "code",
   "execution_count": 3,
   "id": "87cd9942",
   "metadata": {},
   "outputs": [],
   "source": [
    "\"\"\"\n",
    "Only use this command to change package information during pyspark shell launch. This cell is not working\n",
    "\"\"\"\n",
    "import os\n",
    "os.environ['PYSPARK_SUBMIT_ARGS'] = \\\n",
    " '--packages org.apache.spark:spark-streaming-kafka-0-10_2.12:3.5.0,org.apache.spark:spark-sql-kafka-0-10_2.12:3.5.0 pyspark-shell'\n",
    "#,org.apache.spark:spark-avro_2.12:3.5.0 pyspark-shell' "
   ]
  },
  {
   "cell_type": "code",
   "execution_count": 4,
   "id": "423e417b",
   "metadata": {},
   "outputs": [
    {
     "name": "stderr",
     "output_type": "stream",
     "text": [
      "C:\\Program Files\\spark3.5\\python\\pyspark\\streaming\\context.py:72: FutureWarning: DStream is deprecated as of Spark 3.4.0. Migrate to Structured Streaming.\n",
      "  warnings.warn(\n"
     ]
    },
    {
     "name": "stdout",
     "output_type": "stream",
     "text": [
      "+----+-----+\n",
      "|word|count|\n",
      "+----+-----+\n",
      "+----+-----+\n",
      "\n",
      "+-----------+-----+\n",
      "|       word|count|\n",
      "+-----------+-----+\n",
      "|        for|    1|\n",
      "|    example|    1|\n",
      "|      hello|    1|\n",
      "|       with|    1|\n",
      "|integration|    1|\n",
      "|  streaming|    1|\n",
      "|         is|    1|\n",
      "|      Kafka|    1|\n",
      "|    testing|    1|\n",
      "|     count.|    1|\n",
      "|      Hello|    1|\n",
      "|      spark|    1|\n",
      "|        the|    1|\n",
      "|       word|    1|\n",
      "| streaming.|    1|\n",
      "|     sample|    1|\n",
      "|      world|    1|\n",
      "|       This|    1|\n",
      "|      Spark|    1|\n",
      "|       text|    1|\n",
      "+-----------+-----+\n",
      "only showing top 20 rows\n",
      "\n",
      "+-----------+-----+\n",
      "|       word|count|\n",
      "+-----------+-----+\n",
      "|        for|    2|\n",
      "|    example|    2|\n",
      "|      hello|    2|\n",
      "|       with|    2|\n",
      "|integration|    2|\n",
      "|  streaming|    2|\n",
      "|         is|    2|\n",
      "|      Kafka|    2|\n",
      "|    testing|    2|\n",
      "|     count.|    2|\n",
      "|      spark|    2|\n",
      "|      Hello|    2|\n",
      "|        the|    2|\n",
      "|       word|    2|\n",
      "| streaming.|    2|\n",
      "|     sample|    2|\n",
      "|      world|    2|\n",
      "|       This|    2|\n",
      "|      Spark|    2|\n",
      "|       text|    2|\n",
      "+-----------+-----+\n",
      "only showing top 20 rows\n",
      "\n"
     ]
    }
   ],
   "source": [
    "from pyspark.sql import SparkSession\n",
    "from pyspark.sql.functions import *\n",
    "from pyspark.sql.streaming import *\n",
    "from pyspark.sql.types import *\n",
    "from pyspark.sql.window import Window\n",
    "from pyspark.streaming import StreamingContext\n",
    "#import os\n",
    "\n",
    "spark = SparkSession.builder.master(\"local\").appName(\"kafkastream\").getOrCreate()\n",
    "sc = spark.sparkContext\n",
    "ssc = StreamingContext(sc,60)  \n",
    "## Create a local StreamingContext with two working thread and batch interval of 60 second\n",
    "\n",
    "# Create a DStream that will connect to hostname:port, like localhost:9999\n",
    "#lines = ssc.socketTextStream(\"localhost\", 9999)"
   ]
  },
  {
   "cell_type": "code",
   "execution_count": null,
   "id": "f024d7a4",
   "metadata": {
    "scrolled": false
   },
   "outputs": [],
   "source": [
    "# sql adaptive query execution adaptive.coalescePartitions.enabled will makr paritions dynamic\n",
    "sc.setLogLevel(\"Error\")\n",
    "#spark.conf.set(\"spark.sql.shuffle.partitions\",3)\n",
    "#spark.conf.get(\"spark.sql.shuffle.partitions\")\n",
    "#spark.conf.set(\"spark.sql.adaptive.enabled\",\"false\")\n",
    "#spark.conf.set(\"spark.sql.adaptive.coalescePartitions.enabled\",\"false\")\n",
    "#spark.conf.set(\"spark.sql.execution.arrow.enabled\",True)\n",
    "#spark.conf.set(\"spark.sql.execution.arrow.fallback.enabled\",True)\n",
    "\n",
    "\"\"\"\n",
    "Kafka integration\n",
    "InPyspark - As integration between spark and kafka is lower, use 60 sec as interval\n",
    "\"\"\"\n",
    "\n",
    "#WithoutInferSchema\n",
    "#headerTrue will read first row and assign column names but type is String for all\n",
    "#spark job created to read first column\n",
    "filepath = \"file:///C:/Users/venka/PycharmProjects/pythonProject/dataset/\"\n",
    "\n",
    "#message = kafkaUtils.createDirectStream(ssc,topics=['testtopic'],\n",
    "#                                       kafkaParams={\"message.broker.list\":\"localhost:9092\"})\n",
    "\n",
    "streaming_df = spark.readStream \\\n",
    "  .format(\"kafka\") \\\n",
    "  .option(\"kafka.bootstrap.servers\", \"localhost:9092\") \\\n",
    "  .option(\"subscribe\", \"testtopic\") \\\n",
    "  .load()\n",
    "\n",
    "#ds = df \\\n",
    "#  .selectExpr(\"CAST(key AS STRING)\") \\\n",
    "#  .writeStream \\\n",
    "#  .format(\"kafka\") \\\n",
    "#  .option(\"kafka.bootstrap.servers\", \"localhost:9092\") \\\n",
    "#  .option(\"topic\", \"testtopic\") \\\n",
    "#  .start()\n",
    "\n",
    "words = streaming_df.selectExpr(\"CAST(value AS STRING)\")\n",
    "\n",
    "word_df = words.select(explode(split(col(\"value\"), \" \")).alias(\"word\"))\n",
    "\n",
    "# Perform word count\n",
    "word_count = word_df.groupBy(\"word\").count()\n",
    "\n",
    "# Write the word count DataFrame to the console\n",
    "query = word_count.writeStream \\\n",
    "    .outputMode(\"complete\") \\\n",
    "    .foreachBatch(lambda df, epoch_id: df.show()) \\\n",
    "    .start()\n",
    "\n",
    "query.awaitTermination()"
   ]
  },
  {
   "cell_type": "code",
   "execution_count": null,
   "id": "17231cbf",
   "metadata": {},
   "outputs": [],
   "source": [
    "query.stop()"
   ]
  }
 ],
 "metadata": {
  "kernelspec": {
   "display_name": "Python 3 (ipykernel)",
   "language": "python",
   "name": "python3"
  },
  "language_info": {
   "codemirror_mode": {
    "name": "ipython",
    "version": 3
   },
   "file_extension": ".py",
   "mimetype": "text/x-python",
   "name": "python",
   "nbconvert_exporter": "python",
   "pygments_lexer": "ipython3",
   "version": "3.12.1"
  }
 },
 "nbformat": 4,
 "nbformat_minor": 5
}
