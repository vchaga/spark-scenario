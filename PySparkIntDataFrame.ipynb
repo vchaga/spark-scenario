{
 "cells": [
  {
   "cell_type": "code",
   "execution_count": 2,
   "id": "fa84cdbf",
   "metadata": {},
   "outputs": [],
   "source": [
    "import findspark\n",
    "findspark.init()"
   ]
  },
  {
   "cell_type": "code",
   "execution_count": 3,
   "id": "87cd9942",
   "metadata": {},
   "outputs": [],
   "source": [
    "from pyspark.sql import SparkSession\n",
    "from pyspark.sql.functions import *\n",
    "from pyspark.sql.streaming import *\n",
    "from pyspark.sql.types import *\n",
    "\n",
    "spark = SparkSession.builder.master(\"local\").appName(\"DataframeReader\").getOrCreate()\n",
    "sc = spark.sparkContext"
   ]
  },
  {
   "cell_type": "code",
   "execution_count": 9,
   "id": "f024d7a4",
   "metadata": {},
   "outputs": [
    {
     "name": "stdout",
     "output_type": "stream",
     "text": [
      "+-----+-------+-----------+\n",
      "|col_1|col_2  |col_3      |\n",
      "+-----+-------+-----------+\n",
      "|101  |Murugan| HealthCare|\n",
      "|102  |Kannan | Finance   |\n",
      "|103  |Mani   |IT         |\n",
      "|104  | Pavan | HR        |\n",
      "+-----+-------+-----------+\n",
      "\n"
     ]
    }
   ],
   "source": [
    "# sql adaptive query execution adaptive.coalescePartitions.enabled will makr paritions dynamic\n",
    "sc.setLogLevel(\"Error\")\n",
    "spark.conf.set(\"spark.sql.shuffle.partitions\",3)\n",
    "spark.conf.get(\"spark.sql.shuffle.partitions\")\n",
    "spark.conf.set(\"spark.sql.adaptive.enabled\",\"true\")\n",
    "spark.conf.set(\"spark.sql.adaptive.coalescePartitions.enabled\",\"true\")\n",
    "\n",
    "\"\"\"\n",
    "Modes of dataframe reader\n",
    "Permissive - default, corrupted record will be loaded to DF, if it doesnot match with schema, will add null values\n",
    "Failfast - stop the process and throw exception to check input file\n",
    "dropMalformed - it should match with schema, otherwise drop ; when we use dropmalformed use your own schema\n",
    "\n",
    "Avoid using filter after reading as DF do it while reading the file\n",
    "\"\"\"\n",
    "\n",
    "filepath = \"file:///C:/Users/venka/PycharmProjects/pythonProject/dataset/\"\n",
    "\n",
    "schema =StructType([\n",
    "    StructField(\"col_1\",StringType(),True),\n",
    "    StructField(\"col_2\",StringType(),True),\n",
    "    StructField(\"col_3\",StringType(),True)\n",
    "])\n",
    "\n",
    "df1=spark.read.option(\"mode\",\"dropmalformed\").schema(schema).csv(filepath + \"IntDataframeReader.csv\",header=True)\n",
    "#.option('delimiter','~|') can't be more than one character error\n",
    "\n",
    "df1.show(truncate=0)\n",
    "#df1.printSchema()"
   ]
  }
 ],
 "metadata": {
  "kernelspec": {
   "display_name": "Python 3 (ipykernel)",
   "language": "python",
   "name": "python3"
  },
  "language_info": {
   "codemirror_mode": {
    "name": "ipython",
    "version": 3
   },
   "file_extension": ".py",
   "mimetype": "text/x-python",
   "name": "python",
   "nbconvert_exporter": "python",
   "pygments_lexer": "ipython3",
   "version": "3.9.18"
  }
 },
 "nbformat": 4,
 "nbformat_minor": 5
}
