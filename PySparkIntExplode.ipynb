{
 "cells": [
  {
   "cell_type": "code",
   "execution_count": 1,
   "id": "fa84cdbf",
   "metadata": {},
   "outputs": [],
   "source": [
    "import findspark\n",
    "findspark.init()"
   ]
  },
  {
   "cell_type": "code",
   "execution_count": 2,
   "id": "87cd9942",
   "metadata": {},
   "outputs": [],
   "source": [
    "from pyspark.sql import SparkSession\n",
    "from pyspark.sql.functions import *\n",
    "from pyspark.sql.streaming import *\n",
    "from pyspark.sql.types import *\n",
    "\n",
    "spark = SparkSession.builder.master(\"local\").appName(\"Explode\").getOrCreate()\n",
    "sc = spark.sparkContext"
   ]
  },
  {
   "cell_type": "code",
   "execution_count": 8,
   "id": "f024d7a4",
   "metadata": {},
   "outputs": [
    {
     "name": "stdout",
     "output_type": "stream",
     "text": [
      "+-----+---+-------------+\n",
      "| Name|Age|    Education|\n",
      "+-----+---+-------------+\n",
      "|  Raj| 25|   MBA,BE,HSC|\n",
      "|Shyam| 32|         NULL|\n",
      "|Madhu| 47|ME,BE,Diploma|\n",
      "+-----+---+-------------+\n",
      "\n"
     ]
    }
   ],
   "source": [
    "# sql adaptive query execution adaptive.coalescePartitions.enabled will makr paritions dynamic\n",
    "sc.setLogLevel(\"Error\")\n",
    "spark.conf.set(\"spark.sql.shuffle.partitions\",3)\n",
    "spark.conf.get(\"spark.sql.shuffle.partitions\")\n",
    "spark.conf.set(\"spark.sql.adaptive.enabled\",\"false\")\n",
    "spark.conf.set(\"spark.sql.adaptive.coalescePartitions.enabled\",\"false\")\n",
    "\n",
    "\"\"\"\n",
    "Take care of null value as well - explode_outer\n",
    "if we dont need positional index, we can go with explode_outer\n",
    "\n",
    "posexplode_outer can be used to add positional index and cannot be used with withCoulmn\n",
    "\"\"\"\n",
    "filepath = \"file:///C:/Users/venka/PycharmProjects/pythonProject/dataset/\"\n",
    "df = spark.read.option(\"delimiter\",\"|\").option(\"header\",True).csv(filepath + \"IntExplode.csv\")\n",
    "df.show()"
   ]
  },
  {
   "cell_type": "code",
   "execution_count": 15,
   "id": "f3a47dd7",
   "metadata": {},
   "outputs": [
    {
     "name": "stdout",
     "output_type": "stream",
     "text": [
      "+-----+---+-------------+-------------+\n",
      "| Name|Age|    Education|Qualification|\n",
      "+-----+---+-------------+-------------+\n",
      "|  Raj| 25|   MBA,BE,HSC|          MBA|\n",
      "|  Raj| 25|   MBA,BE,HSC|           BE|\n",
      "|  Raj| 25|   MBA,BE,HSC|          HSC|\n",
      "|Shyam| 32|         NULL|         NULL|\n",
      "|Madhu| 47|ME,BE,Diploma|           ME|\n",
      "|Madhu| 47|ME,BE,Diploma|           BE|\n",
      "|Madhu| 47|ME,BE,Diploma|      Diploma|\n",
      "+-----+---+-------------+-------------+\n",
      "\n"
     ]
    }
   ],
   "source": [
    "df.withColumn(\"Qualification\",explode_outer(split(\"Education\",\",\"))).show()"
   ]
  },
  {
   "cell_type": "code",
   "execution_count": 16,
   "id": "626cb6ba",
   "metadata": {},
   "outputs": [
    {
     "name": "stdout",
     "output_type": "stream",
     "text": [
      "+-----+---+-----+-------------+\n",
      "| Name|Age|Index|Qualification|\n",
      "+-----+---+-----+-------------+\n",
      "|  Raj| 25|    0|          MBA|\n",
      "|  Raj| 25|    1|           BE|\n",
      "|  Raj| 25|    2|          HSC|\n",
      "|Shyam| 32| NULL|         NULL|\n",
      "|Madhu| 47|    0|           ME|\n",
      "|Madhu| 47|    1|           BE|\n",
      "|Madhu| 47|    2|      Diploma|\n",
      "+-----+---+-----+-------------+\n",
      "\n"
     ]
    }
   ],
   "source": [
    "df.select(\"*\",posexplode_outer(split(\"Education\",\",\"))) \\\n",
    ".withColumnRenamed(\"col\",\"Qualification\") \\\n",
    ".withColumnRenamed(\"pos\",\"Index\") \\\n",
    ".drop(\"Education\").show()"
   ]
  }
 ],
 "metadata": {
  "kernelspec": {
   "display_name": "Python 3 (ipykernel)",
   "language": "python",
   "name": "python3"
  },
  "language_info": {
   "codemirror_mode": {
    "name": "ipython",
    "version": 3
   },
   "file_extension": ".py",
   "mimetype": "text/x-python",
   "name": "python",
   "nbconvert_exporter": "python",
   "pygments_lexer": "ipython3",
   "version": "3.12.1"
  }
 },
 "nbformat": 4,
 "nbformat_minor": 5
}
