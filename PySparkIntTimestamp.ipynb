{
 "cells": [
  {
   "cell_type": "code",
   "execution_count": 2,
   "id": "fa84cdbf",
   "metadata": {},
   "outputs": [],
   "source": [
    "import findspark\n",
    "findspark.init()"
   ]
  },
  {
   "cell_type": "code",
   "execution_count": 3,
   "id": "87cd9942",
   "metadata": {},
   "outputs": [],
   "source": [
    "from pyspark.sql import SparkSession\n",
    "from pyspark.sql.functions import *\n",
    "from pyspark.sql.streaming import *\n",
    "from pyspark.sql.types import *\n",
    "from pyspark.sql.window import Window\n",
    "import os\n",
    "\n",
    "spark = SparkSession.builder.master(\"local\").appName(\"Timestamp\").getOrCreate()\n",
    "sc = spark.sparkContext"
   ]
  },
  {
   "cell_type": "code",
   "execution_count": 4,
   "id": "f024d7a4",
   "metadata": {},
   "outputs": [],
   "source": [
    "# sql adaptive query execution adaptive.coalescePartitions.enabled will makr paritions dynamic\n",
    "sc.setLogLevel(\"Error\")\n",
    "spark.conf.set(\"spark.sql.shuffle.partitions\",3)\n",
    "spark.conf.get(\"spark.sql.shuffle.partitions\")\n",
    "spark.conf.set(\"spark.sql.adaptive.enabled\",\"false\")\n",
    "spark.conf.set(\"spark.sql.adaptive.coalescePartitions.enabled\",\"false\")\n",
    "spark.conf.set(\"spark.sql.execution.arrow.enabled\",True)\n",
    "spark.conf.set(\"spark.sql.execution.arrow.fallback.enabled\",True)\n",
    "\n",
    "\"\"\"\n",
    "Read the file with timestamp as format\n",
    "1. Option(\"timeStampformat\",\"M/d/yyyy\") - This method is useful when we have all columns with same date format\n",
    "Option(dateformat) -will still recognise as string\n",
    "2.Use custom schema and load it with option(dateformat) while reading file\n",
    "\"\"\"\n",
    "\n",
    "#WithoutInferSchema\n",
    "#headerTrue will read first row and assign column names but type is String for all\n",
    "#spark job created to read first column\n",
    "filepath = \"file:///C:/Users/venka/PycharmProjects/pythonProject/dataset/\"\n",
    "df = spark.read.option(\"header\",True) \\\n",
    "            .option(\"inferSchema\",True) \\\n",
    "            .option(\"delimiter\",\",\") \\\n",
    "            .csv(filepath + \"IntPersonal_transactions.csv\")"
   ]
  },
  {
   "cell_type": "code",
   "execution_count": 6,
   "id": "f3a47dd7",
   "metadata": {},
   "outputs": [
    {
     "data": {
      "text/plain": [
       "StructType([StructField('Customer_No', IntegerType(), True), StructField('Card_type', StringType(), True), StructField('Date', StringType(), True), StructField('Category', StringType(), True), StructField('Transaction Type', StringType(), True), StructField('Amount', DoubleType(), True)])"
      ]
     },
     "execution_count": 6,
     "metadata": {},
     "output_type": "execute_result"
    }
   ],
   "source": [
    "#Infer Schema recognises it as string because default format is mm-dd-yyyy\n",
    "df.schema"
   ]
  },
  {
   "cell_type": "code",
   "execution_count": 9,
   "id": "23d2d99a",
   "metadata": {},
   "outputs": [
    {
     "data": {
      "text/plain": [
       "StructType([StructField('Customer_No', IntegerType(), True), StructField('Card_type', StringType(), True), StructField('Date', TimestampType(), True), StructField('Category', StringType(), True), StructField('Transaction Type', StringType(), True), StructField('Amount', DoubleType(), True)])"
      ]
     },
     "execution_count": 9,
     "metadata": {},
     "output_type": "execute_result"
    }
   ],
   "source": [
    "#Method1\n",
    "df1 = spark.read.option(\"header\",True) \\\n",
    "            .option(\"inferSchema\",True) \\\n",
    "            .option(\"timestampformat\",\"M/d/yyyy\") \\\n",
    "            .option(\"delimiter\",\",\") \\\n",
    "            .csv(filepath + \"IntPersonal_transactions.csv\")\n",
    "df1.schema"
   ]
  },
  {
   "cell_type": "code",
   "execution_count": 16,
   "id": "90e79ad0",
   "metadata": {},
   "outputs": [
    {
     "name": "stdout",
     "output_type": "stream",
     "text": [
      "root\n",
      " |-- Customer_No: integer (nullable = true)\n",
      " |-- Card_type: string (nullable = true)\n",
      " |-- Date: date (nullable = true)\n",
      " |-- Category: string (nullable = true)\n",
      " |-- Transaction Type: string (nullable = true)\n",
      " |-- Amount: float (nullable = true)\n",
      "\n"
     ]
    }
   ],
   "source": [
    "schema = StructType([\n",
    "    StructField('Customer_No', IntegerType(), True),\n",
    "    StructField('Card_type', StringType(), True),\n",
    "    StructField('Date', DateType(), True),\n",
    "    StructField('Category', StringType(), True),\n",
    "    StructField('Transaction Type', StringType(), True),\n",
    "    StructField('Amount', FloatType(), True),\n",
    "])\n",
    "\n",
    "df2 = spark.read.option(\"header\",True) \\\n",
    "            .option(\"inferSchema\",True) \\\n",
    "            .option(\"dateformat\",\"M/d/yyyy\") \\\n",
    "            .option(\"delimiter\",\",\") \\\n",
    "            .csv(filepath + \"IntPersonal_transactions.csv\",schema = schema)\n",
    "\n",
    "df2.printSchema()"
   ]
  },
  {
   "cell_type": "code",
   "execution_count": 17,
   "id": "b020e0fa",
   "metadata": {},
   "outputs": [
    {
     "name": "stdout",
     "output_type": "stream",
     "text": [
      "+-----------+-------------+----------+-------------------+----------------+-------+\n",
      "|Customer_No|    Card_type|      Date|           Category|Transaction Type| Amount|\n",
      "+-----------+-------------+----------+-------------------+----------------+-------+\n",
      "|    1000501|Platinum Card|2018-01-01|           Shopping|           debit|  11.11|\n",
      "|    1000501|     Checking|2018-01-02|    Mortgage & Rent|           debit|1247.44|\n",
      "|    1000501|  Silver Card|2018-01-02|        Restaurants|           debit|  24.22|\n",
      "|    1000501|Platinum Card|2018-01-03|Credit Card Payment|          credit|2298.09|\n",
      "|    1000501|Platinum Card|2018-01-04|      Movies & DVDs|           debit|  11.76|\n",
      "|    1000501|  Silver Card|2018-01-05|        Restaurants|           debit|  25.85|\n",
      "|    1000501|  Silver Card|2018-01-06|   Home Improvement|           debit|  18.45|\n",
      "|    1000501|     Checking|2018-01-08|          Utilities|           debit|   45.0|\n",
      "|    1000501|  Silver Card|2018-01-08|   Home Improvement|           debit|  15.38|\n",
      "|    1000501|Platinum Card|2018-01-09|              Music|           debit|  10.69|\n",
      "|    1000501|     Checking|2018-01-10|       Mobile Phone|           debit|  89.46|\n",
      "|    1000501|Platinum Card|2018-01-11|         Gas & Fuel|           debit|  34.87|\n",
      "|    1000501|Platinum Card|2018-01-11|          Groceries|           debit|  43.54|\n",
      "|    1000501|     Checking|2018-01-12|           Paycheck|          credit| 2000.0|\n",
      "|    1000531|Platinum Card|2018-01-13|          Fast Food|           debit|  32.91|\n",
      "|    1000531|Platinum Card|2018-01-13|           Shopping|           debit|  39.05|\n",
      "|    1000531|  Silver Card|2018-01-15|          Groceries|           debit|  44.19|\n",
      "|    1000531|  Silver Card|2018-01-15|        Restaurants|           debit|  64.11|\n",
      "|    1000531|     Checking|2018-01-16|          Utilities|           debit|   35.0|\n",
      "|    1000531|     Checking|2018-01-16|          Utilities|           debit|   60.0|\n",
      "+-----------+-------------+----------+-------------------+----------------+-------+\n",
      "only showing top 20 rows\n",
      "\n"
     ]
    }
   ],
   "source": [
    "df2.show()"
   ]
  }
 ],
 "metadata": {
  "kernelspec": {
   "display_name": "Python 3 (ipykernel)",
   "language": "python",
   "name": "python3"
  },
  "language_info": {
   "codemirror_mode": {
    "name": "ipython",
    "version": 3
   },
   "file_extension": ".py",
   "mimetype": "text/x-python",
   "name": "python",
   "nbconvert_exporter": "python",
   "pygments_lexer": "ipython3",
   "version": "3.9.18"
  }
 },
 "nbformat": 4,
 "nbformat_minor": 5
}
