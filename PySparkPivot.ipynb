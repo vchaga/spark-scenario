{
 "cells": [
  {
   "cell_type": "code",
   "execution_count": 1,
   "id": "fa84cdbf",
   "metadata": {},
   "outputs": [],
   "source": [
    "import findspark\n",
    "findspark.init()"
   ]
  },
  {
   "cell_type": "code",
   "execution_count": 2,
   "id": "87cd9942",
   "metadata": {},
   "outputs": [],
   "source": [
    "from pyspark.sql import SparkSession\n",
    "from pyspark.sql.functions import *\n",
    "from pyspark.sql.streaming import *\n",
    "from pyspark.sql.types import *\n",
    "\n",
    "spark = SparkSession.builder.master(\"local\").appName(\"Pivot\").getOrCreate()\n",
    "sc = spark.sparkContext"
   ]
  },
  {
   "cell_type": "code",
   "execution_count": 53,
   "id": "f024d7a4",
   "metadata": {},
   "outputs": [
    {
     "name": "stdout",
     "output_type": "stream",
     "text": [
      "+-------+-------+-----+\n",
      "|ROLL_NO|SUBJECT|MARKS|\n",
      "+-------+-------+-----+\n",
      "|   1001|English|   84|\n",
      "|   1001|Physics|   55|\n",
      "|   1001|  Maths|   45|\n",
      "|   1001|Science|   35|\n",
      "|   1001|History|   32|\n",
      "|   1002|English|   84|\n",
      "|   1002|Physics|   62|\n",
      "|   1002|  Maths|   78|\n",
      "|   1002|Science|   96|\n",
      "|   1002|History|   32|\n",
      "+-------+-------+-----+\n",
      "\n"
     ]
    }
   ],
   "source": [
    "# sql adaptive query execution adaptive.coalescePartitions.enabled will makr paritions dynamic\n",
    "sc.setLogLevel(\"Error\")\n",
    "spark.conf.set(\"spark.sql.shuffle.partitions\",3)\n",
    "spark.conf.get(\"spark.sql.shuffle.partitions\")\n",
    "spark.conf.set(\"spark.sql.adaptive.enabled\",\"false\")\n",
    "spark.conf.set(\"spark.sql.adaptive.coalescePartitions.enabled\",\"false\")\n",
    "\n",
    "\"\"\"\n",
    "Pivot(Transpose) in spark dataframe\n",
    "To perform a pivot operation, we need atleast one numerical column\n",
    "1. apply group by, apply pivot function, add all columns\n",
    "2. apply group by, find total. Merge two dataframes using join condition\n",
    "\"\"\"\n",
    "filepath = \"file:///C:/Users/venka/PycharmProjects/pythonProject/dataset/\"\n",
    "df = spark.read.option(\"delimiter\",\"|\").option(\"header\",True).csv(filepath + \"IntPivot.csv\",inferSchema=True)\n",
    "df.show()"
   ]
  },
  {
   "cell_type": "code",
   "execution_count": 35,
   "id": "f3a47dd7",
   "metadata": {},
   "outputs": [
    {
     "name": "stdout",
     "output_type": "stream",
     "text": [
      "root\n",
      " |-- ROLL_NO: integer (nullable = true)\n",
      " |-- SUBJECT: string (nullable = true)\n",
      " |-- MARKS: integer (nullable = true)\n",
      "\n"
     ]
    }
   ],
   "source": [
    "df.printSchema()"
   ]
  },
  {
   "cell_type": "code",
   "execution_count": 31,
   "id": "626cb6ba",
   "metadata": {},
   "outputs": [],
   "source": [
    "int_df = df.withColumn(\"MarksInt\",col(\"Marks\").cast(IntegerType())) \\\n",
    ".withColumn(\"RollInt\",col(\"Roll_NO\").cast(IntegerType())) \\\n",
    ".drop(\"Roll_no\").drop(\"Marks\")\n",
    "#use cast(\"int\") or cast(IntegerType())\n",
    "#InferSchema also detects the type, but here it is changing to double"
   ]
  },
  {
   "cell_type": "code",
   "execution_count": 32,
   "id": "ad818a23",
   "metadata": {},
   "outputs": [
    {
     "name": "stdout",
     "output_type": "stream",
     "text": [
      "root\n",
      " |-- SUBJECT: string (nullable = true)\n",
      " |-- MarksInt: integer (nullable = true)\n",
      " |-- RollInt: integer (nullable = true)\n",
      "\n"
     ]
    }
   ],
   "source": [
    "int_df.printSchema()"
   ]
  },
  {
   "cell_type": "code",
   "execution_count": 36,
   "id": "7c182463",
   "metadata": {},
   "outputs": [
    {
     "name": "stdout",
     "output_type": "stream",
     "text": [
      "+---------+--------+-------+\n",
      "|  SUBJECT|MarksInt|RollInt|\n",
      "+---------+--------+-------+\n",
      "| English |      84|   1001|\n",
      "|  Physics|      55|   1001|\n",
      "|   Maths |      45|   1001|\n",
      "|  Science|      35|   1001|\n",
      "| History |      32|   1001|\n",
      "| English |      84|   1002|\n",
      "|  Physics|      62|   1002|\n",
      "|   Maths |      78|   1002|\n",
      "| Science |      96|   1002|\n",
      "|  History|      32|   1002|\n",
      "+---------+--------+-------+\n",
      "\n"
     ]
    }
   ],
   "source": [
    "int_df.show()"
   ]
  },
  {
   "cell_type": "code",
   "execution_count": 57,
   "id": "9a3cfd9b",
   "metadata": {},
   "outputs": [],
   "source": [
    "tbl = df.groupBy(\"Roll_No\").pivot(\"Subject\").max(\"Marks\") \n",
    "#without max(marks), it is of GroupedData type. With max operation it is DF"
   ]
  },
  {
   "cell_type": "code",
   "execution_count": 58,
   "id": "8a14a22f",
   "metadata": {},
   "outputs": [
    {
     "data": {
      "text/plain": [
       "pyspark.sql.dataframe.DataFrame"
      ]
     },
     "execution_count": 58,
     "metadata": {},
     "output_type": "execute_result"
    }
   ],
   "source": [
    "type(tbl)"
   ]
  },
  {
   "cell_type": "code",
   "execution_count": 59,
   "id": "2275ab8d",
   "metadata": {},
   "outputs": [
    {
     "name": "stdout",
     "output_type": "stream",
     "text": [
      "+-------+-------+-------+-----+-------+-------+\n",
      "|Roll_No|English|History|Maths|Physics|Science|\n",
      "+-------+-------+-------+-----+-------+-------+\n",
      "|   1002|     84|     32|   78|     62|     96|\n",
      "|   1001|     84|     32|   45|     55|     35|\n",
      "+-------+-------+-------+-----+-------+-------+\n",
      "\n"
     ]
    }
   ],
   "source": [
    "tbl.show()"
   ]
  },
  {
   "cell_type": "code",
   "execution_count": 68,
   "id": "25be9281",
   "metadata": {},
   "outputs": [],
   "source": [
    "tbl_tot = tbl.withColumn(\"Total\",tbl[\"English\"]+tbl[\"History\"]+tbl[\"Maths\"]+tbl[\"Physics\"]+tbl[\"Science\"])"
   ]
  },
  {
   "cell_type": "code",
   "execution_count": 70,
   "id": "775b890b",
   "metadata": {},
   "outputs": [
    {
     "name": "stdout",
     "output_type": "stream",
     "text": [
      "+-------+-------+-------+-----+-------+-------+-----+\n",
      "|Roll_No|English|History|Maths|Physics|Science|Total|\n",
      "+-------+-------+-------+-----+-------+-------+-----+\n",
      "|   1002|     84|     32|   78|     62|     96|  352|\n",
      "|   1001|     84|     32|   45|     55|     35|  251|\n",
      "+-------+-------+-------+-----+-------+-------+-----+\n",
      "\n"
     ]
    }
   ],
   "source": [
    "tbl_tot.show()"
   ]
  },
  {
   "cell_type": "code",
   "execution_count": null,
   "id": "ef5d0285",
   "metadata": {},
   "outputs": [],
   "source": [
    "#Groupby rollno in first table and sum marks. Join this with the pivot table on rollno.\n",
    "\n",
    "df2 = df.groupBy(\"Roll_NO\").agg({\"Marks\": \"sum\"}).withColumnRenamed(\"sum(Marks)\", \"Total\")"
   ]
  }
 ],
 "metadata": {
  "kernelspec": {
   "display_name": "Python 3 (ipykernel)",
   "language": "python",
   "name": "python3"
  },
  "language_info": {
   "codemirror_mode": {
    "name": "ipython",
    "version": 3
   },
   "file_extension": ".py",
   "mimetype": "text/x-python",
   "name": "python",
   "nbconvert_exporter": "python",
   "pygments_lexer": "ipython3",
   "version": "3.9.18"
  }
 },
 "nbformat": 4,
 "nbformat_minor": 5
}
