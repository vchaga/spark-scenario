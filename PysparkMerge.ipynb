{
 "cells": [
  {
   "cell_type": "code",
   "execution_count": 1,
   "id": "fa84cdbf",
   "metadata": {},
   "outputs": [],
   "source": [
    "import findspark\n",
    "findspark.init()"
   ]
  },
  {
   "cell_type": "code",
   "execution_count": 2,
   "id": "87cd9942",
   "metadata": {},
   "outputs": [],
   "source": [
    "from pyspark.sql import SparkSession\n",
    "from pyspark.sql.functions import *\n",
    "from pyspark.sql.streaming import *\n",
    "from pyspark.sql.types import *\n",
    "\n",
    "spark = SparkSession.builder.master(\"local\").appName(\"MergeDataframe\").getOrCreate()\n",
    "sc = spark.sparkContext"
   ]
  },
  {
   "cell_type": "code",
   "execution_count": 3,
   "id": "f024d7a4",
   "metadata": {},
   "outputs": [
    {
     "name": "stdout",
     "output_type": "stream",
     "text": [
      "+-----------------+---+\n",
      "|Name             |Age|\n",
      "+-----------------+---+\n",
      "|Azarudeen, Shahul|25 |\n",
      "|Michel, Clarke   |26 |\n",
      "|Virat, Kohli     |28 |\n",
      "|Andrew, Simond   |37 |\n",
      "+-----------------+---+\n",
      "\n"
     ]
    }
   ],
   "source": [
    "# sql adaptive query execution adaptive.coalescePartitions.enabled will makr paritions dynamic\n",
    "sc.setLogLevel(\"Error\")\n",
    "spark.conf.set(\"spark.sql.shuffle.partitions\",3)\n",
    "spark.conf.get(\"spark.sql.shuffle.partitions\")\n",
    "\n",
    "\"\"\"\n",
    "Merging two dataframes 4 options\n",
    "withColumn, Union\n",
    "Define Schema,Union\n",
    "Apply Outer Join\n",
    "Automate Process\n",
    "\"\"\"\n",
    "\n",
    "filepath = \"file:///C:/Users/venka/PycharmProjects/pythonProject/dataset/\"\n",
    "\n",
    "df1=spark.read.option('delimiter','|').csv(filepath + \"MergeInput1.csv\",header=True)\n",
    "#.option('delimiter','~|') can't be more than one character error\n",
    "\n",
    "df1.show(truncate=0)"
   ]
  },
  {
   "cell_type": "code",
   "execution_count": 19,
   "id": "e08cafb7",
   "metadata": {},
   "outputs": [
    {
     "name": "stdout",
     "output_type": "stream",
     "text": [
      "+---------------+---+----+\n",
      "|Name           |Age|Sex |\n",
      "+---------------+---+----+\n",
      "|Geogre, Bush   | 59|Male|\n",
      "|Flintoff, David|12 |Male|\n",
      "|Adam, James    | 20|Male|\n",
      "+---------------+---+----+\n",
      "\n"
     ]
    }
   ],
   "source": [
    "df2=spark.read.option('delimiter','|').option(\"header\",True).csv(filepath + \"MergeInput2.csv\")\n",
    "#.option('delimiter','~|') can't be more than one character error\n",
    "\n",
    "df2.show(truncate=0)"
   ]
  },
  {
   "cell_type": "code",
   "execution_count": 5,
   "id": "727789f3",
   "metadata": {},
   "outputs": [
    {
     "name": "stdout",
     "output_type": "stream",
     "text": [
      "+-----------------+----+----+\n",
      "|Name             |Age,|Sex |\n",
      "+-----------------+----+----+\n",
      "|Azarudeen, Shahul|25  |null|\n",
      "|Michel, Clarke   |26  |null|\n",
      "|Virat, Kohli     |28  |null|\n",
      "|Andrew, Simond   |37  |null|\n",
      "|Geogre, Bush     | 59 |Male|\n",
      "|Flintoff, David  |12  |Male|\n",
      "|Adam, James      | 20 |Male|\n",
      "+-----------------+----+----+\n",
      "\n"
     ]
    }
   ],
   "source": [
    "#Method1\n",
    "df1_add = df1.withColumn(\"Sex\",lit(\"null\"))\n",
    "df1_add.union(df2).show(truncate=0)"
   ]
  },
  {
   "cell_type": "code",
   "execution_count": 7,
   "id": "86eabe10",
   "metadata": {},
   "outputs": [
    {
     "name": "stdout",
     "output_type": "stream",
     "text": [
      "+-----------------+---+----+\n",
      "|Name             |Age|Sex |\n",
      "+-----------------+---+----+\n",
      "|Azarudeen, Shahul|25 |NULL|\n",
      "|Michel, Clarke   |26 |NULL|\n",
      "|Virat, Kohli     |28 |NULL|\n",
      "|Andrew, Simond   |37 |NULL|\n",
      "|Geogre, Bush     | 59|Male|\n",
      "|Flintoff, David  |12 |Male|\n",
      "|Adam, James      | 20|Male|\n",
      "+-----------------+---+----+\n",
      "\n"
     ]
    }
   ],
   "source": [
    "#Method2\n",
    "schema = StructType(\n",
    "[\n",
    "    StructField(\"Name\",StringType(),True),\n",
    "    StructField(\"Age\",StringType(),True),\n",
    "    StructField(\"Sex\",StringType(),True)\n",
    "]\n",
    ")\n",
    "df3=spark.read.option(\"delimiter\",\"|\").option(\"header\",True).schema(schema).csv(filepath+\"MergeInput1.csv\")\n",
    "df4=spark.read.option(\"delimiter\",\"|\").csv(filepath+\"MergeInput2.csv\",header=True,schema=schema)\n",
    "\n",
    "df3.union(df4).show(truncate=0)"
   ]
  },
  {
   "cell_type": "code",
   "execution_count": 13,
   "id": "2d537fee",
   "metadata": {},
   "outputs": [
    {
     "name": "stdout",
     "output_type": "stream",
     "text": [
      "+-----------------+---+----+\n",
      "|Name             |Age|Sex |\n",
      "+-----------------+---+----+\n",
      "|Adam, James      | 20|Male|\n",
      "|Andrew, Simond   |37 |NULL|\n",
      "|Azarudeen, Shahul|25 |NULL|\n",
      "|Flintoff, David  |12 |Male|\n",
      "|Geogre, Bush     | 59|Male|\n",
      "|Michel, Clarke   |26 |NULL|\n",
      "|Virat, Kohli     |28 |NULL|\n",
      "+-----------------+---+----+\n",
      "\n"
     ]
    }
   ],
   "source": [
    "#Method3 Outer join\n",
    "outerdf1 = spark.read.option(\"delimiter\",\"|\").csv(filepath+\"MergeInput1.csv\",header=True)\n",
    "outerdf2 = spark.read.option(\"delimiter\",\"|\").csv(filepath+\"MergeInput2.csv\",header=True)\n",
    "outerdf1.join(outerdf2,on=[\"Name\",\"Age\"],how=\"Outer\").show(truncate=0)"
   ]
  },
  {
   "cell_type": "code",
   "execution_count": 21,
   "id": "0cf858aa",
   "metadata": {},
   "outputs": [
    {
     "name": "stdout",
     "output_type": "stream",
     "text": [
      "+-----------------+---+----+\n",
      "|Name             |Age|Sex |\n",
      "+-----------------+---+----+\n",
      "|Azarudeen, Shahul|25 |null|\n",
      "|Michel, Clarke   |26 |null|\n",
      "|Virat, Kohli     |28 |null|\n",
      "|Andrew, Simond   |37 |null|\n",
      "|Geogre, Bush     | 59|Male|\n",
      "|Flintoff, David  |12 |Male|\n",
      "|Adam, James      | 20|Male|\n",
      "+-----------------+---+----+\n",
      "\n"
     ]
    }
   ],
   "source": [
    "#Method4 Automated Approach\n",
    "autodf1 = spark.read.option(\"delimiter\",\"|\").csv(filepath+\"MergeInput1.csv\",header=True)\n",
    "autodf2 = spark.read.option(\"delimiter\",\"|\").csv(filepath+\"MergeInput2.csv\",header=True)\n",
    "\n",
    "listA = list(set(autodf1.columns)-set(autodf2.columns))\n",
    "listB = list(set(autodf2.columns)-set(autodf1.columns))\n",
    "\n",
    "for i in listA:\n",
    "    autodf2 = autodf2.withColumn(i,lit(\"null\"))\n",
    "\n",
    "for i in listB:\n",
    "    autodf1 = autodf1.withColumn(i,lit(\"null\"))\n",
    "\n",
    "autodf1.union(autodf2).show(truncate=0)"
   ]
  }
 ],
 "metadata": {
  "kernelspec": {
   "display_name": "Python 3 (ipykernel)",
   "language": "python",
   "name": "python3"
  },
  "language_info": {
   "codemirror_mode": {
    "name": "ipython",
    "version": 3
   },
   "file_extension": ".py",
   "mimetype": "text/x-python",
   "name": "python",
   "nbconvert_exporter": "python",
   "pygments_lexer": "ipython3",
   "version": "3.9.18"
  }
 },
 "nbformat": 4,
 "nbformat_minor": 5
}
