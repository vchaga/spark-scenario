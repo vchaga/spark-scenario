{
 "cells": [
  {
   "cell_type": "code",
   "execution_count": 33,
   "metadata": {},
   "outputs": [],
   "source": [
    "import findspark\n",
    "findspark.init()"
   ]
  },
  {
   "cell_type": "code",
   "execution_count": 34,
   "metadata": {},
   "outputs": [],
   "source": [
    "# Create SparkSession and import all required packages\n",
    "from pyspark.sql import SparkSession,types\n",
    "\n",
    "spark = SparkSession.builder.master(\"local\").appName('Json File')\\\n",
    "                    .getOrCreate()\n",
    "\n",
    "filepath = \"file:///C:/Users/venka/PycharmProjects/pythonProject/dataset/\""
   ]
  },
  {
   "cell_type": "code",
   "execution_count": 35,
   "metadata": {},
   "outputs": [],
   "source": [
    "#read multiline JSON file\n",
    "input_df=spark.read.json(filepath + 'IntMergeJsonInput2.json', multiLine=True)"
   ]
  },
  {
   "cell_type": "code",
   "execution_count": 36,
   "metadata": {},
   "outputs": [
    {
     "name": "stdout",
     "output_type": "stream",
     "text": [
      "root\n",
      " |-- Education: struct (nullable = true)\n",
      " |    |-- Qualification: string (nullable = true)\n",
      " |    |-- year: long (nullable = true)\n",
      " |-- name: string (nullable = true)\n",
      "\n"
     ]
    }
   ],
   "source": [
    "input_df.printSchema()"
   ]
  },
  {
   "cell_type": "code",
   "execution_count": 37,
   "metadata": {},
   "outputs": [
    {
     "name": "stdout",
     "output_type": "stream",
     "text": [
      "+----------+-------+\n",
      "| Education|   name|\n",
      "+----------+-------+\n",
      "|{BE, 2011}| Clarke|\n",
      "|{BE, 2010}|Michael|\n",
      "+----------+-------+\n",
      "\n"
     ]
    }
   ],
   "source": [
    "input_df.show()"
   ]
  },
  {
   "cell_type": "code",
   "execution_count": 38,
   "metadata": {},
   "outputs": [],
   "source": [
    "#read multiline JSON file\n",
    "input_df1=spark.read.json(filepath + 'IntMergeJsonInput1.json', multiLine=True)"
   ]
  },
  {
   "cell_type": "code",
   "execution_count": 39,
   "metadata": {},
   "outputs": [
    {
     "name": "stdout",
     "output_type": "stream",
     "text": [
      "root\n",
      " |-- Education: struct (nullable = true)\n",
      " |    |-- Age: long (nullable = true)\n",
      " |    |-- Qualification: string (nullable = true)\n",
      " |    |-- year: long (nullable = true)\n",
      " |-- name: string (nullable = true)\n",
      "\n"
     ]
    }
   ],
   "source": [
    "input_df1.printSchema()"
   ]
  },
  {
   "cell_type": "code",
   "execution_count": 40,
   "metadata": {},
   "outputs": [
    {
     "data": {
      "text/plain": [
       "StructType([StructField('Education', StructType([StructField('Age', LongType(), True), StructField('Qualification', StringType(), True), StructField('year', LongType(), True)]), True), StructField('name', StringType(), True)])"
      ]
     },
     "execution_count": 40,
     "metadata": {},
     "output_type": "execute_result"
    }
   ],
   "source": [
    "input_df1.schema"
   ]
  },
  {
   "cell_type": "code",
   "execution_count": 41,
   "metadata": {},
   "outputs": [],
   "source": [
    "from pyspark.sql.types import *\n",
    "from pyspark.sql.functions import col,lit,struct\n",
    "\n",
    "def flatten_struct(schema, prefix=\"\"):\n",
    "    result = []\n",
    "    for elem in schema:\n",
    "        if isinstance(elem.dataType, StructType):\n",
    "            result += flatten_struct(elem.dataType, prefix + elem.name + \".\")\n",
    "        else:\n",
    "            result.append(prefix + elem.name)\n",
    "    return result\n",
    "\n",
    "l1=flatten_struct(input_df.schema)\n",
    "l2=flatten_struct(input_df1.schema)"
   ]
  },
  {
   "cell_type": "code",
   "execution_count": 42,
   "metadata": {},
   "outputs": [
    {
     "data": {
      "text/plain": [
       "['Education.Qualification', 'Education.year', 'name']"
      ]
     },
     "execution_count": 42,
     "metadata": {},
     "output_type": "execute_result"
    }
   ],
   "source": [
    "l1"
   ]
  },
  {
   "cell_type": "code",
   "execution_count": 43,
   "metadata": {},
   "outputs": [],
   "source": [
    "list1=[]\n",
    "list2=[]\n",
    "for i in l1:\n",
    "    list1.append(str(i))\n",
    "    \n",
    "for i in l2:\n",
    "    list2.append(str(i))\n",
    "    "
   ]
  },
  {
   "cell_type": "code",
   "execution_count": 44,
   "metadata": {},
   "outputs": [
    {
     "data": {
      "text/plain": [
       "{'Education.Age'}"
      ]
     },
     "execution_count": 44,
     "metadata": {},
     "output_type": "execute_result"
    }
   ],
   "source": [
    "chk=set(list2)-set(list1)\n",
    "chk"
   ]
  },
  {
   "cell_type": "code",
   "execution_count": 45,
   "metadata": {},
   "outputs": [
    {
     "data": {
      "text/plain": [
       "list"
      ]
     },
     "execution_count": 45,
     "metadata": {},
     "output_type": "execute_result"
    }
   ],
   "source": [
    "type(list1)"
   ]
  },
  {
   "cell_type": "code",
   "execution_count": 48,
   "metadata": {},
   "outputs": [
    {
     "name": "stdout",
     "output_type": "stream",
     "text": [
      "+----------+-------+\n",
      "| Education|   name|\n",
      "+----------+-------+\n",
      "|{BE, 2011}| Clarke|\n",
      "|{BE, 2010}|Michael|\n",
      "+----------+-------+\n",
      "\n",
      "+----------------+-------+\n",
      "|       Education|   name|\n",
      "+----------------+-------+\n",
      "|{BE, 2011, NULL}| Clarke|\n",
      "|{BE, 2010, NULL}|Michael|\n",
      "+----------------+-------+\n",
      "\n"
     ]
    }
   ],
   "source": [
    "from pyspark.sql.types import *\n",
    "chk=set(list2)-set(list1)\n",
    "for i in chk:\n",
    "    if i.find(\".\"):\n",
    "        colm=i.split(\".\")[0]\n",
    "        colm_new=i.split(\".\")[1]\n",
    "        s_fields = input_df.schema[colm].dataType.names\n",
    "        s_type=input_df1.schema[colm].dataType[colm_new].dataType\n",
    "        \n",
    "        input_df.show()\n",
    "        in_df=input_df.withColumn(colm,\n",
    "                            struct(*([col(colm)[c].alias(c) for c in s_fields] +\n",
    "                                     [lit(\"null\").cast(s_type).alias(colm_new)]\n",
    "                                     ))\n",
    "                                 )\n",
    "        in_df.show()\n",
    "        s_fields = sorted(in_df.schema[colm].dataType.names)\n",
    "        \n",
    "        \n",
    "        in_df=in_df.withColumn(colm,\n",
    "                            struct(*([col(colm)[c].alias(c) for c in s_fields] ))\n",
    "                                 )\n",
    "        \n",
    "        \n",
    "        \n"
   ]
  },
  {
   "cell_type": "code",
   "execution_count": 49,
   "metadata": {},
   "outputs": [
    {
     "name": "stdout",
     "output_type": "stream",
     "text": [
      "root\n",
      " |-- Education: struct (nullable = false)\n",
      " |    |-- Age: long (nullable = true)\n",
      " |    |-- Qualification: string (nullable = true)\n",
      " |    |-- year: long (nullable = true)\n",
      " |-- name: string (nullable = true)\n",
      "\n"
     ]
    }
   ],
   "source": [
    "in_df.printSchema()"
   ]
  },
  {
   "cell_type": "code",
   "execution_count": 50,
   "metadata": {},
   "outputs": [],
   "source": [
    "out_df=in_df.union(input_df1)"
   ]
  },
  {
   "cell_type": "code",
   "execution_count": 51,
   "metadata": {},
   "outputs": [
    {
     "name": "stdout",
     "output_type": "stream",
     "text": [
      "+----------------+-------+\n",
      "|       Education|   name|\n",
      "+----------------+-------+\n",
      "|{NULL, BE, 2011}| Clarke|\n",
      "|{NULL, BE, 2010}|Michael|\n",
      "|{28, BCOM, 2013}|   AZAR|\n",
      "|  {35, BE, 2010}|   CHIN|\n",
      "+----------------+-------+\n",
      "\n"
     ]
    }
   ],
   "source": [
    "out_df.show()"
   ]
  },
  {
   "cell_type": "code",
   "execution_count": null,
   "metadata": {},
   "outputs": [],
   "source": []
  }
 ],
 "metadata": {
  "kernelspec": {
   "display_name": "Python 3 (ipykernel)",
   "language": "python",
   "name": "python3"
  },
  "language_info": {
   "codemirror_mode": {
    "name": "ipython",
    "version": 3
   },
   "file_extension": ".py",
   "mimetype": "text/x-python",
   "name": "python",
   "nbconvert_exporter": "python",
   "pygments_lexer": "ipython3",
   "version": "3.9.18"
  }
 },
 "nbformat": 4,
 "nbformat_minor": 4
}
