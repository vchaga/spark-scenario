{
 "cells": [
  {
   "cell_type": "code",
   "execution_count": 2,
   "id": "fa84cdbf",
   "metadata": {},
   "outputs": [],
   "source": [
    "import findspark\n",
    "findspark.init()"
   ]
  },
  {
   "cell_type": "code",
   "execution_count": 3,
   "id": "87cd9942",
   "metadata": {},
   "outputs": [],
   "source": [
    "from pyspark.sql import SparkSession\n",
    "from pyspark.sql.functions import *\n",
    "from pyspark.sql.streaming import *\n",
    "from pyspark.sql.types import *\n",
    "from pyspark.sql.window import Window\n",
    "\n",
    "spark = SparkSession.builder.master(\"local\").appName(\"AmbiguousColumns\").getOrCreate()\n",
    "sc = spark.sparkContext"
   ]
  },
  {
   "cell_type": "code",
   "execution_count": 4,
   "id": "f024d7a4",
   "metadata": {},
   "outputs": [
    {
     "name": "stdout",
     "output_type": "stream",
     "text": [
      "+-----------+-----------+------------+---------------+-------+--------+------+\n",
      "|CustomerId0|CustomerId1|CustomerName|       dateTime| Amount|discount|Member|\n",
      "+-----------+-----------+------------+---------------+-------+--------+------+\n",
      "|       1001|       1001|        Arun| 7/15/2020 1:01|2465.22|     10%|  true|\n",
      "|       1005|       1005|      Barath|7/13/2020 12:15|8399.34|      5%|  true|\n",
      "|       1003|       1003|      Charle|7/18/2020 20:10|1234.88|      3%| false|\n",
      "|       1004|       1004|       Gokul|7/15/2020 11:11| 1690.0|      1%|  true|\n",
      "|       1005|       1005|       Messy|7/18/2020 15:11|  160.0|      3%|  true|\n",
      "|       1006|       1006|      Gerold| 7/8/2020 14:16| 2546.0|      1%|  true|\n",
      "+-----------+-----------+------------+---------------+-------+--------+------+\n",
      "\n"
     ]
    }
   ],
   "source": [
    "# sql adaptive query execution adaptive.coalescePartitions.enabled will makr paritions dynamic\n",
    "sc.setLogLevel(\"Error\")\n",
    "spark.conf.set(\"spark.sql.shuffle.partitions\",3)\n",
    "spark.conf.get(\"spark.sql.shuffle.partitions\")\n",
    "spark.conf.set(\"spark.sql.adaptive.enabled\",\"false\")\n",
    "spark.conf.set(\"spark.sql.adaptive.coalescePartitions.enabled\",\"false\")\n",
    "\n",
    "\"\"\"\n",
    "Identify ambiguous column names\n",
    "1. If it is from csv, read csv will append column names by index\n",
    "2. for json we need to handle\n",
    "\"\"\"\n",
    "\n",
    "#WithoutInferSchema\n",
    "#headerTrue will read first row and assign column names but type is String for all\n",
    "#spark job created to read first column\n",
    "filepath = \"file:///C:/Users/venka/PycharmProjects/pythonProject/dataset/\"\n",
    "df = spark.read.option(\"header\",True) \\\n",
    "                .option(\"delimiter\",\",\") \\\n",
    "                .csv(filepath + \"IntAmbiguousCSV.csv\",inferSchema=True)\n",
    "df.show()"
   ]
  },
  {
   "cell_type": "code",
   "execution_count": 12,
   "id": "f3a47dd7",
   "metadata": {},
   "outputs": [],
   "source": [
    "#Json\n",
    "df_json = spark.read.option(\"multiline\",True).option(\"escape\",\"\\\"\").json(filepath+\"IntAmbiguous.json\")"
   ]
  },
  {
   "cell_type": "code",
   "execution_count": 13,
   "id": "4114aec7",
   "metadata": {},
   "outputs": [
    {
     "name": "stdout",
     "output_type": "stream",
     "text": [
      "root\n",
      " |-- Delivery: struct (nullable = true)\n",
      " |    |-- address: string (nullable = true)\n",
      " |    |-- mob: string (nullable = true)\n",
      " |    |-- name: string (nullable = true)\n",
      " |-- name: string (nullable = true)\n",
      " |-- product: string (nullable = true)\n",
      "\n"
     ]
    }
   ],
   "source": [
    "df_json.printSchema()"
   ]
  },
  {
   "cell_type": "code",
   "execution_count": 9,
   "id": "40e22fa5",
   "metadata": {},
   "outputs": [
    {
     "name": "stdout",
     "output_type": "stream",
     "text": [
      "+--------------------+-------+---------+\n",
      "|            Delivery|   name|  product|\n",
      "+--------------------+-------+---------+\n",
      "|{Chennai, 1234567...|   AZAR|Headphone|\n",
      "|{Bangalore, 57386...|Bharath|  T-shirt|\n",
      "+--------------------+-------+---------+\n",
      "\n"
     ]
    }
   ],
   "source": [
    "df_json.show()"
   ]
  },
  {
   "cell_type": "code",
   "execution_count": 10,
   "id": "626cb6ba",
   "metadata": {},
   "outputs": [
    {
     "name": "stdout",
     "output_type": "stream",
     "text": [
      "+--------------------+-------+---------+---------+-------+-----------+\n",
      "|            Delivery|   name|  product|  address|    mob|       name|\n",
      "+--------------------+-------+---------+---------+-------+-----------+\n",
      "|{Chennai, 1234567...|   AZAR|Headphone|  Chennai|1234567|  Azarudeen|\n",
      "|{Bangalore, 57386...|Bharath|  T-shirt|Bangalore|5738612|Bharathiraj|\n",
      "+--------------------+-------+---------+---------+-------+-----------+\n",
      "\n"
     ]
    }
   ],
   "source": [
    "df_json.select(\"*\",col(\"Delivery.*\")).show()"
   ]
  },
  {
   "cell_type": "code",
   "execution_count": 27,
   "id": "ad818a23",
   "metadata": {},
   "outputs": [],
   "source": [
    "df1 = df_json.select(\"*\",col(\"Delivery.*\")).drop(\"Delivery\")"
   ]
  },
  {
   "cell_type": "code",
   "execution_count": 28,
   "id": "5f037828",
   "metadata": {},
   "outputs": [
    {
     "data": {
      "text/plain": [
       "['name', 'product', 'address', 'mob', 'name']"
      ]
     },
     "execution_count": 28,
     "metadata": {},
     "output_type": "execute_result"
    }
   ],
   "source": [
    "#withColumns - we can take index of a column, count of a column\n",
    "df1.columns"
   ]
  },
  {
   "cell_type": "code",
   "execution_count": 41,
   "id": "393c3835",
   "metadata": {},
   "outputs": [],
   "source": [
    "lst = []\n",
    "lst_cols = df1.columns"
   ]
  },
  {
   "cell_type": "code",
   "execution_count": 51,
   "id": "08702b4d",
   "metadata": {},
   "outputs": [],
   "source": [
    "for i in lst_cols:\n",
    "    if lst_cols.count(i) == 2:\n",
    "        ind=lst_cols.index(i)\n",
    "        lst.append(ind)"
   ]
  },
  {
   "cell_type": "code",
   "execution_count": 52,
   "id": "2e9f4166",
   "metadata": {},
   "outputs": [
    {
     "name": "stdout",
     "output_type": "stream",
     "text": [
      "['name_0', 'product', 'address', 'mob', 'name']\n"
     ]
    }
   ],
   "source": [
    "lst1=[]\n",
    "x=1\n",
    "for i in lst_cols:\n",
    "    if i in lst:\n",
    "        i = i+str(x)\n",
    "        x=x+1\n",
    "    lst1.append(i)\n",
    "print(lst1)"
   ]
  },
  {
   "cell_type": "code",
   "execution_count": 43,
   "id": "5170cba3",
   "metadata": {},
   "outputs": [
    {
     "data": {
      "text/plain": [
       "[0, 0]"
      ]
     },
     "execution_count": 43,
     "metadata": {},
     "output_type": "execute_result"
    }
   ],
   "source": [
    "lst"
   ]
  },
  {
   "cell_type": "code",
   "execution_count": 44,
   "id": "fdd1f881",
   "metadata": {},
   "outputs": [
    {
     "data": {
      "text/plain": [
       "[0]"
      ]
     },
     "execution_count": 44,
     "metadata": {},
     "output_type": "execute_result"
    }
   ],
   "source": [
    "lst1 = list(set(lst))\n",
    "lst1"
   ]
  },
  {
   "cell_type": "code",
   "execution_count": 45,
   "id": "c2783a30",
   "metadata": {},
   "outputs": [
    {
     "data": {
      "text/plain": [
       "['name_0', 'product', 'address', 'mob', 'name']"
      ]
     },
     "execution_count": 45,
     "metadata": {},
     "output_type": "execute_result"
    }
   ],
   "source": [
    "for i in lst1:\n",
    "    lst_cols[i] = lst_cols[i] + \"_0\"\n",
    "\n",
    "lst_cols"
   ]
  },
  {
   "cell_type": "code",
   "execution_count": 49,
   "id": "a0aabc67",
   "metadata": {},
   "outputs": [
    {
     "name": "stdout",
     "output_type": "stream",
     "text": [
      "root\n",
      " |-- name_0: string (nullable = true)\n",
      " |-- product: string (nullable = true)\n",
      " |-- address: string (nullable = true)\n",
      " |-- mob: string (nullable = true)\n",
      " |-- name: string (nullable = true)\n",
      "\n"
     ]
    }
   ],
   "source": [
    "#changing the schema of exisiting df with toDF method\n",
    "df1 = df1.toDF(*lst_cols)\n",
    "df1.printSchema()"
   ]
  },
  {
   "cell_type": "code",
   "execution_count": 50,
   "id": "9d45cd0f",
   "metadata": {},
   "outputs": [
    {
     "name": "stdout",
     "output_type": "stream",
     "text": [
      "+-------+---------+---------+-------+-----------+\n",
      "| name_0|  product|  address|    mob|       name|\n",
      "+-------+---------+---------+-------+-----------+\n",
      "|   AZAR|Headphone|  Chennai|1234567|  Azarudeen|\n",
      "|Bharath|  T-shirt|Bangalore|5738612|Bharathiraj|\n",
      "+-------+---------+---------+-------+-----------+\n",
      "\n"
     ]
    }
   ],
   "source": [
    "df1.show()"
   ]
  }
 ],
 "metadata": {
  "kernelspec": {
   "display_name": "Python 3 (ipykernel)",
   "language": "python",
   "name": "python3"
  },
  "language_info": {
   "codemirror_mode": {
    "name": "ipython",
    "version": 3
   },
   "file_extension": ".py",
   "mimetype": "text/x-python",
   "name": "python",
   "nbconvert_exporter": "python",
   "pygments_lexer": "ipython3",
   "version": "3.9.18"
  }
 },
 "nbformat": 4,
 "nbformat_minor": 5
}
