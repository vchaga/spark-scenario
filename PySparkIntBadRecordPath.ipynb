{
 "cells": [
  {
   "cell_type": "code",
   "execution_count": 2,
   "id": "fa84cdbf",
   "metadata": {},
   "outputs": [],
   "source": [
    "import findspark\n",
    "findspark.init()"
   ]
  },
  {
   "cell_type": "code",
   "execution_count": 3,
   "id": "87cd9942",
   "metadata": {},
   "outputs": [],
   "source": [
    "from pyspark.sql import SparkSession\n",
    "from pyspark.sql.functions import *\n",
    "from pyspark.sql.streaming import *\n",
    "from pyspark.sql.types import *\n",
    "from pyspark.sql.window import Window\n",
    "import os\n",
    "\n",
    "spark = SparkSession.builder.master(\"local\").appName(\"Malformed\").getOrCreate()\n",
    "sc = spark.sparkContext"
   ]
  },
  {
   "cell_type": "code",
   "execution_count": 17,
   "id": "f024d7a4",
   "metadata": {},
   "outputs": [],
   "source": [
    "# sql adaptive query execution adaptive.coalescePartitions.enabled will makr paritions dynamic\n",
    "sc.setLogLevel(\"Error\")\n",
    "spark.conf.set(\"spark.sql.shuffle.partitions\",3)\n",
    "spark.conf.get(\"spark.sql.shuffle.partitions\")\n",
    "spark.conf.set(\"spark.sql.adaptive.enabled\",\"false\")\n",
    "spark.conf.set(\"spark.sql.adaptive.coalescePartitions.enabled\",\"false\")\n",
    "spark.conf.set(\"spark.sql.execution.arrow.enabled\",True)\n",
    "spark.conf.set(\"spark.sql.execution.arrow.fallback.enabled\",True)\n",
    "\n",
    "\"\"\"\n",
    "Write bad records to another file\n",
    "\"\"\"\n",
    "\n",
    "#WithoutInferSchema\n",
    "#headerTrue will read first row and assign column names but type is String for all\n",
    "#spark job created to read first column\n",
    "filepath = \"file:///C:/Users/venka/PycharmProjects/pythonProject/dataset/\"\n",
    "df = spark.read.json(filepath + \"IntFord_json.json\")"
   ]
  },
  {
   "cell_type": "code",
   "execution_count": 19,
   "id": "f3a47dd7",
   "metadata": {},
   "outputs": [
    {
     "name": "stdout",
     "output_type": "stream",
     "text": [
      "+--------------------+-------------+------------+\n",
      "|     _corrupt_record|model_make_id|  model_name|\n",
      "+--------------------+-------------+------------+\n",
      "|                NULL|         ford|       021 C|\n",
      "|                NULL|         ford|        12 M|\n",
      "|                NULL|         ford|          17|\n",
      "|                NULL|         ford|         17M|\n",
      "|                NULL|         ford|        2000|\n",
      "|                NULL|         ford|        24.7|\n",
      "|                NULL|         ford|         427|\n",
      "|                NULL|         ford|          49|\n",
      "|                NULL|         ford|    Aerostar|\n",
      "|                NULL|         ford|      Anglia|\n",
      "|                NULL|         ford|       Artic|\n",
      "|                NULL|         ford|      Aspire|\n",
      "|                NULL|         ford|      Bantam|\n",
      "|                NULL|         ford|      Bronco|\n",
      "|                NULL|         ford|   Bronco II|\n",
      "|                NULL|         ford|       C 100|\n",
      "|{\"model_name\":\"C-...|         NULL|        NULL|\n",
      "|                NULL|         ford|C-Max Energi|\n",
      "|                NULL|         ford|C-Max Hybrid|\n",
      "|                NULL|         ford|       Capri|\n",
      "+--------------------+-------------+------------+\n",
      "only showing top 20 rows\n",
      "\n"
     ]
    }
   ],
   "source": [
    "df.show()"
   ]
  },
  {
   "cell_type": "code",
   "execution_count": 20,
   "id": "23d2d99a",
   "metadata": {},
   "outputs": [],
   "source": [
    "df1 = spark.read.option(\"badRecordsPath\",filepath +\"ford/badrecords/*\").json(filepath + \"IntFord_json.json\")"
   ]
  },
  {
   "cell_type": "code",
   "execution_count": 16,
   "id": "1693bccb",
   "metadata": {},
   "outputs": [
    {
     "name": "stdout",
     "output_type": "stream",
     "text": [
      "+--------------------+-------------+------------+\n",
      "|     _corrupt_record|model_make_id|  model_name|\n",
      "+--------------------+-------------+------------+\n",
      "|                NULL|         ford|       021 C|\n",
      "|                NULL|         ford|        12 M|\n",
      "|                NULL|         ford|          17|\n",
      "|                NULL|         ford|         17M|\n",
      "|                NULL|         ford|        2000|\n",
      "|                NULL|         ford|        24.7|\n",
      "|                NULL|         ford|         427|\n",
      "|                NULL|         ford|          49|\n",
      "|                NULL|         ford|    Aerostar|\n",
      "|                NULL|         ford|      Anglia|\n",
      "|                NULL|         ford|       Artic|\n",
      "|                NULL|         ford|      Aspire|\n",
      "|                NULL|         ford|      Bantam|\n",
      "|                NULL|         ford|      Bronco|\n",
      "|                NULL|         ford|   Bronco II|\n",
      "|                NULL|         ford|       C 100|\n",
      "|{\"model_name\":\"C-...|         NULL|        NULL|\n",
      "|                NULL|         ford|C-Max Energi|\n",
      "|                NULL|         ford|C-Max Hybrid|\n",
      "|                NULL|         ford|       Capri|\n",
      "+--------------------+-------------+------------+\n",
      "only showing top 20 rows\n",
      "\n"
     ]
    }
   ],
   "source": [
    "df1.show()"
   ]
  },
  {
   "cell_type": "code",
   "execution_count": null,
   "id": "f00a9053",
   "metadata": {},
   "outputs": [],
   "source": []
  }
 ],
 "metadata": {
  "kernelspec": {
   "display_name": "Python 3 (ipykernel)",
   "language": "python",
   "name": "python3"
  },
  "language_info": {
   "codemirror_mode": {
    "name": "ipython",
    "version": 3
   },
   "file_extension": ".py",
   "mimetype": "text/x-python",
   "name": "python",
   "nbconvert_exporter": "python",
   "pygments_lexer": "ipython3",
   "version": "3.9.18"
  }
 },
 "nbformat": 4,
 "nbformat_minor": 5
}
