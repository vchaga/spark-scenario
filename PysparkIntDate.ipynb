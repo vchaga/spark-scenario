{
 "cells": [
  {
   "cell_type": "code",
   "execution_count": 2,
   "id": "fa84cdbf",
   "metadata": {},
   "outputs": [],
   "source": [
    "import findspark\n",
    "findspark.init()"
   ]
  },
  {
   "cell_type": "code",
   "execution_count": 3,
   "id": "87cd9942",
   "metadata": {},
   "outputs": [],
   "source": [
    "from pyspark.sql import SparkSession\n",
    "from pyspark.sql.functions import *\n",
    "from pyspark.sql.streaming import *\n",
    "from pyspark.sql.types import *\n",
    "\n",
    "spark = SparkSession.builder.master(\"local\").appName(\"MergeDataframe\").getOrCreate()\n",
    "sc = spark.sparkContext"
   ]
  },
  {
   "cell_type": "code",
   "execution_count": 4,
   "id": "f024d7a4",
   "metadata": {},
   "outputs": [
    {
     "name": "stdout",
     "output_type": "stream",
     "text": [
      "+----------+------------+--------------+--------+----+\n",
      "|RechargeId|Rechargedate|Remaining_days|validity|_c4 |\n",
      "+----------+------------+--------------+--------+----+\n",
      "|R201623   |20200511    |1             |online  |NULL|\n",
      "|R201873   |20200119    |110           |online  |NULL|\n",
      "|R201999   |20200105    |35            |online  |NULL|\n",
      "|R201951   |20191105    |215           |online  |NULL|\n",
      "+----------+------------+--------------+--------+----+\n",
      "\n",
      "root\n",
      " |-- RechargeId: string (nullable = true)\n",
      " |-- Rechargedate: integer (nullable = true)\n",
      " |-- Remaining_days: integer (nullable = true)\n",
      " |-- validity: string (nullable = true)\n",
      " |-- _c4: string (nullable = true)\n",
      "\n"
     ]
    }
   ],
   "source": [
    "# sql adaptive query execution adaptive.coalescePartitions.enabled will makr paritions dynamic\n",
    "sc.setLogLevel(\"Error\")\n",
    "spark.conf.set(\"spark.sql.shuffle.partitions\",3)\n",
    "spark.conf.get(\"spark.sql.shuffle.partitions\")\n",
    "\n",
    "\"\"\"\n",
    "Expiry Date calculation\n",
    "\"\"\"\n",
    "\n",
    "filepath = \"file:///C:/Users/venka/PycharmProjects/pythonProject/dataset/\"\n",
    "\n",
    "df1=spark.read.option('delimiter','|').csv(filepath + \"DateInterview.csv\",header=True,inferSchema=True)\n",
    "#.option('delimiter','~|') can't be more than one character error\n",
    "\n",
    "df1.show(truncate=0)\n",
    "df1.printSchema()"
   ]
  },
  {
   "cell_type": "code",
   "execution_count": 10,
   "id": "e08cafb7",
   "metadata": {},
   "outputs": [
    {
     "name": "stdout",
     "output_type": "stream",
     "text": [
      "+----------+------------+--------------+--------+----+----------+\n",
      "|RechargeId|Rechargedate|Remaining_days|validity| _c4|    date_s|\n",
      "+----------+------------+--------------+--------+----+----------+\n",
      "|   R201623|    20200511|             1|  online|NULL|2020-05-11|\n",
      "|   R201873|    20200119|           110|  online|NULL|2020-01-19|\n",
      "|   R201999|    20200105|            35|  online|NULL|2020-01-05|\n",
      "|   R201951|    20191105|           215|  online|NULL|2019-11-05|\n",
      "+----------+------------+--------------+--------+----+----------+\n",
      "\n",
      "root\n",
      " |-- RechargeId: string (nullable = true)\n",
      " |-- Rechargedate: integer (nullable = true)\n",
      " |-- Remaining_days: integer (nullable = true)\n",
      " |-- validity: string (nullable = true)\n",
      " |-- _c4: string (nullable = true)\n",
      " |-- date_s: date (nullable = true)\n",
      "\n"
     ]
    }
   ],
   "source": [
    "from pyspark.sql.functions import date_add,to_date,col,expr\n",
    "\n",
    "df1 = df1.withColumn(\"date_s\",to_date(\"Rechargedate\",\"yyyyMMdd\"))\n",
    "df1.show()\n",
    "df1.printSchema()"
   ]
  },
  {
   "cell_type": "code",
   "execution_count": 16,
   "id": "727789f3",
   "metadata": {},
   "outputs": [
    {
     "name": "stdout",
     "output_type": "stream",
     "text": [
      "+----------+------------+--------------+--------+----+----------+--------------------------------+\n",
      "|RechargeId|Rechargedate|Remaining_days|validity| _c4|    date_s|date_add(date_s, Remaining_days)|\n",
      "+----------+------------+--------------+--------+----+----------+--------------------------------+\n",
      "|   R201623|    20200511|             1|  online|NULL|2020-05-11|                      2020-05-12|\n",
      "|   R201873|    20200119|           110|  online|NULL|2020-01-19|                      2020-05-08|\n",
      "|   R201999|    20200105|            35|  online|NULL|2020-01-05|                      2020-02-09|\n",
      "|   R201951|    20191105|           215|  online|NULL|2019-11-05|                      2020-06-07|\n",
      "+----------+------------+--------------+--------+----+----------+--------------------------------+\n",
      "\n"
     ]
    }
   ],
   "source": [
    "df1.select(\"*\",expr(\"date_add(date_s,Remaining_days)\")).show()"
   ]
  }
 ],
 "metadata": {
  "kernelspec": {
   "display_name": "Python 3 (ipykernel)",
   "language": "python",
   "name": "python3"
  },
  "language_info": {
   "codemirror_mode": {
    "name": "ipython",
    "version": 3
   },
   "file_extension": ".py",
   "mimetype": "text/x-python",
   "name": "python",
   "nbconvert_exporter": "python",
   "pygments_lexer": "ipython3",
   "version": "3.9.18"
  }
 },
 "nbformat": 4,
 "nbformat_minor": 5
}
