{
 "cells": [
  {
   "cell_type": "code",
   "execution_count": 1,
   "id": "fa84cdbf",
   "metadata": {},
   "outputs": [],
   "source": [
    "import findspark\n",
    "findspark.init()"
   ]
  },
  {
   "cell_type": "code",
   "execution_count": 2,
   "id": "87cd9942",
   "metadata": {},
   "outputs": [],
   "source": [
    "from pyspark.sql import SparkSession\n",
    "from pyspark.sql.functions import *\n",
    "from pyspark.sql.streaming import *\n",
    "from pyspark.sql.types import *\n",
    "\n",
    "spark = SparkSession.builder.master(\"local\").appName(\"MultipleDelim\").getOrCreate()\n",
    "sc = spark.sparkContext"
   ]
  },
  {
   "cell_type": "code",
   "execution_count": 6,
   "id": "f024d7a4",
   "metadata": {},
   "outputs": [
    {
     "name": "stdout",
     "output_type": "stream",
     "text": [
      "+---------------------+\n",
      "|value                |\n",
      "+---------------------+\n",
      "|Name~|Age            |\n",
      "|Azarudeen, Shahul~|25|\n",
      "|Michel, Clarke~|26   |\n",
      "|Virat, Kohli~|28     |\n",
      "|Andrew, Simond~|37   |\n",
      "|Geogre, Bush~| 59    |\n",
      "|Flintoff, David~|12  |\n",
      "|Adam, James~| 20     |\n",
      "+---------------------+\n",
      "\n"
     ]
    }
   ],
   "source": [
    "# sql adaptive query execution adaptive.coalescePartitions.enabled will makr paritions dynamic\n",
    "sc.setLogLevel(\"Error\")\n",
    "spark.conf.set(\"spark.sql.shuffle.partitions\",3)\n",
    "spark.conf.get(\"spark.sql.shuffle.partitions\")\n",
    "\n",
    "filepath = \"file:///C:/Users/venka/PycharmProjects/pythonProject/dataset/\"\n",
    "\n",
    "df=spark.read.text(filepath + \"Delim.csv\")\n",
    "#.option('delimiter','~|') can't be more than one character error\n",
    "#In scala, use the key word mkString after reading the csv like\n",
    "# val b = a.map(x => x.mkString.split(\"\\\\~\\\\t\").mkString(\"\\t\"))\n",
    "\n",
    "df.show(truncate=0)"
   ]
  },
  {
   "cell_type": "code",
   "execution_count": 16,
   "id": "e08cafb7",
   "metadata": {},
   "outputs": [
    {
     "data": {
      "text/plain": [
       "'Name~|Age'"
      ]
     },
     "execution_count": 16,
     "metadata": {},
     "output_type": "execute_result"
    }
   ],
   "source": [
    "header = df.first()[0]\n",
    "header"
   ]
  },
  {
   "cell_type": "code",
   "execution_count": 17,
   "id": "e4794751",
   "metadata": {},
   "outputs": [
    {
     "data": {
      "text/plain": [
       "['Name', 'Age']"
      ]
     },
     "execution_count": 17,
     "metadata": {},
     "output_type": "execute_result"
    }
   ],
   "source": [
    "schema = header.split('~|')\n",
    "schema"
   ]
  },
  {
   "cell_type": "code",
   "execution_count": 14,
   "id": "46f0da7e",
   "metadata": {},
   "outputs": [
    {
     "name": "stdout",
     "output_type": "stream",
     "text": [
      "+-----------------+---+\n",
      "|Name             |Age|\n",
      "+-----------------+---+\n",
      "|Azarudeen, Shahul|25 |\n",
      "|Michel, Clarke   |26 |\n",
      "|Virat, Kohli     |28 |\n",
      "|Andrew, Simond   |37 |\n",
      "|Geogre, Bush     | 59|\n",
      "|Flintoff, David  |12 |\n",
      "|Adam, James      | 20|\n",
      "+-----------------+---+\n",
      "\n"
     ]
    }
   ],
   "source": [
    "df_new = df.filter(df['value'] != header).rdd.map(lambda x: x[0].split('~|')).toDF(schema)\n",
    "df_new.show(truncate=0)"
   ]
  }
 ],
 "metadata": {
  "kernelspec": {
   "display_name": "Python 3 (ipykernel)",
   "language": "python",
   "name": "python3"
  },
  "language_info": {
   "codemirror_mode": {
    "name": "ipython",
    "version": 3
   },
   "file_extension": ".py",
   "mimetype": "text/x-python",
   "name": "python",
   "nbconvert_exporter": "python",
   "pygments_lexer": "ipython3",
   "version": "3.9.18"
  }
 },
 "nbformat": 4,
 "nbformat_minor": 5
}
