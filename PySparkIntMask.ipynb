{
 "cells": [
  {
   "cell_type": "code",
   "execution_count": 20,
   "id": "fa84cdbf",
   "metadata": {},
   "outputs": [],
   "source": [
    "import findspark\n",
    "findspark.init()"
   ]
  },
  {
   "cell_type": "code",
   "execution_count": 21,
   "id": "87cd9942",
   "metadata": {},
   "outputs": [],
   "source": [
    "from pyspark.sql import SparkSession\n",
    "from pyspark.sql.functions import *\n",
    "from pyspark.sql.streaming import *\n",
    "from pyspark.sql.types import *\n",
    "from pyspark.sql.window import Window\n",
    "import os\n",
    "\n",
    "spark = SparkSession.builder.master(\"local\").appName(\"MaskData\").getOrCreate()\n",
    "sc = spark.sparkContext"
   ]
  },
  {
   "cell_type": "code",
   "execution_count": 22,
   "id": "f024d7a4",
   "metadata": {},
   "outputs": [],
   "source": [
    "# sql adaptive query execution adaptive.coalescePartitions.enabled will makr paritions dynamic\n",
    "sc.setLogLevel(\"Error\")\n",
    "spark.conf.set(\"spark.sql.shuffle.partitions\",3)\n",
    "spark.conf.get(\"spark.sql.shuffle.partitions\")\n",
    "spark.conf.set(\"spark.sql.adaptive.enabled\",\"false\")\n",
    "spark.conf.set(\"spark.sql.adaptive.coalescePartitions.enabled\",\"false\")\n",
    "spark.conf.set(\"spark.sql.execution.arrow.enabled\",True)\n",
    "spark.conf.set(\"spark.sql.execution.arrow.fallback.enabled\",True)\n",
    "\n",
    "\"\"\"\n",
    "Create output data frame with email id and mobile num masked\n",
    "It is good to avoid using udf which degrades performance. Use spark inbuilt functions\n",
    "\"\"\"\n",
    "\n",
    "#WithoutInferSchema\n",
    "#headerTrue will read first row and assign column names but type is String for all\n",
    "#spark job created to read first column\n",
    "filepath = \"file:///C:/Users/venka/PycharmProjects/pythonProject/dataset/\"\n",
    "df = spark.read.option(\"header\",True) \\\n",
    "            .option(\"inferSchema\",True) \\\n",
    "            .option(\"delimiter\",\",\") \\\n",
    "            .csv(filepath + \"IntMaskData.csv\")"
   ]
  },
  {
   "cell_type": "code",
   "execution_count": 4,
   "id": "f3a47dd7",
   "metadata": {},
   "outputs": [
    {
     "name": "stdout",
     "output_type": "stream",
     "text": [
      "+---------------+-------------+------------+-------------------+----------+\n",
      "|Customer_number|Customer_name|customer_age|              email|    mobile|\n",
      "+---------------+-------------+------------+-------------------+----------+\n",
      "|         301053|    Azarudeen|          28|     azar@gmail.com|9842356173|\n",
      "|         305123|       Sakthi|          29|sakthi.m2@gmail.com|9764510298|\n",
      "+---------------+-------------+------------+-------------------+----------+\n",
      "\n"
     ]
    }
   ],
   "source": [
    "df.show()"
   ]
  },
  {
   "cell_type": "code",
   "execution_count": 23,
   "id": "23d2d99a",
   "metadata": {},
   "outputs": [],
   "source": [
    "def email_mask_func(colValue):\n",
    "    mail_usr = colValue.split(\"@\")[0]\n",
    "    n = len(mail_usr)\n",
    "    charList = list(mail_usr)\n",
    "    charList[1:int(n)-1]='*'*int(n-2)\n",
    "    out = \"\".join(charList)+\"@\"+colValue.split(\"@\")[1]\n",
    "    return out"
   ]
  },
  {
   "cell_type": "code",
   "execution_count": 24,
   "id": "1693bccb",
   "metadata": {},
   "outputs": [
    {
     "name": "stdout",
     "output_type": "stream",
     "text": [
      "m****d@mail.com\n"
     ]
    }
   ],
   "source": [
    "#mask\n",
    "print(email_mask_func(\"mailid@mail.com\"))"
   ]
  },
  {
   "cell_type": "code",
   "execution_count": 25,
   "id": "f00a9053",
   "metadata": {},
   "outputs": [],
   "source": [
    "def mob_mask_func(colValue):\n",
    "    n = len(colValue)\n",
    "    charList = list(colValue)\n",
    "    charList[2:int(n)-2]='x'*int(n-4)\n",
    "    out = \"\".join(charList)\n",
    "    return out"
   ]
  },
  {
   "cell_type": "code",
   "execution_count": 12,
   "id": "418fa70c",
   "metadata": {},
   "outputs": [
    {
     "data": {
      "text/plain": [
       "'98xxxxxx96'"
      ]
     },
     "execution_count": 12,
     "metadata": {},
     "output_type": "execute_result"
    }
   ],
   "source": [
    "mob_mask_func(\"9898989896\")"
   ]
  },
  {
   "cell_type": "code",
   "execution_count": 26,
   "id": "d6c1e3f8",
   "metadata": {},
   "outputs": [],
   "source": [
    "#RegisterUDF\n",
    "from pyspark.sql.functions import udf\n",
    "mask_func_mob_udf = udf(mob_mask_func,StringType())\n",
    "mask_func_email_udf = udf(email_mask_func,StringType())"
   ]
  },
  {
   "cell_type": "code",
   "execution_count": 28,
   "id": "3be2bd13",
   "metadata": {},
   "outputs": [
    {
     "name": "stdout",
     "output_type": "stream",
     "text": [
      "+---------------+-------------+------------+-------------------+----------+\n",
      "|Customer_number|Customer_name|customer_age|          emailmask|   mobmask|\n",
      "+---------------+-------------+------------+-------------------+----------+\n",
      "|         301053|    Azarudeen|          28|     a**r@gmail.com|98xxxxxx73|\n",
      "|         305123|       Sakthi|          29|s*******2@gmail.com|97xxxxxx98|\n",
      "+---------------+-------------+------------+-------------------+----------+\n",
      "\n"
     ]
    }
   ],
   "source": [
    "df1 = df.withColumn(\"emailmask\",mask_func_email_udf(df[\"email\"])) \\\n",
    "        .withColumn(\"mobmask\",mask_func_mob_udf(df[\"mobile\"].cast(StringType()))) \\\n",
    "        .drop(\"email\",\"mobile\")\n",
    "df1.show()"
   ]
  },
  {
   "cell_type": "code",
   "execution_count": 35,
   "id": "8c8b6fcc",
   "metadata": {},
   "outputs": [
    {
     "name": "stdout",
     "output_type": "stream",
     "text": [
      "+---------------+-------------+------------+-------------------+----------+--------------------+----------------+\n",
      "|Customer_number|Customer_name|customer_age|              email|    mobile|     masked_mail_usr|masked_phone_nbr|\n",
      "+---------------+-------------+------------+-------------------+----------+--------------------+----------------+\n",
      "|         301053|    Azarudeen|          28|     azar@gmail.com|9842356173|     a***r@gmail.com|   98*********73|\n",
      "|         305123|       Sakthi|          29|sakthi.m2@gmail.com|9764510298|s********2@gmail.com|   97*********98|\n",
      "+---------------+-------------+------------+-------------------+----------+--------------------+----------------+\n",
      "\n"
     ]
    }
   ],
   "source": [
    "#It is good to avoid UDF and use spark inbuilt functions for performance\n",
    "\n",
    "df.createOrReplaceTempView(\"temp_table\")\n",
    "\n",
    "query = (\n",
    "    \"SELECT *, \"\n",
    "    \"substring(split(email, '@')[0], 1, 1) || regexp_replace(substring(split(email, '@')[0], 2, length(split(email, '@')[0]) - 1), '[A-Za-z0-9_.]', '*') || \"\n",
    "    \"substring(split(email, '@')[0], -1, 1) || '@' || split(email, '@')[1] AS masked_mail_usr, \"\n",
    "    \n",
    "    \"substring(mobile, 1, 2) || regexp_replace(substring(mobile, 2, length(mobile) - 1), '[A-Za-z0-9_.]', '*') || \"\n",
    "    \"substring(mobile, -2, 2) AS masked_phone_nbr \"\n",
    "    \"FROM temp_table\"\n",
    ")\n",
    "\n",
    "result_df = spark.sql(query)\n",
    "result_df.show()"
   ]
  }
 ],
 "metadata": {
  "kernelspec": {
   "display_name": "Python 3 (ipykernel)",
   "language": "python",
   "name": "python3"
  },
  "language_info": {
   "codemirror_mode": {
    "name": "ipython",
    "version": 3
   },
   "file_extension": ".py",
   "mimetype": "text/x-python",
   "name": "python",
   "nbconvert_exporter": "python",
   "pygments_lexer": "ipython3",
   "version": "3.9.18"
  }
 },
 "nbformat": 4,
 "nbformat_minor": 5
}
