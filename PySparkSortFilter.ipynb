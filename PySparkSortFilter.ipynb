{
 "cells": [
  {
   "cell_type": "code",
   "execution_count": 30,
   "id": "fa84cdbf",
   "metadata": {},
   "outputs": [],
   "source": [
    "import findspark\n",
    "findspark.init()"
   ]
  },
  {
   "cell_type": "code",
   "execution_count": 31,
   "id": "87cd9942",
   "metadata": {},
   "outputs": [],
   "source": [
    "from pyspark.sql import SparkSession\n",
    "from pyspark.sql.functions import *\n",
    "from pyspark.sql.streaming import *\n",
    "from pyspark.sql.types import *\n",
    "\n",
    "spark = SparkSession.builder.master(\"local\").appName(\"SortFilter\").getOrCreate()\n",
    "sc = spark.sparkContext"
   ]
  },
  {
   "cell_type": "code",
   "execution_count": 32,
   "id": "f024d7a4",
   "metadata": {},
   "outputs": [
    {
     "name": "stdout",
     "output_type": "stream",
     "text": [
      "+---------------------------------+----------+---------------+-------------+--------------+----------+---------+----------+----------+----------+---------+-------------+----------+------------+----------+-----------+-------------+------------------+---------------+\n",
      "|Region                           |Country   |Item Type      |Sales Channel|Order Priority|Order Date|Order ID |Ship Date |Units Sold|Unit Price|Unit Cost|Total Revenue|Total Cost|Total Profit|Order year|Order Month|Order Weekday|Unit Margin       |Order_Ship_Days|\n",
      "+---------------------------------+----------+---------------+-------------+--------------+----------+---------+----------+----------+----------+---------+-------------+----------+------------+----------+-----------+-------------+------------------+---------------+\n",
      "|Middle East and North Africa     |Libya     |Cosmetics      |Offline      |M             |2014-10-18|686800706|2014-10-31|8446      |437.2     |263.33   |3692591.2    |2224085.18|1468506.02  |2014      |10         |fri          |173.87            |13 days        |\n",
      "|North America                    |Canada    |Vegetables     |Online       |M             |2011-11-07|185941302|2011-12-08|3018      |154.06    |90.93    |464953.08    |274426.74 |190526.34   |2011      |11         |sun          |63.13             |31 days        |\n",
      "|Middle East and North Africa     |Libya     |Baby Food      |Offline      |C             |2016-10-31|246222341|2016-12-09|1517      |255.28    |159.42   |387259.76    |241840.14 |145419.62   |2016      |10         |sun          |95.86             |39 days        |\n",
      "|Asia                             |Japan     |Cereal         |Offline      |C             |2010-04-10|161442649|2010-05-12|3322      |205.7     |117.11   |683335.4     |389039.42 |294295.98   |2010      |4          |fri          |88.58999999999999 |32 days        |\n",
      "|Sub-Saharan Africa               |Chad      |Fruits         |Offline      |H             |2011-08-16|645713555|2011-08-31|9845      |9.33      |6.92     |91853.85     |68127.4   |23726.45    |2011      |8          |mon          |2.41              |15 days        |\n",
      "|Europe                           |Armenia   |Cereal         |Online       |H             |2014-11-24|683458888|2014-12-28|9528      |205.7     |117.11   |1959909.6    |1115824.08|844085.52   |2014      |11         |sun          |88.58999999999999 |34 days        |\n",
      "|Sub-Saharan Africa               |Eritrea   |Cereal         |Online       |H             |2015-03-04|679414975|2015-04-17|2844      |205.7     |117.11   |585010.8     |333060.84 |251949.96   |2015      |3          |tue          |88.58999999999999 |44 days        |\n",
      "|Europe                           |Montenegro|Clothes        |Offline      |M             |2012-05-17|208630645|2012-06-28|7299      |109.28    |35.84    |797634.72    |261596.16 |536038.56   |2012      |5          |wed          |73.44             |42 days        |\n",
      "|Central America and the Caribbean|Jamaica   |Vegetables     |Online       |H             |2015-01-29|266467225|2015-03-07|2428      |154.06    |90.93    |374057.68    |220778.04 |153279.64   |2015      |1          |wed          |63.13             |37 days        |\n",
      "|Australia and Oceania            |Fiji      |Vegetables     |Offline      |H             |2013-12-24|118598544|2014-01-19|4800      |154.06    |90.93    |739488.0     |436464.0  |303024.0    |2013      |12         |mon          |63.13             |26 days        |\n",
      "|Sub-Saharan Africa               |Togo      |Clothes        |Online       |M             |2015-12-29|451010930|2016-01-19|3012      |109.28    |35.84    |329151.36    |107950.08 |221201.28   |2015      |12         |mon          |73.44             |21 days        |\n",
      "|Europe                           |Montenegro|Snacks         |Offline      |M             |2010-02-27|220003211|2010-03-18|2694      |152.58    |97.44    |411050.52    |262503.36 |148547.16   |2010      |2          |fri          |55.140000000000015|19 days        |\n",
      "|Europe                           |Greece    |Household      |Online       |C             |2016-11-17|702186715|2016-12-22|1508      |668.27    |502.54   |1007751.16   |757830.32 |249920.84   |2016      |11         |wed          |165.72999999999996|35 days        |\n",
      "|Sub-Saharan Africa               |Sudan     |Cosmetics      |Online       |C             |2015-12-20|544485270|2016-01-05|4146      |437.2     |263.33   |1812631.2    |1091766.18|720865.02   |2015      |12         |sat          |173.87            |16 days        |\n",
      "|Asia                             |Maldives  |Fruits         |Offline      |L             |2011-01-08|714135205|2011-02-06|7332      |9.33      |6.92     |68407.56     |50737.44  |17670.12    |2011      |1          |fri          |2.41              |29 days        |\n",
      "|Europe                           |Montenegro|Clothes        |Offline      |H             |2010-06-28|448685348|2010-07-22|4820      |109.28    |35.84    |526729.6     |172748.8  |353980.8    |2010      |6          |sun          |73.44             |24 days        |\n",
      "|Europe                           |Estonia   |Office Supplies|Online       |H             |2016-04-25|405997025|2016-05-12|2397      |651.21    |524.96   |1560950.37   |1258329.12|302621.25   |2016      |4          |sun          |126.25            |17 days        |\n",
      "|North America                    |Greenland |Beverages      |Online       |M             |2012-07-27|414244067|2012-08-07|2880      |47.45     |31.79    |136656.0     |91555.2   |45100.8     |2012      |7          |thur         |15.660000000000004|11 days        |\n",
      "|Sub-Saharan Africa               |Cape Verde|Clothes        |Online       |C             |2014-09-08|821912801|2014-10-03|1117      |109.28    |35.84    |122065.76    |40033.28  |82032.48    |2014      |9          |sun          |73.44             |25 days        |\n",
      "|Sub-Saharan Africa               |Senegal   |Household      |Offline      |L             |2012-08-27|247802054|2012-09-08|8989      |668.27    |502.54   |6007079.03   |4517332.06|1489746.97  |2012      |8          |sun          |165.72999999999996|12 days        |\n",
      "+---------------------------------+----------+---------------+-------------+--------------+----------+---------+----------+----------+----------+---------+-------------+----------+------------+----------+-----------+-------------+------------------+---------------+\n",
      "only showing top 20 rows\n",
      "\n",
      "root\n",
      " |-- Region: string (nullable = true)\n",
      " |-- Country: string (nullable = true)\n",
      " |-- Item Type: string (nullable = true)\n",
      " |-- Sales Channel: string (nullable = true)\n",
      " |-- Order Priority: string (nullable = true)\n",
      " |-- Order Date: date (nullable = true)\n",
      " |-- Order ID: integer (nullable = true)\n",
      " |-- Ship Date: date (nullable = true)\n",
      " |-- Units Sold: integer (nullable = true)\n",
      " |-- Unit Price: double (nullable = true)\n",
      " |-- Unit Cost: double (nullable = true)\n",
      " |-- Total Revenue: double (nullable = true)\n",
      " |-- Total Cost: double (nullable = true)\n",
      " |-- Total Profit: double (nullable = true)\n",
      " |-- Order year: integer (nullable = true)\n",
      " |-- Order Month: integer (nullable = true)\n",
      " |-- Order Weekday: string (nullable = true)\n",
      " |-- Unit Margin: double (nullable = true)\n",
      " |-- Order_Ship_Days: string (nullable = true)\n",
      "\n"
     ]
    }
   ],
   "source": [
    "# sql adaptive query execution adaptive.coalescePartitions.enabled will makr paritions dynamic\n",
    "sc.setLogLevel(\"Error\")\n",
    "spark.conf.set(\"spark.sql.shuffle.partitions\",3)\n",
    "spark.conf.get(\"spark.sql.shuffle.partitions\")\n",
    "spark.conf.set(\"spark.sql.adaptive.enabled\",\"true\")\n",
    "spark.conf.set(\"spark.sql.adaptive.coalescePartitions.enabled\",\"true\")\n",
    "\n",
    "\"\"\"\n",
    "Which one results faster\n",
    "1.filter > sort > count\n",
    "2.sort > filter > count\n",
    "3.cache > filter > sort\n",
    "4.cache > sort > filter\n",
    "\"\"\"\n",
    "\n",
    "filepath = \"file:///C:/Users/venka/PycharmProjects/pythonProject/dataset/\"\n",
    "\n",
    "df1=spark.read.csv(filepath + \"SortFilterSales.csv\",header=True,inferSchema=True)\n",
    "#.option('delimiter','~|') can't be more than one character error\n",
    "\n",
    "df1.show(truncate=0)\n",
    "df1.printSchema()"
   ]
  },
  {
   "cell_type": "code",
   "execution_count": 33,
   "id": "e08cafb7",
   "metadata": {},
   "outputs": [
    {
     "name": "stdout",
     "output_type": "stream",
     "text": [
      "Sort records 0\n",
      "== Physical Plan ==\n",
      "LocalTableScan <empty>, [Region#3104, Country#3105, Item Type#3106, Sales Channel#3107, Order Priority#3108, Order Date#3109, Order ID#3110, Ship Date#3111, Units Sold#3112, Unit Price#3113, Unit Cost#3114, Total Revenue#3115, Total Cost#3116, Total Profit#3117, Order year#3118, Order Month#3119, Order Weekday#3120, Unit Margin#3121, Order_Ship_Days#3122]\n",
      "\n",
      "\n",
      "CPU times: total: 0 ns\n",
      "Wall time: 74.8 ms\n"
     ]
    }
   ],
   "source": [
    "%%time\n",
    "df_meth1_filter = df1.filter('\"Sales Channel\" == \"Online\"')\n",
    "df_meth1_sort = df_meth1_filter.sort(\"Order Date\")\n",
    "df_meth1_count = df_meth1_sort.count()\n",
    "print(f\"Sort records {df_meth1_count}\")\n",
    "\n",
    "df_meth1_sort.explain()"
   ]
  },
  {
   "cell_type": "code",
   "execution_count": 34,
   "id": "727789f3",
   "metadata": {},
   "outputs": [
    {
     "name": "stdout",
     "output_type": "stream",
     "text": [
      "Sort records 0\n",
      "== Physical Plan ==\n",
      "LocalTableScan <empty>, [Region#3104, Country#3105, Item Type#3106, Sales Channel#3107, Order Priority#3108, Order Date#3109, Order ID#3110, Ship Date#3111, Units Sold#3112, Unit Price#3113, Unit Cost#3114, Total Revenue#3115, Total Cost#3116, Total Profit#3117, Order year#3118, Order Month#3119, Order Weekday#3120, Unit Margin#3121, Order_Ship_Days#3122]\n",
      "\n",
      "\n",
      "CPU times: total: 0 ns\n",
      "Wall time: 72.6 ms\n"
     ]
    }
   ],
   "source": [
    "%%time\n",
    "df_meth2_sort = df1.sort(\"Order Date\")\n",
    "df_meth2_filter = df_meth2_sort.filter('\"Sales Channel\" == \"Online\"')\n",
    "df_meth2_count = df_meth2_filter.count()\n",
    "print(f\"Sort records {df_meth2_count}\")\n",
    "\n",
    "df_meth2_filter.explain()"
   ]
  },
  {
   "cell_type": "code",
   "execution_count": 35,
   "id": "cca36118",
   "metadata": {},
   "outputs": [
    {
     "name": "stdout",
     "output_type": "stream",
     "text": [
      "Sort records 0\n",
      "== Physical Plan ==\n",
      "LocalTableScan <empty>, [Region#4444, Country#4445, Item Type#4446, Sales Channel#4447, Order Priority#4448, Order Date#4449, Order ID#4450, Ship Date#4451, Units Sold#4452, Unit Price#4453, Unit Cost#4454, Total Revenue#4455, Total Cost#4456, Total Profit#4457, Order year#4458, Order Month#4459, Order Weekday#4460, Unit Margin#4461, Order_Ship_Days#4462]\n",
      "\n",
      "\n",
      "CPU times: total: 15.6 ms\n",
      "Wall time: 320 ms\n"
     ]
    }
   ],
   "source": [
    "%%time\n",
    "df2=spark.read.csv(filepath + \"SortFilterSales.csv\",header=True,inferSchema=True)\n",
    "df2.cache()\n",
    "df_meth3_filter = df2.filter('\"Sales Channel\" == \"Online\"')\n",
    "df_meth3_sort = df_meth3_filter.sort(\"Order Date\")\n",
    "df_meth3_count = df_meth3_sort.count()\n",
    "print(f\"Sort records {df_meth3_count}\")\n",
    "\n",
    "df_meth3_sort.explain()"
   ]
  },
  {
   "cell_type": "code",
   "execution_count": 36,
   "id": "8cda5e57",
   "metadata": {},
   "outputs": [
    {
     "name": "stdout",
     "output_type": "stream",
     "text": [
      "Sort records 0\n",
      "== Physical Plan ==\n",
      "LocalTableScan <empty>, [Region#4904, Country#4905, Item Type#4906, Sales Channel#4907, Order Priority#4908, Order Date#4909, Order ID#4910, Ship Date#4911, Units Sold#4912, Unit Price#4913, Unit Cost#4914, Total Revenue#4915, Total Cost#4916, Total Profit#4917, Order year#4918, Order Month#4919, Order Weekday#4920, Unit Margin#4921, Order_Ship_Days#4922]\n",
      "\n",
      "\n",
      "CPU times: total: 0 ns\n",
      "Wall time: 262 ms\n"
     ]
    }
   ],
   "source": [
    "%%time\n",
    "df3=spark.read.csv(filepath + \"SortFilterSales.csv\",header=True,inferSchema=True)\n",
    "df3.cache()\n",
    "df_meth4_sort = df3.sort(\"Order Date\")\n",
    "df_meth4_filter = df_meth4_sort.filter('\"Sales Channel\" == \"Online\"')\n",
    "df_meth4_count = df_meth4_filter.count()\n",
    "print(f\"Sort records {df_meth4_count}\")\n",
    "\n",
    "df_meth4_filter.explain()"
   ]
  }
 ],
 "metadata": {
  "kernelspec": {
   "display_name": "Python 3 (ipykernel)",
   "language": "python",
   "name": "python3"
  },
  "language_info": {
   "codemirror_mode": {
    "name": "ipython",
    "version": 3
   },
   "file_extension": ".py",
   "mimetype": "text/x-python",
   "name": "python",
   "nbconvert_exporter": "python",
   "pygments_lexer": "ipython3",
   "version": "3.9.18"
  }
 },
 "nbformat": 4,
 "nbformat_minor": 5
}
