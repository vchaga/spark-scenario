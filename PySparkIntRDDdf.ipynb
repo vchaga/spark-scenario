{
 "cells": [
  {
   "cell_type": "code",
   "execution_count": 2,
   "id": "fa84cdbf",
   "metadata": {},
   "outputs": [],
   "source": [
    "import findspark\n",
    "findspark.init()"
   ]
  },
  {
   "cell_type": "code",
   "execution_count": 3,
   "id": "87cd9942",
   "metadata": {},
   "outputs": [],
   "source": [
    "from pyspark.sql import SparkSession\n",
    "from pyspark.sql.functions import *\n",
    "from pyspark.sql.streaming import *\n",
    "from pyspark.sql.types import *\n",
    "\n",
    "spark = SparkSession.builder.master(\"local\").appName(\"RDDtoDF\").getOrCreate()\n",
    "sc = spark.sparkContext"
   ]
  },
  {
   "cell_type": "code",
   "execution_count": 11,
   "id": "f024d7a4",
   "metadata": {},
   "outputs": [
    {
     "data": {
      "text/plain": [
       "[['raj'], ['shyam'], ['Madhu']]"
      ]
     },
     "execution_count": 11,
     "metadata": {},
     "output_type": "execute_result"
    }
   ],
   "source": [
    "# sql adaptive query execution adaptive.coalescePartitions.enabled will makr paritions dynamic\n",
    "sc.setLogLevel(\"Error\")\n",
    "spark.conf.set(\"spark.sql.shuffle.partitions\",3)\n",
    "spark.conf.get(\"spark.sql.shuffle.partitions\")\n",
    "spark.conf.set(\"spark.sql.adaptive.enabled\",\"false\")\n",
    "spark.conf.set(\"spark.sql.adaptive.coalescePartitions.enabled\",\"false\")\n",
    "\n",
    "\"\"\"\n",
    "RDD(list) to DF(Row) is good, but DF(Row) to RDD becomes of row type\n",
    "\"\"\"\n",
    "input = [[\"raj\"],[\"shyam\"],[\"Madhu\"]]\n",
    "input_rdd = sc.parallelize(input)"
   ]
  },
  {
   "cell_type": "code",
   "execution_count": 12,
   "id": "14a84997",
   "metadata": {},
   "outputs": [
    {
     "data": {
      "text/plain": [
       "pyspark.rdd.RDD"
      ]
     },
     "execution_count": 12,
     "metadata": {},
     "output_type": "execute_result"
    }
   ],
   "source": [
    "type(input_rdd)"
   ]
  },
  {
   "cell_type": "code",
   "execution_count": 13,
   "id": "692cc390",
   "metadata": {},
   "outputs": [
    {
     "data": {
      "text/plain": [
       "[['raj'], ['shyam'], ['Madhu']]"
      ]
     },
     "execution_count": 13,
     "metadata": {},
     "output_type": "execute_result"
    }
   ],
   "source": [
    "input_rdd.collect()"
   ]
  },
  {
   "cell_type": "code",
   "execution_count": 17,
   "id": "ad818a23",
   "metadata": {},
   "outputs": [],
   "source": [
    "#RDDtoDF\n",
    "df = spark.createDataFrame(input_rdd,[\"name\"])\n",
    "#df = input_rdd.toDF()"
   ]
  },
  {
   "cell_type": "code",
   "execution_count": 18,
   "id": "6b84aa80",
   "metadata": {},
   "outputs": [
    {
     "data": {
      "text/plain": [
       "pyspark.sql.dataframe.DataFrame"
      ]
     },
     "execution_count": 18,
     "metadata": {},
     "output_type": "execute_result"
    }
   ],
   "source": [
    "type(df)"
   ]
  },
  {
   "cell_type": "code",
   "execution_count": 20,
   "id": "7c2e62a8",
   "metadata": {},
   "outputs": [
    {
     "data": {
      "text/plain": [
       "[Row(name='raj'), Row(name='shyam'), Row(name='Madhu')]"
      ]
     },
     "execution_count": 20,
     "metadata": {},
     "output_type": "execute_result"
    }
   ],
   "source": [
    "df.collect()"
   ]
  },
  {
   "cell_type": "code",
   "execution_count": 24,
   "id": "2cde6211",
   "metadata": {},
   "outputs": [],
   "source": [
    "rdd2 = df.rdd"
   ]
  },
  {
   "cell_type": "code",
   "execution_count": 26,
   "id": "6e0342b6",
   "metadata": {},
   "outputs": [
    {
     "data": {
      "text/plain": [
       "pyspark.rdd.RDD"
      ]
     },
     "execution_count": 26,
     "metadata": {},
     "output_type": "execute_result"
    }
   ],
   "source": [
    "type(rdd2)"
   ]
  },
  {
   "cell_type": "code",
   "execution_count": 28,
   "id": "ee48d672",
   "metadata": {},
   "outputs": [
    {
     "data": {
      "text/plain": [
       "[Row(name='raj'), Row(name='shyam'), Row(name='Madhu')]"
      ]
     },
     "execution_count": 28,
     "metadata": {},
     "output_type": "execute_result"
    }
   ],
   "source": [
    "rdd2.collect()"
   ]
  },
  {
   "cell_type": "code",
   "execution_count": 39,
   "id": "6eda2335",
   "metadata": {},
   "outputs": [],
   "source": [
    "rdd3 = df.rdd.map(lambda x: [*x])"
   ]
  },
  {
   "cell_type": "code",
   "execution_count": 40,
   "id": "73d71f46",
   "metadata": {},
   "outputs": [
    {
     "data": {
      "text/plain": [
       "pyspark.rdd.PipelinedRDD"
      ]
     },
     "execution_count": 40,
     "metadata": {},
     "output_type": "execute_result"
    }
   ],
   "source": [
    "type(rdd3)"
   ]
  },
  {
   "cell_type": "code",
   "execution_count": 41,
   "id": "59838e72",
   "metadata": {},
   "outputs": [
    {
     "data": {
      "text/plain": [
       "[['raj'], ['shyam'], ['Madhu']]"
      ]
     },
     "execution_count": 41,
     "metadata": {},
     "output_type": "execute_result"
    }
   ],
   "source": [
    "rdd3.collect()"
   ]
  }
 ],
 "metadata": {
  "kernelspec": {
   "display_name": "Python 3 (ipykernel)",
   "language": "python",
   "name": "python3"
  },
  "language_info": {
   "codemirror_mode": {
    "name": "ipython",
    "version": 3
   },
   "file_extension": ".py",
   "mimetype": "text/x-python",
   "name": "python",
   "nbconvert_exporter": "python",
   "pygments_lexer": "ipython3",
   "version": "3.9.18"
  }
 },
 "nbformat": 4,
 "nbformat_minor": 5
}
